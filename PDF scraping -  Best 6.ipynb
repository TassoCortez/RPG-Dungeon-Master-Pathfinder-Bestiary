{
 "cells": [
  {
   "cell_type": "code",
   "execution_count": 1,
   "id": "42808b9b-e9e9-4f3a-bd57-768bc5b0978a",
   "metadata": {},
   "outputs": [],
   "source": [
    "import PIL\n",
    "import fitz\n",
    "import pandas as pd \n",
    "from PIL import Image\n",
    "import io\n",
    "import re"
   ]
  },
  {
   "cell_type": "code",
   "execution_count": 2,
   "id": "bc749aa4-81c2-4cbf-acd2-3919e623f121",
   "metadata": {},
   "outputs": [],
   "source": [
    "doc = fitz.open('Data/Pathfinder_Bestiary_6.pdf') # abrindo o PDF\n"
   ]
  },
  {
   "cell_type": "markdown",
   "id": "2aea5966-ff97-4c68-b1f3-49ce11728ed8",
   "metadata": {},
   "source": [
    "obs:\n",
    "         \n"
   ]
  },
  {
   "cell_type": "markdown",
   "id": "d53ff4dc-9420-4822-870b-6f5a26826bd3",
   "metadata": {},
   "source": [
    "# Tratamenteo para pegar imagem"
   ]
  },
  {
   "cell_type": "code",
   "execution_count": 18,
   "id": "f4feaf74-5365-44ba-b038-185933bb3e43",
   "metadata": {},
   "outputs": [],
   "source": [
    "def req_image (argumento):\n",
    "    '''recebe um int(numero da pagina), substitue este valor e extrai a imagem da pg em questão'''\n",
    "    page_image = doc[argumento] # salvando a pagina [numero da pagina] como page\n",
    "    \n",
    "    list_image = page_image.get_images() #  lista de imagens da pagina escolhida\n",
    "\n",
    "    for item in list_image: \n",
    "            if item[3] >100 and item[3] != 1669 and item[2] >150 and item[3] != 1636 and item[2] != 205:   # escolha da imagem pelo tamanho, quarto parametro acima de 100 e diferente de 1603, oitvo parametro da imagem igual a DCTDecode \n",
    "                img_creature = item\n",
    "            else:\n",
    "                ''\n",
    "    imagem_isolada = doc.extract_image(img_creature[0])['image']\n",
    "    \n",
    "    return imagem_isolada\n",
    "    "
   ]
  },
  {
   "cell_type": "code",
   "execution_count": 4,
   "id": "326536f8-8250-4d67-9c79-56ac980b83d6",
   "metadata": {},
   "outputs": [],
   "source": [
    "# req_image(95) # teste para imagem\n",
    "# \n",
    "# print('ok')\n",
    "# "
   ]
  },
  {
   "cell_type": "code",
   "execution_count": 5,
   "id": "061d1a3b-d936-4e5f-ae9c-4ea819259c7a",
   "metadata": {},
   "outputs": [],
   "source": [
    "# Imagem_pronta = PIL.Image.open(io.BytesIO(req_image(9)))  # para testar se a função está funcionando.\n",
    "# Imagem_pronta"
   ]
  },
  {
   "cell_type": "code",
   "execution_count": 6,
   "id": "502dca4d-e31b-4170-b390-dfbce2a24042",
   "metadata": {},
   "outputs": [],
   "source": [
    "#  Funcio citada acima isolada para tentar onde está algum problema   \n",
    "\n",
    "\n",
    "#   page_image = doc[269] # salvando a pagina [numero da pagina] como page\n",
    "#   \n",
    "#   list_image = page_image.get_images() #  lista de imagens da pagina escolhida\n",
    "#   \n",
    "#   print(list_image)\n",
    "#   \n",
    "#   for item in list_image: \n",
    "#           if item[3] >100 and item[3] != 1603 and item[2] >150 and item[8] == 'DCTDecode' :   # escolha da imagem pelo tamanho, quarto parametro acima de 100 e diferente de 1603, oitvo parametro da imagem igual a DCTDecode \n",
    "#               img_creature = item\n",
    "#               print(item)\n",
    "#           else:\n",
    "#               ''\n",
    "#   imagem_isolada = doc.extract_image(img_creature[0])['image']\n",
    "#   \n",
    "#   imagem_isolada\n",
    "#   \n",
    "#   "
   ]
  },
  {
   "cell_type": "code",
   "execution_count": 7,
   "id": "fba284d0-b632-4f4a-a791-1a564ece6b0f",
   "metadata": {},
   "outputs": [],
   "source": [
    "# page_image = doc[7] # salvando a pagina [numero da pagina] como page\n",
    "\n",
    "# list_image = page_image.get_images() #  lista de imagens da pagina escolhida\n",
    "\n",
    "# imagem_isolada = doc.extract_image(list_image[1][0])['image']"
   ]
  },
  {
   "cell_type": "code",
   "execution_count": 8,
   "id": "b78321bf-d18b-476c-892f-d3607c1d87b0",
   "metadata": {},
   "outputs": [],
   "source": [
    "# list_image"
   ]
  },
  {
   "cell_type": "code",
   "execution_count": 9,
   "id": "f4a4a0fc-cffb-495d-9de8-80843f7d4dcc",
   "metadata": {},
   "outputs": [],
   "source": [
    "# Imagem_pronta = PIL.Image.open(io.BytesIO(imagem_isolada))  # para testar se a função está funcionando.\n",
    "# Imagem_pronta"
   ]
  },
  {
   "cell_type": "markdown",
   "id": "53766e9c-a797-4315-986e-0c4c81948e22",
   "metadata": {},
   "source": [
    "# Tratamento para pegar nome do monstro"
   ]
  },
  {
   "cell_type": "code",
   "execution_count": 19,
   "id": "b223b09f-c351-4a75-af05-77b956059534",
   "metadata": {},
   "outputs": [],
   "source": [
    "def req_text(argument):\n",
    "    \n",
    "    '''Função recebe um int(numero da pagina) e retorna o nome limpo que está com a segunda coordenada de 135.28799438476562  '''\n",
    "    \n",
    "    page_text = doc[argument]  # salvando a pagina [numero da pagina] como page_text \n",
    "\n",
    "    words = page_text.get_text(\"words\")  # extraindo todas as palavras da pagina 1\n",
    "    \n",
    "    lista_nomes = []\n",
    "    \n",
    "    for i in words:   # for para pegar o nomes do monstro na pagina. So funciona se o nome estiver com o segundo valor de 135.28799438476562\n",
    "        \n",
    "        for image in i:\n",
    "            if image == 135.80999755859375:\n",
    "                \n",
    "                x = i[4]\n",
    "                \n",
    "                lista_nomes.append(x+' ')\n",
    "            \n",
    "            else:\n",
    "                ''\n",
    "    \n",
    "    lista_nomes_sujos =''.join(lista_nomes)  \n",
    "    \n",
    "    \n",
    "    if re.findall('.*?\\d+/?\\d?',lista_nomes_sujos) != []: # if para separar os nomes quando aparece algum numero\n",
    "        lista_nomes_limpa = re.findall('.*?\\d+/?\\d?',lista_nomes_sujos)\n",
    "    \n",
    "    else: # else para selecionar os nomes que não tem numero\n",
    "        lista_nomes_limpa = re.findall('\\w*.\\w*',lista_nomes_sujos)\n",
    "    \n",
    "    lista_nomes_limpa2 = [n.replace('/','_') for n in lista_nomes_limpa]    \n",
    "    \n",
    "    lista_nomes_limpa3 = [n.replace('\\t',' ') for n in lista_nomes_limpa2] # limpando o nome do monstro. \n",
    "    \n",
    "    \n",
    "    return lista_nomes_limpa3\n",
    "\n"
   ]
  },
  {
   "cell_type": "code",
   "execution_count": 13,
   "id": "5be55f73-b4f3-4883-9498-9a2680f9c558",
   "metadata": {},
   "outputs": [],
   "source": [
    "#  img_name_test = [] # test para ver se os nomes estao funcionando\n",
    "#  \n",
    "#  for i in range(7,288):\n",
    "#      x = req_text(i)\n",
    "#      img_name_test.append(x)\n",
    "#  "
   ]
  },
  {
   "cell_type": "code",
   "execution_count": 14,
   "id": "aaa85fc5-c82b-433b-83c9-ab28a5a45b0a",
   "metadata": {},
   "outputs": [],
   "source": [
    "# print (img_name_test)  "
   ]
  },
  {
   "cell_type": "code",
   "execution_count": 15,
   "id": "5f89fb34-2724-4666-baad-068f5f13aa11",
   "metadata": {},
   "outputs": [],
   "source": [
    "# page_text = doc[7]  # salvando a pagina [numero da pagina] como page_text \n",
    "# words = page_text.get_text(\"words\")  # extraindo todas as palavras da pagina 1"
   ]
  },
  {
   "cell_type": "code",
   "execution_count": null,
   "id": "53179f4f-7947-406e-b235-92e34b412a41",
   "metadata": {},
   "outputs": [],
   "source": []
  },
  {
   "cell_type": "code",
   "execution_count": 16,
   "id": "12d18daa-3228-45b6-bba2-a1f30d3a9896",
   "metadata": {},
   "outputs": [],
   "source": [
    "# x = req_text(92)  # para testar se a função está funcionando\n",
    "# x\n",
    "# name_monster = str(req_text(16)[0])\n",
    "# name_monster"
   ]
  },
  {
   "cell_type": "markdown",
   "id": "9cc8f5df-884f-4326-afcc-242c06cca3fa",
   "metadata": {},
   "source": [
    "# Funcao para salvar a imagem com o nome certo"
   ]
  },
  {
   "cell_type": "code",
   "execution_count": 20,
   "id": "1dd4322f-0f6f-4390-bcba-fde8f95da102",
   "metadata": {},
   "outputs": [],
   "source": [
    "\n",
    "def img_names_b6 (pg):\n",
    "    '''Funcao recebe o numero da pagina, roda a função para pegar o nome do monstro. \n",
    "    caso o nome do monstro não seja um grupo vzio, tenta rodar a função para pegar a image. Caso a função da imagem de erro, pega a imagem da proxima pagina. e salva na pasta escolhida.\n",
    "    \n",
    "    Caso o nome do monstro seja vazio, não tentar pegar mais nada e retorna a menssagem 'Vazio' '''   \n",
    "    \n",
    "\n",
    "    if req_text (pg) != []: # if para filtrar quando há nome na pagina\n",
    "        names = (req_text (pg))    \n",
    "\n",
    "        for item in names:   # rodando este For para pegar cada item separado quando ha mais de 1 monstro por pagina\n",
    "            item = str(item)\n",
    "            name_monster = item\n",
    "            \n",
    "        #name_monster = str(req_text(pg)[0])  # funcao req_text para pegar o nome do monstro e tranfomando o nome em str\n",
    "            try:\n",
    "                    imagem_pronta = PIL.Image.open(io.BytesIO(req_image(pg)))# abrindo a imagem gerada pela funcao req_image\n",
    "                \n",
    "                    imagem_pronta.save('C:/Users/Escanor/Desktop/Iron HAck/Projetos/Projeto obrigatorio/Pathfinder/img_name_b6/'+name_monster+'.jpg')\n",
    "                \n",
    "                    print ('imagem salva com o nome de :'+name_monster)\n",
    "                                              \n",
    "            except:\n",
    "                    imagem_pronta = PIL.Image.open(io.BytesIO(req_image(pg+1)))# abrindo a imagem gerada pela funcao req_image\n",
    "                \n",
    "                    imagem_pronta.save('C:/Users/Escanor/Desktop/Iron HAck/Projetos/Projeto obrigatorio/Pathfinder/img_name_b6/'+name_monster+'.jpg')\n",
    "                \n",
    "                    return 'imagem da proxima pagina salva com o nome de :'+ name_monster\n",
    "\n",
    "    \n",
    "    elif req_text (pg) == []: # elif para filtrar quando não ha nome da pagina\n",
    "        return 'vazio'\n",
    "        \n",
    "    \n",
    "    else: # else para ajudar caso de algum erro em algum lugar estranho. \n",
    "        return 'erro'\n",
    "    \n",
    "    return 'image(s) Salva'\n"
   ]
  },
  {
   "cell_type": "code",
   "execution_count": 21,
   "id": "1144f0ff-94db-4c6a-8d8f-5ec3db2d3e41",
   "metadata": {},
   "outputs": [
    {
     "name": "stdout",
     "output_type": "stream",
     "text": [
      "imagem salva com o nome de :ALP CR 10\n",
      "imagem salva com o nome de :GIANT BELOSTOMATID CR 3\n",
      "imagem salva com o nome de : GIANT HELLGRAMMITE CR 5\n",
      "imagem salva com o nome de :ATUIKAKURA  CR 14\n",
      "imagem salva com o nome de :UINUJA  CR 15\n",
      "imagem salva com o nome de :YAMAH  CR 5\n",
      "imagem salva com o nome de :BANELIGHT  CR 12\n",
      "imagem salva com o nome de :CAVE BLIGHT  CR 19\n",
      "imagem salva com o nome de :DESERT BLIGHT  CR 13\n",
      "imagem salva com o nome de :FOREST BLIGHT  CR 18\n",
      "imagem salva com o nome de :MOUNTAIN BLIGHT  CR 14\n",
      "imagem salva com o nome de :SEWER BLIGHT  CR 15\n",
      "imagem salva com o nome de :SWAMP BLIGHT  CR 17\n",
      "imagem salva com o nome de :TUNDRA BLIGHT  CR 16\n",
      "imagem salva com o nome de :BLOOD BRAMBLE CR 10\n",
      "imagem salva com o nome de :BLOODY BONES CR 10\n",
      "imagem salva com o nome de :BOGGART CR 4\n",
      "imagem salva com o nome de :BOGGLE CR 8\n",
      "imagem salva com o nome de :BONETHORN CR 12\n",
      "imagem salva com o nome de :CALPINA CR 3\n",
      "imagem salva com o nome de :CLOCKWORK ANGEL CR 15\n",
      "imagem salva com o nome de :CLOCKWORK ASSASSIN CR 13\n",
      "imagem salva com o nome de :CLOCKWORK FIEND CR 17\n",
      "imagem salva com o nome de :CLOCKWORK GUARDIAN CR 8\n",
      "imagem salva com o nome de :CLOCKWORK HOUND CR 5\n",
      "imagem salva com o nome de :COMBUSTED CR 3\n",
      "imagem salva com o nome de :CORAL CAPUCHIN CR 1\n",
      "imagem salva com o nome de :CRYPT FLOWER CR 7\n",
      "imagem salva com o nome de :CRYPTGUARD CR 9\n",
      "imagem salva com o nome de :CUTLASS SPIDER CR 6\n",
      "imagem salva com o nome de :ERODAEMON CR 11\n",
      "imagem salva com o nome de :LACRIDAEMON CR 3\n",
      "imagem salva com o nome de :PHASMADAEMON CR 17\n",
      "imagem salva com o nome de :SANGUDAEMON CR 9\n",
      "imagem salva com o nome de :SUSPIRIDAEMON CR 7\n",
      "imagem salva com o nome de :TEMERDAEMON CR 14\n",
      "imagem salva com o nome de :VENEDAEMON CR 5\n",
      "imagem salva com o nome de :DAITENGU CR 10\n",
      "imagem salva com o nome de :DANTHIENNE  CR 5\n",
      "imagem salva com o nome de :DEATHSNATCHER  CR 18\n",
      "imagem salva com o nome de :DEEP WALKER  CR 14\n",
      "imagem salva com o nome de :BRIMORAK  CR 5\n",
      "imagem salva com o nome de :VERMLEK  CR 3\n",
      "imagem salva com o nome de :YAENIT  CR 6\n",
      "imagem salva com o nome de :DERRO MAGISTER  CR 5\n",
      "imagem salva com o nome de :DEVIL MONKEY  CR 6\n",
      "imagem salva com o nome de :AMARGASAURUS  CR 6\n",
      "imagem salva com o nome de : GIGANOTOSAURUS  CR 13\n",
      "imagem salva com o nome de :QUETZALCOATLUS  CR 7\n",
      "imagem salva com o nome de : KENTROSAURUS  CR 5\n",
      "imagem salva com o nome de :WEREMANTIS (HUMAN FORM) CR 4\n",
      "imagem salva com o nome de :WERESPIDER (HUMAN FORM) CR 2\n",
      "imagem salva com o nome de :WEREWASP (ELF FORM) CR 5\n",
      "imagem salva com o nome de :COMMON EURYPTERID CR 1\n",
      "imagem salva com o nome de : SPINY EURYPTERID CR 9\n",
      "imagem salva com o nome de :EXILED SHADE CR 6\n",
      "imagem salva com o nome de :FALLEN CR 8\n",
      "imagem salva com o nome de :FEN MAULER CR 10\n",
      "imagem salva com o nome de :FIRE WHALE CR 16\n",
      "imagem salva com o nome de :DUNKLEOSTEUS CR 6\n",
      "imagem salva com o nome de : PIRANHA SWARM CR 3\n",
      "imagem salva com o nome de :GHOLE CR 12\n",
      "imagem salva com o nome de :MOUNTAIN GIANT CR 18\n",
      "imagem salva com o nome de :PLAGUE GIANT CR 14\n",
      "imagem salva com o nome de :GIANT, SHADOW CR 13\n",
      "imagem salva com o nome de :GIANT, TOMB CR 12\n",
      "imagem salva com o nome de :GLUTTONGRASS CR 1\n",
      "imagem salva com o nome de :MONKEY GOBLIN CR 1_2\n",
      "imagem salva com o nome de :GOEZSPALL CR 14\n",
      "imagem salva com o nome de :GOLD GOLEM CR 15\n",
      "imagem salva com o nome de :OBSIDIAN GOLEM CR 12\n",
      "imagem salva com o nome de :QUINTESSENCE GOLEM CR 20\n",
      "imagem salva com o nome de :VIRIDIUM GOLEM CR 18\n",
      "imagem salva com o nome de :GOWROW  CR 5\n",
      "imagem salva com o nome de :GRAVESLUDGE  CR 12\n",
      "imagem salva com o nome de :HORLA  CR 8\n",
      "imagem salva com o nome de :HUPIA  CR 6\n",
      "imagem salva com o nome de :CRIMSON JELLYFISH  CR 4\n",
      "imagem salva com o nome de : WHALER JELLYFISH  CR 17\n",
      "imagem salva com o nome de :KAMAITACHI  CR 13\n",
      "imagem salva com o nome de :KIKITUK  CR 13\n",
      "imagem salva com o nome de :LENG HOUND  CR 10\n",
      "imagem salva com o nome de :LLORONA  CR 11\n",
      "imagem salva com o nome de :LOVELORN  CR 4\n",
      "imagem salva com o nome de :MAPINGUARI  CR 11\n",
      "imagem salva com o nome de :BRONTOTHERIUM  CR 8\n",
      "imagem salva com o nome de : DEINOTHERIUM  CR 7\n",
      "imagem salva com o nome de :ELASMOTHERIUM  CR 9\n",
      "imagem salva com o nome de : TITANOBOA  CR 13\n",
      "imagem salva com o nome de :MIRE NETTLE  CR 2\n",
      "imagem salva com o nome de :MOCKINGFEY  CR 1\n",
      "imagem salva com o nome de :MOKELE-MBEMBE  CR 9\n",
      "imagem salva com o nome de :MOLDWRETCH  CR 7\n",
      "imagem salva com o nome de :MUHURU CR 10\n",
      "imagem salva com o nome de :MUNAVRI CR 1\n",
      "imagem salva com o nome de :DREAM NAGA CR 9\n",
      "imagem salva com o nome de :SLIME NAGA CR 9\n",
      "imagem salva com o nome de :NAIAD CR 1_2\n",
      "imagem salva com o nome de :NEKOMATA CR 6\n",
      "imagem salva com o nome de :AZURETZI  CR 5\n",
      "imagem salva com o nome de :HEGESSIK  CR 15\n",
      "imagem salva com o nome de :OSHAGEROS  CR 13\n",
      "imagem salva com o nome de :OURDIVAR  CR 4\n",
      "imagem salva com o nome de :PELAGASTR  CR 8\n",
      "imagem salva com o nome de :PSOGLAV  CR 13\n",
      "imagem salva com o nome de :PSYCHIC STALKER  CR 7\n",
      "imagem salva com o nome de :ALGEA  CR 11\n",
      "imagem salva com o nome de :ESOBOK  CR 3\n",
      "imagem salva com o nome de :MEMITIM  CR 15\n",
      "imagem salva com o nome de :SHOKI  CR 9\n",
      "imagem salva com o nome de :VIDUUS  CR 4\n",
      "imagem salva com o nome de :BEHIMIRON  CR 13\n",
      "imagem salva com o nome de :CATABOLIGNE  CR 16\n",
      "imagem salva com o nome de :GORGOROS  CR 9\n",
      "imagem salva com o nome de :HYDRAGGON  CR 3\n",
      "imagem salva com o nome de :UTUKKU  CR 8\n",
      "imagem salva com o nome de :GIANT RAVEN CR 1\n",
      "imagem salva com o nome de : RAVEN SWARM CR 3\n",
      "imagem salva com o nome de :RAWHEAD CR 14\n",
      "imagem salva com o nome de :ROUGAROU CR 1_2\n",
      "imagem salva com o nome de :ICHKOH CR 7\n",
      "imagem salva com o nome de :ZOHANIL CR 10\n",
      "imagem salva com o nome de :SAURIAN CR 16\n",
      "imagem salva com o nome de :COFFIN ANEMONE CR 1\n",
      "imagem salva com o nome de : SIREN’S BED ANEMONE CR 9\n",
      "imagem salva com o nome de :GIANT TUBE WORM CR 2\n",
      "imagem salva com o nome de : HOOKFANG WORM CR 7\n",
      "imagem salva com o nome de :SKINCRAWLER CR 1_2\n",
      "imagem salva com o nome de :SKRIMSL CR 13\n",
      "imagem salva com o nome de :DUNESHAKER  CR 18\n",
      "imagem salva com o nome de : RAZORMOUTH  CR 11\n",
      "imagem salva com o nome de :GIANT STARFISH  CR 8\n",
      "imagem salva com o nome de :GIANT SUNDEW  CR 12\n",
      "imagem salva com o nome de :TANIWHA  CR 6\n",
      "imagem salva com o nome de :TARANTULA TREE  CR 19\n",
      "imagem salva com o nome de :TARGOTHA  CR 15\n",
      "imagem salva com o nome de :TENOME  CR 4\n",
      "imagem salva com o nome de :THESSALHYDRA  CR 18\n",
      "imagem salva com o nome de :TRAILGAUNT  CR 3\n",
      "imagem salva com o nome de :CULTIST TROOP  CR 11\n",
      "imagem salva com o nome de :GOBLIN TROOP  CR 5\n",
      "imagem salva com o nome de : OUTLAW TROOP  CR 7\n",
      "imagem salva com o nome de :UNRISEN  CR 5\n",
      "imagem salva com o nome de :URHAG  CR 3\n",
      "imagem salva com o nome de :VESPERGAUNT  CR 12\n",
      "imagem salva com o nome de :VRYKOLAKAS  CR 10\n",
      "imagem salva com o nome de :WARMONGER  CR 19\n",
      "imagem salva com o nome de :TITANIC WHIP SPIDER  CR 16\n",
      "imagem salva com o nome de :WILD HUNT ARCHER  CR 13\n",
      "imagem salva com o nome de :WILD HUNT HORSE  CR 11\n",
      "imagem salva com o nome de :WILD HUNT HOUND  CR 10\n",
      "imagem salva com o nome de :WILD HUNT SCOUT  CR 15\n",
      "imagem salva com o nome de :YADDITHIAN  CR 8\n",
      "imagem salva com o nome de :YUREI  CR 12\n",
      "imagem salva com o nome de :GIANT ANT SPORE ZOMBIE  CR 3\n"
     ]
    }
   ],
   "source": [
    "for i in range (7,288):\n",
    "    img_names_b6(i)"
   ]
  },
  {
   "cell_type": "code",
   "execution_count": 142,
   "id": "6a89c341-515f-43df-996c-cf228aa2c077",
   "metadata": {},
   "outputs": [],
   "source": [
    "#  page_text = doc[92]  # salvando a pagina [numero da pagina] como page_text \n",
    "#  words = page_text.get_text(\"words\") "
   ]
  },
  {
   "cell_type": "code",
   "execution_count": null,
   "id": "625012b7-c5db-434d-bb2b-b9ec38757b41",
   "metadata": {},
   "outputs": [],
   "source": []
  }
 ],
 "metadata": {
  "kernelspec": {
   "display_name": "Python 3 (ipykernel)",
   "language": "python",
   "name": "python3"
  },
  "language_info": {
   "codemirror_mode": {
    "name": "ipython",
    "version": 3
   },
   "file_extension": ".py",
   "mimetype": "text/x-python",
   "name": "python",
   "nbconvert_exporter": "python",
   "pygments_lexer": "ipython3",
   "version": "3.9.7"
  }
 },
 "nbformat": 4,
 "nbformat_minor": 5
}
