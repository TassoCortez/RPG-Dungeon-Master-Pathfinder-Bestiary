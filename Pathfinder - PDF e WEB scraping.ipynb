{
 "cells": [
  {
   "cell_type": "code",
   "execution_count": 2,
   "id": "42808b9b-e9e9-4f3a-bd57-768bc5b0978a",
   "metadata": {},
   "outputs": [],
   "source": [
    "import PIL\n",
    "import fitz\n",
    "import pandas as pd \n",
    "from PIL import Image\n",
    "import io\n",
    "import re"
   ]
  },
  {
   "cell_type": "code",
   "execution_count": 3,
   "id": "bc749aa4-81c2-4cbf-acd2-3919e623f121",
   "metadata": {},
   "outputs": [],
   "source": [
    "doc = fitz.open('Data/Pathfinder_Bestiary_1.pdf') # abrindo o PDF\n"
   ]
  },
  {
   "cell_type": "markdown",
   "id": "2aea5966-ff97-4c68-b1f3-49ce11728ed8",
   "metadata": {},
   "source": [
    "obs:\n",
    "    \n",
    "paginad que nao funcionam - 9(intruducao a classe de monstro), 12e 13(monstro com nome na pg 12 e imagem na pg 13)     \n",
    "\n",
    "Paginad com problema arrumado - 11 \n",
    "    \n",
    "problema - nome do monstro em 1 pagina e image na prox pagina. Colocar algo que caso encontre apenas o nome e não a imagem, pegar a imagem da proxima pagina. \n",
    "    \n",
    "    \n",
    "problema - pagina que não tem nada como por exemplo 9. colocar algo que caso as 2 funcoes não funcionem ignorar o resultado. "
   ]
  },
  {
   "cell_type": "markdown",
   "id": "d53ff4dc-9420-4822-870b-6f5a26826bd3",
   "metadata": {},
   "source": [
    "# Tratamenteo para pegar imagem"
   ]
  },
  {
   "cell_type": "code",
   "execution_count": 37,
   "id": "f4feaf74-5365-44ba-b038-185933bb3e43",
   "metadata": {},
   "outputs": [],
   "source": [
    "def req_image (argumento):\n",
    "    '''recebe um int(numero da pagina), substitue este valor e extrai a imagem da pg em questão'''\n",
    "    page_image = doc[argumento] # salvando a pagina [numero da pagina] como page\n",
    "    \n",
    "    list_image = page_image.get_images() #  lista de imagens da pagina escolhida\n",
    "\n",
    "    for item in list_image: \n",
    "            if item[3] >100 and item[3] != 1603 and item[8] == 'DCTDecode' :   # escolha da imagem pelo tamanho, quarto parametro acima de 100 e diferente de 1603, oitvo parametro da imagem igual a DCTDecode \n",
    "                img_creature = item\n",
    "            else:\n",
    "                ''\n",
    "    imagem_isolada = doc.extract_image(img_creature[0])['image']\n",
    "    \n",
    "    return imagem_isolada\n",
    "    "
   ]
  },
  {
   "cell_type": "code",
   "execution_count": 111,
   "id": "502dca4d-e31b-4170-b390-dfbce2a24042",
   "metadata": {},
   "outputs": [],
   "source": [
    "# Imagem_pronta = PIL.Image.open(io.BytesIO(req_image(12+1)))  # para testar se a função está funcionando.\n",
    "# Imagem_pronta"
   ]
  },
  {
   "cell_type": "markdown",
   "id": "53766e9c-a797-4315-986e-0c4c81948e22",
   "metadata": {},
   "source": [
    "# Tratamento para pegar nome do monstro"
   ]
  },
  {
   "cell_type": "code",
   "execution_count": 74,
   "id": "b9e33344-7930-428a-9cc5-654424c010a8",
   "metadata": {},
   "outputs": [],
   "source": [
    "def req_text(argument):\n",
    "    \n",
    "    '''Função recebe um int(numero da pagina) e retorna o nome limpo que está com a segunda coordenada de 135.28799438476562  '''\n",
    "    \n",
    "    page_text = doc[argument]  # salvando a pagina [numero da pagina] como page_text \n",
    "\n",
    "    words = page_text.get_text(\"words\")  # extraindo todas as palavras da pagina 1\n",
    "    \n",
    "    lista_nomes = []\n",
    "\n",
    "    for i in words:   # for para pegar o nomes do monstro na pagina. So funciona se o nome estiver com o segundo valor de 135.28799438476562\n",
    "        for image in i:\n",
    "            if image == 135.28799438476562:\n",
    "                x = i[4]\n",
    "                lista_nomes.append(x+' ')\n",
    "            else:\n",
    "                ''\n",
    "                \n",
    "    lista_nomes_sujos =''.join(lista_nomes)                \n",
    "\n",
    "    lista_nomes_limpa = re.findall('.*?\\d+',lista_nomes_sujos )\n",
    "\n",
    "    return lista_nomes_limpa\n",
    "    \n",
    "    "
   ]
  },
  {
   "cell_type": "code",
   "execution_count": 75,
   "id": "12d18daa-3228-45b6-bba2-a1f30d3a9896",
   "metadata": {},
   "outputs": [
    {
     "data": {
      "text/plain": [
       "[]"
      ]
     },
     "execution_count": 75,
     "metadata": {},
     "output_type": "execute_result"
    }
   ],
   "source": [
    "# req_text(13)  # para testar se a função está funcionando"
   ]
  },
  {
   "cell_type": "markdown",
   "id": "9cc8f5df-884f-4326-afcc-242c06cca3fa",
   "metadata": {},
   "source": [
    "# funcao para salvar a imagem com o nome certo"
   ]
  },
  {
   "cell_type": "code",
   "execution_count": 108,
   "id": "b0c1b178-931b-4e62-8176-1bf0c1721977",
   "metadata": {
    "tags": []
   },
   "outputs": [],
   "source": [
    "\n",
    "def img_names_novo (pg):\n",
    "    '''Funcao recebe o numero da pagina, roda a função para pegar o nome do monstro. \n",
    "    caso o nome do monstro não seja um grupo vzio, tenta rodar a função para pegar a image. Caso a função da imagem de erro, pega a imagem da proxima pagina. e salva na pasta escolhida.\n",
    "    \n",
    "    Caso o nome do monstro seja vazio, não tentar pegar mais nada e retorna a menssagem 'Vazio' '''   \n",
    "    \n",
    "\n",
    "    if req_text (pg) != []: \n",
    "        name_monster = str(req_text(pg)[0])  # funcao req_text para pegar o nome do monstro e tranfomando o nome em str\n",
    "        try:\n",
    "                imagem_pronta = PIL.Image.open(io.BytesIO(req_image(pg)))# abrindo a imagem gerada pela funcao req_image\n",
    "                \n",
    "                imagem_pronta.save('C:/Users/Escanor/Desktop/Iron HAck/Projetos/Projeto obrigatorio/Pathfinder/img_name/'+name_monster+'.jpg')\n",
    "                \n",
    "                return 'imagem salva com o nome de :'+ name_monster\n",
    "                                              \n",
    "        except:\n",
    "                imagem_pronta = PIL.Image.open(io.BytesIO(req_image(pg+1)))# abrindo a imagem gerada pela funcao req_image\n",
    "                \n",
    "                imagem_pronta.save('C:/Users/Escanor/Desktop/Iron HAck/Projetos/Projeto obrigatorio/Pathfinder/img_name/'+name_monster+'.jpg')\n",
    "                \n",
    "                return 'imagem da proxima pagina salva com o nome de :'+ name_monster\n",
    "\n",
    "    \n",
    "    elif req_text (pg) == []: \n",
    "        return 'vazio'\n",
    "        \n",
    "    \n",
    "    else:\n",
    "        return 'erro'\n"
   ]
  },
  {
   "cell_type": "code",
   "execution_count": 109,
   "id": "1144f0ff-94db-4c6a-8d8f-5ec3db2d3e41",
   "metadata": {},
   "outputs": [
    {
     "data": {
      "text/plain": [
       "'vazio'"
      ]
     },
     "execution_count": 109,
     "metadata": {},
     "output_type": "execute_result"
    }
   ],
   "source": [
    "img_names_novo(9)"
   ]
  },
  {
   "cell_type": "code",
   "execution_count": 47,
   "id": "26a2328b-a7f8-4d64-956b-6b7e11ecc451",
   "metadata": {},
   "outputs": [],
   "source": [
    "def img_names (pg):\n",
    "    '''Funcao recebe o numero da pagina, pega o nome do monstro com a funcao req_text, pega a imagem da pagina com a funcao req_image e salva a imagem com o nome do monstro  '''\n",
    "    \n",
    "    \n",
    "   \n",
    "    \n",
    "    imagem_pronta = PIL.Image.open(io.BytesIO(req_image(pg))) # abrindo a imagem gerada pela funcao req_image\n",
    "    \n",
    "    name_monster = req_text (pg) # funcao para pegar o nome do monstro\n",
    "    \n",
    "    name_monster = str(req_text(pg)[0])  # funcao req_text para pegar o nome do monstro e tranfomando o nome em str\n",
    "    \n",
    "\n",
    "    imagem_pronta.save('C:/Users/Escanor/Desktop/Iron HAck/Projetos/Projeto obrigatorio/Pathfinder/img_name/'+name_monster+'.jpg') # salvando a Imagem_pronta com o nome name_monster\n",
    "    \n",
    "    \n",
    "    \n",
    "    return 'imagem salva' "
   ]
  },
  {
   "cell_type": "code",
   "execution_count": null,
   "id": "cfebb894-4cba-4fd0-bc7e-52f01d4e8353",
   "metadata": {},
   "outputs": [],
   "source": []
  }
 ],
 "metadata": {
  "kernelspec": {
   "display_name": "Python 3 (ipykernel)",
   "language": "python",
   "name": "python3"
  },
  "language_info": {
   "codemirror_mode": {
    "name": "ipython",
    "version": 3
   },
   "file_extension": ".py",
   "mimetype": "text/x-python",
   "name": "python",
   "nbconvert_exporter": "python",
   "pygments_lexer": "ipython3",
   "version": "3.9.7"
  }
 },
 "nbformat": 4,
 "nbformat_minor": 5
}
