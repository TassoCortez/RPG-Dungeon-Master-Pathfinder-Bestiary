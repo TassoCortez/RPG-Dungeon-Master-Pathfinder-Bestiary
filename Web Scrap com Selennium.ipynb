{
 "cells": [
  {
   "cell_type": "code",
   "execution_count": 1,
   "id": "47f19310-b7db-48cc-b43e-674fb414af2d",
   "metadata": {},
   "outputs": [],
   "source": [
    "import os\n",
    "import pandas as pd\n",
    "from selenium import webdriver\n",
    "from selenium.webdriver.chrome.service import Service\n",
    "from selenium.webdriver.common.keys import Keys\n",
    "import regex as re"
   ]
  },
  {
   "cell_type": "code",
   "execution_count": 16,
   "id": "88b7581f-fe40-4860-8c9b-d1cb4bfd6786",
   "metadata": {},
   "outputs": [],
   "source": [
    "def inf_monstro_pg (argumento):\n",
    "\n",
    "    '''Funcao recebe o nome do monstro como deve ser produrado no site do d20pfsrd, faz a procura, entra no primeiro link pra procura e extrai as inomações '''\n",
    "\n",
    "    ser = Service()\n",
    "    \n",
    "    driver = webdriver.Chrome(service=ser) # abrindo nova pagina da internet plo crome\n",
    "    \n",
    "    url = 'https://www.d20pfsrd.com/' # salvando o site do d20 como a variavel URL\n",
    "    \n",
    "    driver.maximize_window() # colcoa o crome em full screen, o site do d20 fica difernte se estiver em tamanho pequeno\n",
    "    \n",
    "    driver.get(url) # entrando no site do d 20 \n",
    "    \n",
    "    procura_d20 = driver.find_element('xpath','//*[@id=\"navbar\"]/ul[2]/li[2]/form/div/input') # selecionando o campo de procura no cano superior direito do d20\n",
    "    \n",
    "    procura_d20.send_keys(argumento+ Keys.RETURN) # escrevendo na procura, depois mudar este nome apra os elementos da lista list_img_b1\n",
    "    \n",
    "    pg_monstro = driver.find_element('xpath','//*[@id=\"___gcse_0\"]/div/div/div/div[5]/div[2]/div[1]/div/div[2]/div[1]/div[1]/div[1]/div/a').click() # clicando no primeiro link da procura\n",
    "    \n",
    "    driver.close() # como a procura do d20 abre em uma nova aba, aqui estou fechando a aba antiga de pesquisa\n",
    "    \n",
    "    driver.switch_to.window(driver.window_handles[-1]) # trocando a aba do crome para a aba do monstro\n",
    "    \n",
    "    inf = driver.find_element('xpath', '//*[contains(concat( \" \", @class, \" \" ), concat( \" \", \"statblock\", \" \" ))]') # todas as infomaçoes do monstro, mudei pois o de cina nao estava funcionando para todos\n",
    "    \n",
    "    name = re.findall('.*[^\\nCR]',inf.text)\n",
    "    name = name[0]\n",
    "    \n",
    "    cr = re.findall('CR .*',inf.text) # rodando o regex para pegar cada uam dos campos\n",
    "    \n",
    "    xp = re.findall('XP .*',inf.text) # rodando o regex para pegar cada uam dos campos\n",
    "    \n",
    "    alinhamento = re.findall('N[GE ]|L[GE ]',inf.text)\n",
    "    alinhamento = alinhamento[0]\n",
    "    \n",
    "    tamanho = re.findall('Fine|Diminutive|Tiny|Small|Medium|Large|Huge|Gargantuan|Colossal',inf.text)\n",
    "    tamanho = tamanho[0]  # so para garantir que estou pegando o primeiro\n",
    "    \n",
    "    iniciativa = re.findall('Init .\\d',inf.text) # iniciativa\n",
    "    \n",
    "    senses = re.findall('Senses .*;',inf.text) # senses parando no ;, em teoria sempre tem o ; pois o proximo valor e perception\n",
    "    \n",
    "    perception = re.findall('Perception .\\d',inf.text)\n",
    "    perception = perception[0]\n",
    "    \n",
    "    atk = re.findall('Melee.*',inf.text)\n",
    "    \n",
    "    defence = re.findall('AC.*',inf.text)\n",
    "    \n",
    "    hp = re.findall('hp \\d*',inf.text)\n",
    "    \n",
    "    saves = re.findall('Fort .*',inf.text) # pegando todos os saves inicinaod em Fort e acamando no \\n\n",
    "    \n",
    "    dr = re.findall('DR .*/\\w*',inf.text)\n",
    "    \n",
    "    immune = re.findall('Immune .*?;',inf.text)\n",
    "    \n",
    "    resist = re.findall('Resist .*?;',inf.text)\n",
    "    \n",
    "    sr = re.findall('SR \\d{1,2}',inf.text)  # sei que tem no maximo 2 digitos.\n",
    "    \n",
    "    speed = re.findall('Speed.*',inf.text)\n",
    "    \n",
    "    cmb = re.findall('CMB .\\d*',inf.text)\n",
    "    \n",
    "    cmd = re.findall('CMD .\\d*',inf.text)\n",
    "    \n",
    "    spell_like_ability = re.findall('Spell-Like(.*)Spells Prepared|STATISTICS',inf.text,flags = re.S)\n",
    "    \n",
    "    spells = re.findall('Spells.*[^\\n]',inf.text)\n",
    "    \n",
    "    spell_9th = re.findall('9th.*',inf.text)\n",
    "    \n",
    "    spell_8th = re.findall('8th.*',inf.text)\n",
    "    \n",
    "    spell_7th = re.findall('7th.*',inf.text)\n",
    "    \n",
    "    spell_6th = re.findall('6th.*',inf.text)\n",
    "    \n",
    "    spell_5th = re.findall('5th.*',inf.text)\n",
    "    \n",
    "    spell_4th = re.findall('4th.*',inf.text)\n",
    "    \n",
    "    spell_3th = re.findall('3rd.*',inf.text)\n",
    "    \n",
    "    spell_2th = re.findall('2nd.*',inf.text)\n",
    "    \n",
    "    spell_1th = re.findall('1st.*',inf.text)\n",
    "    \n",
    "    pagina = driver.page_source\n",
    "    \n",
    "    dic_monstro = {'Name':name,'CR':cr,'Alm':alinhamento,'Size':tamanho,'HP':hp,'Atk':atk,'Def':defence,'DR':dr,'Saves':saves,'Immune':immune,'Res':resist,'SR':sr,'Spl.Like.Abl':spell_like_ability,'Spells':spells,'lvl_9':spell_9th,'lvl_8':spell_8th,'lvl_7':spell_7th,'lvl_6':spell_6th,'lvl_5':spell_5th,'lvl_4':spell_4th,'lvl_3':spell_3th,'lvl_2':spell_2th,'lvl_1':spell_1th,'Inic':iniciativa,'Spd':speed,'Perc':perception,'Senses':senses,'CMB':cmb,'CMD':cmd,'XP':xp,'Link':pagina}\n",
    "    # dicionario com todas as infomações do monstro\n",
    "    \n",
    "    driver.close() # fechando a janela\n",
    "    \n",
    "    return dic_monstro\n",
    "    "
   ]
  },
  {
   "cell_type": "code",
   "execution_count": null,
   "id": "eb1a5e7f-bad5-491a-b677-e30db2d1a6a5",
   "metadata": {},
   "outputs": [],
   "source": [
    "x = inf_monstro_pg('SOLAR CR 23')"
   ]
  },
  {
   "cell_type": "code",
   "execution_count": 15,
   "id": "55501020-3f6e-4e6d-9a40-989121550913",
   "metadata": {},
   "outputs": [],
   "source": [
    "x"
   ]
  },
  {
   "cell_type": "code",
   "execution_count": null,
   "id": "e0d1f508-e0dc-4b50-acd7-cd177af0e8d7",
   "metadata": {},
   "outputs": [],
   "source": []
  },
  {
   "cell_type": "code",
   "execution_count": null,
   "id": "46ad8343-efac-4020-8efe-763624fd26ca",
   "metadata": {},
   "outputs": [],
   "source": []
  },
  {
   "cell_type": "code",
   "execution_count": null,
   "id": "52d07f17-12c5-44fc-978e-4b1d0d4da32d",
   "metadata": {},
   "outputs": [],
   "source": []
  },
  {
   "cell_type": "code",
   "execution_count": null,
   "id": "6306752e-373c-49e3-9f60-5c2d2719f125",
   "metadata": {},
   "outputs": [],
   "source": []
  },
  {
   "cell_type": "code",
   "execution_count": 2,
   "id": "343dccfa-f61a-4430-80e4-17aa9e3a507d",
   "metadata": {},
   "outputs": [],
   "source": [
    "ser = Service()"
   ]
  },
  {
   "cell_type": "code",
   "execution_count": 3,
   "id": "a2e1bc9d-f37c-469c-a91a-835fd867a4da",
   "metadata": {},
   "outputs": [],
   "source": [
    "driver = webdriver.Chrome(service=ser) # abrindo nova pagina da internet plo crome\n",
    "\n",
    "url = 'https://www.d20pfsrd.com/' # salvando o site do d20 como a variavel URL\n"
   ]
  },
  {
   "cell_type": "code",
   "execution_count": 4,
   "id": "658f27dc-0972-4096-870e-9b1e4e77c278",
   "metadata": {},
   "outputs": [],
   "source": [
    "driver.maximize_window() # colcoa o crome em full screen, o site do d20 fica difernte se estiver em tamanho pequeno\n",
    "\n",
    "driver.get(url) # entrando no site do d 20 "
   ]
  },
  {
   "cell_type": "code",
   "execution_count": 5,
   "id": "5000b097-1bb3-49a9-b2eb-13240a47de4c",
   "metadata": {},
   "outputs": [],
   "source": [
    "procura_d20 = driver.find_element('xpath','//*[@id=\"navbar\"]/ul[2]/li[2]/form/div/input') # selecionando o campo de procura no cano superior direito do d20\n"
   ]
  },
  {
   "cell_type": "code",
   "execution_count": 6,
   "id": "6f7929e2-d2d2-4967-b41b-f4339993a4e7",
   "metadata": {},
   "outputs": [],
   "source": [
    "procura_d20.send_keys('SOLAR CR 23'+ Keys.RETURN) # escrevendo na procura, depois mudar este nome apra os elementos da lista list_img_b1\n"
   ]
  },
  {
   "cell_type": "code",
   "execution_count": 7,
   "id": "47f0d357-0bf1-4a86-84f7-e937d6642a8c",
   "metadata": {},
   "outputs": [],
   "source": [
    "pg_monstro = driver.find_element('xpath','//*[@id=\"___gcse_0\"]/div/div/div/div[5]/div[2]/div[1]/div/div[2]/div[1]/div[1]/div[1]/div/a').click() # clicando no primeiro link da procura"
   ]
  },
  {
   "cell_type": "code",
   "execution_count": 8,
   "id": "c57fcbd1-4c54-4f56-9131-3ed6de53b963",
   "metadata": {},
   "outputs": [],
   "source": [
    "driver.close() # como a procura do d20 abre em uma nova aba, aqui estou fechando a aba antiga de pesquisa\n",
    "\n",
    "driver.switch_to.window(driver.window_handles[-1]) # trocando a aba do crome para a aba do monstro\n"
   ]
  },
  {
   "cell_type": "code",
   "execution_count": 9,
   "id": "d072ddc0-d77b-49ae-b6a9-96480b31d7c3",
   "metadata": {},
   "outputs": [
    {
     "data": {
      "text/plain": [
       "'Solar\\nCR 23\\nXP 819,200\\nNG Large outsider (angel, extraplanar, good)\\nInit +9; Senses darkvision 60 ft., low-light vision, detect evil, detect snares and pits, true seeing; Perception +33\\nAura protective aura\\nDEFENSE\\nAC 44, touch 11, flat-footed 42 (+14 armor, +1 Dex, +1 dodge, +19 natural, –1 size; +4 deflection vs. evil)\\nhp 363 (22d10+242); regeneration 15 (evil artifacts, effects, and spells)\\nFort +25, Ref +14, Will +23; +4 vs. poison, +4 resistance vs. evil\\nDR 15/epic and evil; Immune acid, cold, petrification; Resist electricity 10, fire 10; SR 34\\nOFFENSE\\nSpeed 50 ft., fly 150 ft. (good); 35 ft., fly 100 ft. (good) in armor\\nMelee +5 dancing greatsword +35/+30/+25/+20 (3d6+18) or slam +30 (2d8+13)\\nRanged +5 composite longbow (+9 Str bonus) +31/+26/+21/+16 (2d6+14 plus slaying arrow)\\nSpace 10 ft.; Reach 10 ft.\\nSpell-Like Abilities (CL 20th)\\nConstant—detect evil, detect snares and pits, discern lies (DC 21), true seeing\\nAt Will—aid, animate objects, commune, continual flame, dimensional anchor, greater dispel magic, holy smite (DC 21), imprisonment (DC 26), invisibility (self only), lesser restoration, remove curse, remove disease, remove fear, resist energy, summon monster VII, speak with dead (DC 20), waves of fatigue\\n3/day—blade barrier (DC 23), earthquake (DC 25), heal, mass charm monster (DC 25), permanency, resurrection, waves of exhaustion\\n1/day—greater restoration, power word blind, power word kill, power word stun, prismatic spray (DC 24), wish\\nSpells Prepared (CL 20th)\\n9th—etherealness, mass heal, miracle, storm of vengeance (DC 27)\\n8th—fire storm (DC 26), holy aura (2) (DC 26), mass cure critical wounds (2)\\n7th—destruction (DC 25), dictum (DC 25), ethereal jaunt, holy word (DC 25), regenerate\\n6th—banishment (DC 24), heroes’ feast, mass cure moderate wounds, undeath to death (DC 24), word of recall\\n5th—break enchantment, breath of life, dispel evil (DC 23), plane shift (DC 23), righteous might, symbol of sleep (DC 23)\\n4th—cure critical wounds (3), death ward, dismissal (DC 22), neutralize poison (2) (DC 22)\\n3rd—cure serious wounds, daylight, invisibility purge, magic circle against evil, prayer, protection from energy, wind wall\\n2nd—align weapon, bear’s endurance, bull’s strength, consecrate, cure moderate wounds (2), eagle’s splendor\\n1st—bless, cure light wounds (3), divine favor, entropic shield, shield of faith\\n0 (at will)—detect magic, purify food and drink, stabilize, virtue\\nSTATISTICS\\nStr 28, Dex 20, Con 30, Int 23, Wis 27, Cha 25\\nBase Atk +22; CMB +32; CMD 47\\nFeats Cleave, Deadly Aim, Dodge, Great Fortitude, Improved Initiative, Improved Sunder, Iron Will, Lightning Reflexes, Mobility, Power Attack, Toughness\\nSkills Craft (any one) +31, Diplomacy +32, Fly +32, Knowledge (history) +31, Knowledge (nature) +31, Knowledge (planes) +31, Knowledge (religion) +31, Perception +33, Sense Motive +33, Spellcraft +31, Stealth +21, Survival +31\\nLanguages Celestial, Draconic, Infernal; truespeech\\nSQ change shape (alter self)\\nSPECIAL ABILITIES\\nSlaying Arrow (Su)\\nA solar’s bow needs no ammunition, and automatically creates a slaying arrow of the solar’s choice when drawn.\\nSpellcasting\\nSolars can cast divine spells as 20th-level clerics. They do not gain access to domains or other cleric abilities.'"
      ]
     },
     "execution_count": 9,
     "metadata": {},
     "output_type": "execute_result"
    }
   ],
   "source": [
    "inf = driver.find_element('xpath', '//*[contains(concat( \" \", @class, \" \" ), concat( \" \", \"statblock\", \" \" ))]') # todas as infomaçoes do monstro, mudei pois o de cina nao estava funcionando para todos\n",
    "\n",
    "inf.text"
   ]
  },
  {
   "cell_type": "code",
   "execution_count": 10,
   "id": "42ba97d4-d348-442a-b2bb-412d8440ea22",
   "metadata": {},
   "outputs": [],
   "source": [
    "name = re.findall('.*[^\\nCR]',inf.text)\n",
    "name = name[0]"
   ]
  },
  {
   "cell_type": "code",
   "execution_count": 11,
   "id": "cdfb199c-ba0b-430c-899a-5dae8e07cebb",
   "metadata": {},
   "outputs": [],
   "source": [
    "cr = re.findall('CR .*',inf.text) # rodando o regex para pegar cada uam dos campos"
   ]
  },
  {
   "cell_type": "code",
   "execution_count": 12,
   "id": "70c4343f-7c42-47ce-b2ae-ed63d7ab8455",
   "metadata": {},
   "outputs": [],
   "source": [
    "xp = re.findall('XP .*',inf.text) # rodando o regex para pegar cada uam dos campos"
   ]
  },
  {
   "cell_type": "code",
   "execution_count": 13,
   "id": "cc00d5ab-7d95-4161-b0ac-89600f12271a",
   "metadata": {},
   "outputs": [],
   "source": [
    "alinhamento = re.findall('N[GE ]|L[GE ]',inf.text)\n",
    "alinhamento = alinhamento[0]"
   ]
  },
  {
   "cell_type": "code",
   "execution_count": 14,
   "id": "ddfac686-e2ee-4a65-b071-6037f5543166",
   "metadata": {},
   "outputs": [],
   "source": [
    "tamanho = re.findall('Fine|Diminutive|Tiny|Small|Medium|Large|Huge|Gargantuan|Colossal',inf.text)\n",
    "tamanho = tamanho[0]  # so para garantir que estou pegando o primeiro"
   ]
  },
  {
   "cell_type": "code",
   "execution_count": 15,
   "id": "8fe43d11-ed75-4dd2-b976-37861f3eb65d",
   "metadata": {},
   "outputs": [],
   "source": [
    "iniciativa = re.findall('Init .\\d',inf.text) # iniciativa"
   ]
  },
  {
   "cell_type": "code",
   "execution_count": 16,
   "id": "db5eb954-a56f-48b2-a5a3-08d4fd16fd21",
   "metadata": {},
   "outputs": [],
   "source": [
    "senses = re.findall('Senses .*;',inf.text) # senses parando no ;, em teoria sempre tem o ; pois o proximo valor e perception"
   ]
  },
  {
   "cell_type": "code",
   "execution_count": 17,
   "id": "6ec29a47-c7c6-4f55-8254-8cffcc529a5b",
   "metadata": {},
   "outputs": [],
   "source": [
    "perception = re.findall('Perception .\\d',inf.text)\n",
    "perception = perception[0]"
   ]
  },
  {
   "cell_type": "code",
   "execution_count": 18,
   "id": "dc3f1103-a98c-4d8a-b5da-16a0d59f3f5c",
   "metadata": {},
   "outputs": [],
   "source": [
    "atk = re.findall('Melee.*',inf.text)"
   ]
  },
  {
   "cell_type": "code",
   "execution_count": 19,
   "id": "3a626cc9-f0f4-4a65-b375-81c6710c62cf",
   "metadata": {},
   "outputs": [],
   "source": [
    "defence = re.findall('AC.*',inf.text)"
   ]
  },
  {
   "cell_type": "code",
   "execution_count": 20,
   "id": "207056c6-8d2a-4198-b503-60b877e6e5b2",
   "metadata": {},
   "outputs": [],
   "source": [
    "hp = re.findall('hp \\d*',inf.text)"
   ]
  },
  {
   "cell_type": "code",
   "execution_count": 21,
   "id": "23a6b8fb-ee69-447f-84e0-260d934a9b87",
   "metadata": {},
   "outputs": [],
   "source": [
    "saves = re.findall('Fort .*',inf.text) # pegando todos os saves inicinaod em Fort e acamando no \\n"
   ]
  },
  {
   "cell_type": "code",
   "execution_count": 22,
   "id": "1e0f64df-57c0-4321-82a5-2467945a5c44",
   "metadata": {},
   "outputs": [],
   "source": [
    "dr = re.findall('DR .*/\\w*',inf.text)"
   ]
  },
  {
   "cell_type": "code",
   "execution_count": 23,
   "id": "99241588-8b5a-4004-998c-8b4809dea906",
   "metadata": {},
   "outputs": [],
   "source": [
    "immune = re.findall('Immune .*?;',inf.text)"
   ]
  },
  {
   "cell_type": "code",
   "execution_count": 24,
   "id": "3e7eefa0-9880-4bbe-9141-6b5c99590ae0",
   "metadata": {},
   "outputs": [],
   "source": [
    "resist = re.findall('Resist .*?;',inf.text)"
   ]
  },
  {
   "cell_type": "code",
   "execution_count": 25,
   "id": "086731eb-1f60-4629-b91f-d51463fc768a",
   "metadata": {},
   "outputs": [],
   "source": [
    "sr = re.findall('SR \\d{1,2}',inf.text)  # sei que tem no maximo 2 digitos. "
   ]
  },
  {
   "cell_type": "code",
   "execution_count": 26,
   "id": "879ffce9-113d-40fd-9b03-9ac3bba281fa",
   "metadata": {},
   "outputs": [],
   "source": [
    "speed = re.findall('Speed.*',inf.text)"
   ]
  },
  {
   "cell_type": "code",
   "execution_count": 27,
   "id": "a423c833-5f1d-4d86-9206-1474b63e907f",
   "metadata": {},
   "outputs": [],
   "source": [
    "cmb = re.findall('CMB .\\d*',inf.text)"
   ]
  },
  {
   "cell_type": "code",
   "execution_count": 28,
   "id": "2162129f-3f8f-4876-a259-6c7b2ab507dc",
   "metadata": {},
   "outputs": [],
   "source": [
    "cmd = re.findall('CMD .\\d*',inf.text)"
   ]
  },
  {
   "cell_type": "code",
   "execution_count": 29,
   "id": "f3f5fd37-9467-41c7-8a05-feb3ebc7400c",
   "metadata": {},
   "outputs": [],
   "source": [
    "spell_like_ability = re.findall('Spell-Like(.*)Spells Prepared|STATISTICS',inf.text,flags = re.S)"
   ]
  },
  {
   "cell_type": "code",
   "execution_count": 30,
   "id": "9f6e1ca2-5bc7-4414-acb0-2f9aa601a39b",
   "metadata": {},
   "outputs": [],
   "source": [
    "spells = re.findall('Spells.*[^\\n]',inf.text)"
   ]
  },
  {
   "cell_type": "code",
   "execution_count": 31,
   "id": "8000a18a-cba2-4438-a39e-938f19133e31",
   "metadata": {},
   "outputs": [],
   "source": [
    "spell_9th = re.findall('9th.*',inf.text)"
   ]
  },
  {
   "cell_type": "code",
   "execution_count": 32,
   "id": "f14d17df-144e-4c99-aa3f-439813cfb7e1",
   "metadata": {},
   "outputs": [],
   "source": [
    "spell_8th = re.findall('8th.*',inf.text)"
   ]
  },
  {
   "cell_type": "code",
   "execution_count": 33,
   "id": "39499403-54a1-4f5a-bd69-d2c67146843c",
   "metadata": {},
   "outputs": [],
   "source": [
    "spell_7th = re.findall('7th.*',inf.text)"
   ]
  },
  {
   "cell_type": "code",
   "execution_count": 34,
   "id": "a54e72fd-55ee-4017-b4db-e2e572a3a787",
   "metadata": {},
   "outputs": [],
   "source": [
    "spell_6th = re.findall('6th.*',inf.text)"
   ]
  },
  {
   "cell_type": "code",
   "execution_count": 35,
   "id": "549a19af-fbb5-447e-9617-866fd2e0860e",
   "metadata": {},
   "outputs": [],
   "source": [
    "spell_5th = re.findall('5th.*',inf.text)"
   ]
  },
  {
   "cell_type": "code",
   "execution_count": 36,
   "id": "88289684-5441-46aa-b999-2a0c6a4bfa02",
   "metadata": {},
   "outputs": [],
   "source": [
    "spell_4th = re.findall('4th.*',inf.text)"
   ]
  },
  {
   "cell_type": "code",
   "execution_count": 37,
   "id": "c58283a0-3ac9-43c6-8dd4-fb544618cd75",
   "metadata": {},
   "outputs": [],
   "source": [
    "spell_3th = re.findall('3rd.*',inf.text)"
   ]
  },
  {
   "cell_type": "code",
   "execution_count": 38,
   "id": "a6762d4f-7562-42ba-845d-b535a4c472fd",
   "metadata": {},
   "outputs": [],
   "source": [
    "spell_2th = re.findall('2nd.*',inf.text)"
   ]
  },
  {
   "cell_type": "code",
   "execution_count": 39,
   "id": "4c2c482c-a139-4a3a-ac7e-9a7b8787b6e8",
   "metadata": {},
   "outputs": [],
   "source": [
    "spell_1th = re.findall('1st.*',inf.text)"
   ]
  },
  {
   "cell_type": "code",
   "execution_count": 40,
   "id": "a5b27f7b-0f16-48f7-b548-674afdf5104f",
   "metadata": {},
   "outputs": [],
   "source": [
    "pagina = driver.page_source"
   ]
  },
  {
   "cell_type": "code",
   "execution_count": 41,
   "id": "48af0470-e963-4f6c-8d33-c8c2f9f9867b",
   "metadata": {},
   "outputs": [],
   "source": [
    "dic_monstro = {'Name':name,'CR':cr,'Alm':alinhamento,'Size':tamanho,'HP':hp,'Atk':atk,'Def':defence,'DR':dr,'Saves':saves,'Immune':immune,'Res':resist,'SR':sr,'Spl.Like.Abl':spell_like_ability,'Spells':spells,'lvl_9':spell_9th,'lvl_8':spell_8th,'lvl_7':spell_7th,'lvl_6':spell_6th,'lvl_5':spell_5th,'lvl_4':spell_4th,'lvl_3':spell_3th,'lvl_2':spell_2th,'lvl_1':spell_1th,'Inic':iniciativa,'Spd':speed,'Perc':perception,'Senses':senses,'CMB':cmb,'CMD':cmd,'XP':xp,'Link':pagina}\n",
    "# dicionario com todas as infomações do monstro"
   ]
  },
  {
   "cell_type": "code",
   "execution_count": 42,
   "id": "fa58d05c-fbae-46a9-9a9c-e26bdba90a67",
   "metadata": {},
   "outputs": [],
   "source": [
    "driver.close() # fechando a janela"
   ]
  },
  {
   "cell_type": "code",
   "execution_count": null,
   "id": "87988dd8-56b0-4a9d-985a-07343867d3db",
   "metadata": {},
   "outputs": [],
   "source": []
  },
  {
   "cell_type": "code",
   "execution_count": null,
   "id": "715d7aba-ebec-4347-ac6e-56e9fddcf5b4",
   "metadata": {},
   "outputs": [],
   "source": []
  },
  {
   "cell_type": "code",
   "execution_count": null,
   "id": "09430964-b797-4710-a43b-e1127522192d",
   "metadata": {},
   "outputs": [],
   "source": []
  },
  {
   "cell_type": "code",
   "execution_count": 4,
   "id": "77d9d42e-9319-43b3-84af-3790a883643a",
   "metadata": {},
   "outputs": [
    {
     "data": {
      "text/plain": [
       "{'Name': 'Solar',\n",
       " 'CR': ['CR 23'],\n",
       " 'Alm': 'NG',\n",
       " 'Size': 'Large',\n",
       " 'HP': ['hp 363'],\n",
       " 'Atk': ['Melee +5 dancing greatsword +35/+30/+25/+20 (3d6+18) or slam +30 (2d8+13)'],\n",
       " 'Def': ['AC 44, touch 11, flat-footed 42 (+14 armor, +1 Dex, +1 dodge, +19 natural, –1 size; +4 deflection vs. evil)'],\n",
       " 'DR': ['DR 15/epic'],\n",
       " 'Saves': ['Fort +25, Ref +14, Will +23; +4 vs. poison, +4 resistance vs. evil'],\n",
       " 'Immune': ['Immune acid, cold, petrification;'],\n",
       " 'Res': ['Resist electricity 10, fire 10;'],\n",
       " 'SR': ['SR 34'],\n",
       " 'Spl.Like.Abl': [' Abilities (CL 20th)\\nConstant—detect evil, detect snares and pits, discern lies (DC 21), true seeing\\nAt Will—aid, animate objects, commune, continual flame, dimensional anchor, greater dispel magic, holy smite (DC 21), imprisonment (DC 26), invisibility (self only), lesser restoration, remove curse, remove disease, remove fear, resist energy, summon monster VII, speak with dead (DC 20), waves of fatigue\\n3/day—blade barrier (DC 23), earthquake (DC 25), heal, mass charm monster (DC 25), permanency, resurrection, waves of exhaustion\\n1/day—greater restoration, power word blind, power word kill, power word stun, prismatic spray (DC 24), wish\\n',\n",
       "  ''],\n",
       " 'Spells': ['Spells Prepared (CL 20th)'],\n",
       " 'lvl_9': ['9th—etherealness, mass heal, miracle, storm of vengeance (DC 27)'],\n",
       " 'lvl_8': ['8th—fire storm (DC 26), holy aura (2) (DC 26), mass cure critical wounds (2)'],\n",
       " 'lvl_7': ['7th—destruction (DC 25), dictum (DC 25), ethereal jaunt, holy word (DC 25), regenerate'],\n",
       " 'lvl_6': ['6th—banishment (DC 24), heroes’ feast, mass cure moderate wounds, undeath to death (DC 24), word of recall'],\n",
       " 'lvl_5': ['5th—break enchantment, breath of life, dispel evil (DC 23), plane shift (DC 23), righteous might, symbol of sleep (DC 23)'],\n",
       " 'lvl_4': ['4th—cure critical wounds (3), death ward, dismissal (DC 22), neutralize poison (2) (DC 22)'],\n",
       " 'lvl_3': ['3rd—cure serious wounds, daylight, invisibility purge, magic circle against evil, prayer, protection from energy, wind wall'],\n",
       " 'lvl_2': ['2nd—align weapon, bear’s endurance, bull’s strength, consecrate, cure moderate wounds (2), eagle’s splendor'],\n",
       " 'lvl_1': ['1st—bless, cure light wounds (3), divine favor, entropic shield, shield of faith'],\n",
       " 'Inic': ['Init +9'],\n",
       " 'Spd': ['Speed 50 ft., fly 150 ft. (good); 35 ft., fly 100 ft. (good) in armor'],\n",
       " 'Perc': 'Perception +3',\n",
       " 'Senses': ['Senses darkvision 60 ft., low-light vision, detect evil, detect snares and pits, true seeing;'],\n",
       " 'CMB': ['CMB +32'],\n",
       " 'CMD': ['CMD 47'],\n",
       " 'XP': ['XP 819,200'],\n",
       " 'Link': '<html lang=\"en-US\"><head><script type=\"text/javascript\" async=\"\" src=\"https://www.google-analytics.com/analytics.js\"></script>\\n    <meta charset=\"utf-8\">\\n    <meta http-equiv=\"X-UA-Compatible\" content=\"IE=edge\">\\n    <meta name=\"viewport\" content=\"width=device-width, initial-scale=1\">\\n    <meta name=\"description\" content=\"\">\\n    <base href=\"https://www.d20pfsrd.com/bestiary/monster-listings/outsiders/angel/solar/\">\\n        <!-- link rel=\"search\" type=\"application/opensearchdescription+xml\" title=\"d20PFSRD\" href=\"https://www.d20pfsrd.com/wp-content/themes/srdtheme/opensearch.php\" /-->\\n    <title>Angel, Solar – d20PFSRD</title>\\n<link rel=\"dns-prefetch\" href=\"//www.d20pfsrd.com\">\\n<link rel=\"dns-prefetch\" href=\"//account.opengamingnetwork.com\">\\n<link rel=\"dns-prefetch\" href=\"//s.w.org\">\\n<link rel=\"alternate\" type=\"application/rss+xml\" title=\"d20PFSRD » Feed\" href=\"https://www.d20pfsrd.com/feed/\">\\n<link rel=\"alternate\" type=\"application/rss+xml\" title=\"d20PFSRD » Comments Feed\" href=\"https://www.d20pfsrd.com/comments/feed/\">\\n\\t\\t<script type=\"text/javascript\">\\n\\t\\t\\twindow._wpemojiSettings = {\"baseUrl\":\"https:\\\\/\\\\/s.w.org\\\\/images\\\\/core\\\\/emoji\\\\/11\\\\/72x72\\\\/\",\"ext\":\".png\",\"svgUrl\":\"https:\\\\/\\\\/s.w.org\\\\/images\\\\/core\\\\/emoji\\\\/11\\\\/svg\\\\/\",\"svgExt\":\".svg\",\"source\":{\"concatemoji\":\"https:\\\\/\\\\/www.d20pfsrd.com\\\\/wp-includes\\\\/js\\\\/wp-emoji-release.min.js?ver=66f609b1f3625de892890d8022c237ee\"}};\\n\\t\\t\\t!function(e,a,t){var n,r,o,i=a.createElement(\"canvas\"),p=i.getContext&&i.getContext(\"2d\");function s(e,t){var a=String.fromCharCode;p.clearRect(0,0,i.width,i.height),p.fillText(a.apply(this,e),0,0);e=i.toDataURL();return p.clearRect(0,0,i.width,i.height),p.fillText(a.apply(this,t),0,0),e===i.toDataURL()}function c(e){var t=a.createElement(\"script\");t.src=e,t.defer=t.type=\"text/javascript\",a.getElementsByTagName(\"head\")[0].appendChild(t)}for(o=Array(\"flag\",\"emoji\"),t.supports={everything:!0,everythingExceptFlag:!0},r=0;r<o.length;r++)t.supports[o[r]]=function(e){if(!p||!p.fillText)return!1;switch(p.textBaseline=\"top\",p.font=\"600 32px Arial\",e){case\"flag\":return s([55356,56826,55356,56819],[55356,56826,8203,55356,56819])?!1:!s([55356,57332,56128,56423,56128,56418,56128,56421,56128,56430,56128,56423,56128,56447],[55356,57332,8203,56128,56423,8203,56128,56418,8203,56128,56421,8203,56128,56430,8203,56128,56423,8203,56128,56447]);case\"emoji\":return!s([55358,56760,9792,65039],[55358,56760,8203,9792,65039])}return!1}(o[r]),t.supports.everything=t.supports.everything&&t.supports[o[r]],\"flag\"!==o[r]&&(t.supports.everythingExceptFlag=t.supports.everythingExceptFlag&&t.supports[o[r]]);t.supports.everythingExceptFlag=t.supports.everythingExceptFlag&&!t.supports.flag,t.DOMReady=!1,t.readyCallback=function(){t.DOMReady=!0},t.supports.everything||(n=function(){t.readyCallback()},a.addEventListener?(a.addEventListener(\"DOMContentLoaded\",n,!1),e.addEventListener(\"load\",n,!1)):(e.attachEvent(\"onload\",n),a.attachEvent(\"onreadystatechange\",function(){\"complete\"===a.readyState&&t.readyCallback()})),(n=t.source||{}).concatemoji?c(n.concatemoji):n.wpemoji&&n.twemoji&&(c(n.twemoji),c(n.wpemoji)))}(window,document,window._wpemojiSettings);\\n\\t\\t</script><script src=\"https://www.d20pfsrd.com/wp-includes/js/wp-emoji-release.min.js?ver=66f609b1f3625de892890d8022c237ee\" type=\"text/javascript\" defer=\"\"></script>\\n\\t\\t<style type=\"text/css\">\\nimg.wp-smiley,\\nimg.emoji {\\n\\tdisplay: inline !important;\\n\\tborder: none !important;\\n\\tbox-shadow: none !important;\\n\\theight: 1em !important;\\n\\twidth: 1em !important;\\n\\tmargin: 0 .07em !important;\\n\\tvertical-align: -0.1em !important;\\n\\tbackground: none !important;\\n\\tpadding: 0 !important;\\n}\\n</style>\\n<link rel=\"stylesheet\" id=\"ogncustom-css-css\" href=\"https://www.d20pfsrd.com/wp-content/plugins/ogncustom/css/ogncustom.css?ver=1617398234\" type=\"text/css\" media=\"all\">\\n<link rel=\"stylesheet\" id=\"toc-screen-css\" href=\"https://www.d20pfsrd.com/wp-content/plugins/table-of-contents-plus/screen.min.css?ver=2106\" type=\"text/css\" media=\"all\">\\n<link rel=\"stylesheet\" id=\"quickstrap-css\" href=\"https://www.d20pfsrd.com/wp-content/themes/quickstrap/style.css?ver=66f609b1f3625de892890d8022c237ee\" type=\"text/css\" media=\"all\">\\n<link rel=\"stylesheet\" id=\"child-style-css\" href=\"https://www.d20pfsrd.com/wp-content/themes/srdtheme/css/style.css?ver=1.10.1\" type=\"text/css\" media=\"all\">\\n<link rel=\"stylesheet\" id=\"quickstrap-bootstrap-css\" href=\"https://www.d20pfsrd.com/wp-content/themes/quickstrap/css/bootstrap.min.css?ver=3.3.6\" type=\"text/css\" media=\"all\">\\n<link rel=\"stylesheet\" id=\"child-dynamic-css\" href=\"https://www.d20pfsrd.com/wp-content/themes/srdtheme/css/sites/12.css?ver=1569421645\" type=\"text/css\" media=\"all\">\\n<link rel=\"stylesheet\" id=\"excel-bootstrap-table-css-css\" href=\"https://www.d20pfsrd.com/wp-content/themes/srdtheme/css/excel-bootstrap-table-filter-style.min.css?ver=1612122449\" type=\"text/css\" media=\"all\">\\n<link rel=\"stylesheet\" id=\"quickstrap-fontawesome-css\" href=\"https://www.d20pfsrd.com/wp-content/themes/quickstrap/font-awesome/css/font-awesome.min.css?ver=4.5.0\" type=\"text/css\" media=\"all\">\\n<script type=\"text/javascript\" src=\"https://www.d20pfsrd.com/wp-includes/js/jquery/jquery.js?ver=1.12.4\"></script>\\n<script type=\"text/javascript\" src=\"https://www.d20pfsrd.com/wp-includes/js/jquery/jquery-migrate.min.js?ver=1.4.1\"></script>\\n<script type=\"text/javascript\" src=\"https://www.d20pfsrd.com/wp-content/themes/srdtheme/js/srdtheme.js?ver=1612122449\"></script>\\n<script type=\"text/javascript\" src=\"https://www.d20pfsrd.com/wp-content/themes/quickstrap/js/bootstrap.min.js?ver=3.3.6\"></script>\\n<script type=\"text/javascript\" src=\"//account.opengamingnetwork.com/js/ognbar.min.js?ver=66f609b1f3625de892890d8022c237ee\"></script>\\n<link rel=\"https://api.w.org/\" href=\"https://www.d20pfsrd.com/wp-json/\">\\n<link rel=\"EditURI\" type=\"application/rsd+xml\" title=\"RSD\" href=\"https://www.d20pfsrd.com/xmlrpc.php?rsd\">\\n<link rel=\"wlwmanifest\" type=\"application/wlwmanifest+xml\" href=\"https://www.d20pfsrd.com/wp-includes/wlwmanifest.xml\"> \\n\\n<link rel=\"canonical\" href=\"https://www.d20pfsrd.com/bestiary/monster-listings/outsiders/angel/solar/\">\\n<link rel=\"shortlink\" href=\"https://www.d20pfsrd.com/?p=62222\">\\n<link rel=\"alternate\" type=\"application/json+oembed\" href=\"https://www.d20pfsrd.com/wp-json/oembed/1.0/embed?url=https%3A%2F%2Fwww.d20pfsrd.com%2Fbestiary%2Fmonster-listings%2Foutsiders%2Fangel%2Fsolar%2F\">\\n<link rel=\"alternate\" type=\"text/xml+oembed\" href=\"https://www.d20pfsrd.com/wp-json/oembed/1.0/embed?url=https%3A%2F%2Fwww.d20pfsrd.com%2Fbestiary%2Fmonster-listings%2Foutsiders%2Fangel%2Fsolar%2F&amp;format=xml\">\\n        <script async=\"\" src=\"//pagead2.googlesyndication.com/pagead/js/adsbygoogle.js\"></script>\\n                            <script type=\"text/javascript\">\\n                        window[\"nitroAds\"] = window[\"nitroAds\"] || {\\n                            createAd: function() {\\n                                window.nitroAds.queue.push([\"createAd\", arguments]);\\n                            },\\n                            queue: []\\n                        };\\n                    </script>\\n                    <script src=\"https://s.nitropay.com/ads-99.js\"></script><script async=\"\" type=\"text/javascript\" src=\"https://btloader.com/tag?o=6278260873756672&amp;upapi=true\" id=\"nitroads-bt\"></script><script async=\"\" type=\"text/javascript\" src=\"https://securepubads.g.doubleclick.net/tag/js/gpt.js\" id=\"nitroads-gpt\"></script><script async=\"\" type=\"text/javascript\" src=\"//s.nitropay.com/ncmp-f17ba38.min.js\"></script><script async=\"\" type=\"text/javascript\" src=\"//c.amazon-adsystem.com/aax2/apstag.js\"></script>\\n                    <script language=\"JavaScript\">\\n                        ognNitroPay = true;\\n                    </script>\\n                    <link rel=\"icon\" href=\"https://www.d20pfsrd.com/wp-content/uploads/sites/12/2018/04/d20pfsrd-logo-256-150x150.png\" sizes=\"32x32\">\\n<link rel=\"icon\" href=\"https://www.d20pfsrd.com/wp-content/uploads/sites/12/2018/04/d20pfsrd-logo-256.png\" sizes=\"192x192\">\\n<link rel=\"apple-touch-icon-precomposed\" href=\"https://www.d20pfsrd.com/wp-content/uploads/sites/12/2018/04/d20pfsrd-logo-256.png\">\\n<meta name=\"msapplication-TileImage\" content=\"https://www.d20pfsrd.com/wp-content/uploads/sites/12/2018/04/d20pfsrd-logo-256.png\">\\n\\t\\t<style type=\"text/css\" id=\"wp-custom-css\">\\n\\t\\t\\t/*\\nCustom CSS has moved to \\nOGN SRD Theme > Additional CSS\\n*/\\n\\n\\t\\t</style>\\n\\t      <style type=\"text/css\">.ncmp__normalise{line-height:1.15;-webkit-text-size-adjust:100%;margin:0}.ncmp__normalise main{display:block}.ncmp__normalise h1{font-size:2em;margin:.67em 0}.ncmp__normalise h1,.ncmp__normalise h2,.ncmp__normalise h3,.ncmp__normalise h4,.ncmp__normalise h5,.ncmp__normalise h6{color:#000;font-family:\"Roboto\",Arial,Helvetica,sans-serif;text-transform:none !important}.ncmp__normalise span{color:#444}.ncmp__normalise p{color:#444}.ncmp__normalise ul{color:#444;font-size:14px}.ncmp__normalise ul li{color:#444}.ncmp__normalise hr{box-sizing:content-box;height:0;overflow:visible}.ncmp__normalise pre{font-family:monospace,monospace;font-size:1em}.ncmp__normalise a{background-color:transparent}.ncmp__normalise abbr[title]{border-bottom:none;text-decoration:underline;-webkit-text-decoration:underline dotted;text-decoration:underline dotted}.ncmp__normalise b,.ncmp__normalise strong{color:#000;font-weight:bolder}.ncmp__normalise code,.ncmp__normalise kbd,.ncmp__normalise samp{font-family:monospace,monospace;font-size:1em}.ncmp__normalise small{font-size:80%}.ncmp__normalise sub,.ncmp__normalise sup{font-size:75%;line-height:0;position:relative;vertical-align:baseline}.ncmp__normalise sub{bottom:-0.25em}.ncmp__normalise sup{top:-0.5em}.ncmp__normalise img{margin:0;border-style:none}.ncmp__normalise button,.ncmp__normalise input,.ncmp__normalise optgroup,.ncmp__normalise select,.ncmp__normalise textarea{font-family:inherit;font-size:100%;line-height:1.15;margin:0;box-shadow:none;text-shadow:none}.ncmp__normalise button,.ncmp__normalise input{overflow:visible}.ncmp__normalise button,.ncmp__normalise select{text-transform:none}.ncmp__normalise button,.ncmp__normalise [type=button],.ncmp__normalise [type=reset],.ncmp__normalise [type=submit]{-webkit-appearance:button}.ncmp__normalise button::-moz-focus-inner,.ncmp__normalise [type=button]::-moz-focus-inner,.ncmp__normalise [type=reset]::-moz-focus-inner,.ncmp__normalise [type=submit]::-moz-focus-inner{border-style:none;padding:0}.ncmp__normalise button:-moz-focusring,.ncmp__normalise [type=button]:-moz-focusring,.ncmp__normalise [type=reset]:-moz-focusring,.ncmp__normalise [type=submit]:-moz-focusring{outline:1px dotted ButtonText}.ncmp__normalise fieldset{padding:.35em .75em .625em}.ncmp__normalise legend{box-sizing:border-box;color:inherit;display:table;max-width:100%;padding:0;white-space:normal}.ncmp__normalise progress{vertical-align:baseline}.ncmp__normalise textarea{overflow:auto}.ncmp__normalise [type=checkbox],.ncmp__normalise [type=radio]{box-sizing:border-box;padding:0}.ncmp__normalise [type=number]::-webkit-inner-spin-button,.ncmp__normalise [type=number]::-webkit-outer-spin-button{height:auto}.ncmp__normalise [type=search]{-webkit-appearance:textfield;outline-offset:-2px}.ncmp__normalise [type=search]::-webkit-search-decoration{-webkit-appearance:none}.ncmp__normalise ::-webkit-file-upload-button{-webkit-appearance:button;font:inherit}.ncmp__normalise details{display:block}.ncmp__normalise summary{display:list-item}.ncmp__normalise template{display:none}.ncmp__normalise [hidden]{display:none}#ncmp__tool,#ncmp__modal{font-family:\"Roboto\",Arial,Helvetica,sans-serif;font-weight:400;font-size:14px;line-height:22px;position:relative;z-index:2147483647}@media(max-width: 1024px){#ncmp__tool,#ncmp__modal{padding:10px;box-sizing:border-box}}#ncmp__tool a,#ncmp__modal a{color:#0061b1;text-decoration:none}#ncmp__tool a:hover,#ncmp__modal a:hover{color:#004680}#ncmp__tool button.ncmp__btn,#ncmp__tool a.ncmp__btn,#ncmp__modal button.ncmp__btn,#ncmp__modal a.ncmp__btn{cursor:pointer;-webkit-user-select:none;-moz-user-select:none;-ms-user-select:none;user-select:none;display:inline-block;background-image:none;outline:0;outline-offset:0;border:0;border-radius:2px;transition:all .15s ease-in-out;min-width:88px;padding:0 14px;-webkit-appearance:button;background-color:#0061b1;font-weight:400;letter-spacing:inherit;color:rgba(255,255,255,.87);margin-bottom:0;text-align:center;white-space:nowrap;vertical-align:middle;line-height:32px;height:32px}#ncmp__tool button.ncmp__btn:hover,#ncmp__tool a.ncmp__btn:hover,#ncmp__modal button.ncmp__btn:hover,#ncmp__modal a.ncmp__btn:hover{background-color:#0061b1;color:#fff;text-decoration:none}#ncmp__tool button.ncmp__btn.ncmp__btn-danger,#ncmp__tool a.ncmp__btn.ncmp__btn-danger,#ncmp__modal button.ncmp__btn.ncmp__btn-danger,#ncmp__modal a.ncmp__btn.ncmp__btn-danger{background-color:#fff;border:1px solid #0061b1;color:#0061b1}#ncmp__tool button.ncmp__btn.ncmp__btn-border,#ncmp__tool a.ncmp__btn.ncmp__btn-border,#ncmp__modal button.ncmp__btn.ncmp__btn-border,#ncmp__modal a.ncmp__btn.ncmp__btn-border{border:1px solid #0061b1;background-color:#fff;color:#0061b1}#ncmp__tool button.ncmp__btn.ncmp__btn-border:hover,#ncmp__tool a.ncmp__btn.ncmp__btn-border:hover,#ncmp__modal button.ncmp__btn.ncmp__btn-border:hover,#ncmp__modal a.ncmp__btn.ncmp__btn-border:hover{background-color:#fff;color:#0061b1}.ncmp__active{opacity:1 !important;pointer-events:all !important}.ncmp__language>a{position:absolute;z-index:44;top:15px;right:15px;font-size:12px;font-weight:500}.ncmp__language>a img{vertical-align:middle;width:16px;margin-right:8px}@media(max-width: 1023px){.ncmp__language>a{top:10px;font-size:10px}.ncmp__language>a img{width:14px}}.ncmp__language .ncmp__language-close{display:block;position:absolute;top:8px;right:8px}.ncmp__language .ncmp__language-close img{width:18px}.ncmp__language .ncmp__language-list{display:block;position:absolute;z-index:44;top:15px;right:15px;padding:10px;background:#083f6b;width:300px;box-shadow:-2px 4px 10px rgba(0,0,0,.5);opacity:0;pointer-events:none;transition:all .2s ease-in}.ncmp__language .ncmp__language-list a{color:#fff !important;font-weight:300}@media(max-width: 1023px){.ncmp__language .ncmp__language-list{width:auto;top:10px;right:10px;left:10px}}.ncmp__language .ncmp__language-list.active{pointer-events:all;opacity:.95}.ncmp__language .ncmp__language-list ul{list-style-type:none;display:grid;grid-template-columns:1fr 1fr 1fr;font-size:12px;margin:0;padding:0;grid-gap:3px}@media(max-width: 1023px){.ncmp__language .ncmp__language-list ul{grid-template-columns:1fr 1fr 1fr}}.ncmp__language .ncmp__language-list ul li{margin:0;padding:0;list-style-image:none}.ncmp__language.ncmp__language-modal>a{top:22px;right:30px}@media(max-width: 1023px){.ncmp__language.ncmp__language-modal>a{right:15px}.ncmp__language.ncmp__language-modal>a span{display:none}}.ncmp__language.ncmp__language-modal .ncmp__language-list{top:22px;right:30px}@media(max-width: 1023px){.ncmp__language.ncmp__language-modal .ncmp__language-list{width:auto;top:10px;right:10px;left:10px}}</style><style type=\"text/css\">.ncmp__banner{position:fixed;bottom:20px;right:20px;max-width:750px;background:#fff;box-shadow:0 0 8px rgba(0,0,0,.2);transition:opacity .25s ease-in;overflow:auto;max-height:100%;box-sizing:border-box;opacity:0;pointer-events:none;display:flex}@media(max-width: 1023px)and (min-height: 380px){.ncmp__banner{margin-top:10px;max-height:100vh;box-sizing:border-box;left:8px;bottom:8px;right:8px;max-width:100%;overflow:initial;background:#fff}}@media(max-width: 1023px)and (max-height: 379px){.ncmp__banner{top:20px;left:20px;max-width:100%}}.ncmp__banner .ncmp__banner-updated{padding:5px 10px;background:#ffdda9;color:#af3800;margin-bottom:15px;font-size:13px}@media(max-width: 1023px){.ncmp__banner .ncmp__banner-updated{font-size:11px;font-weight:500;line-height:16px;margin-bottom:10px}}.ncmp__banner .ncmp__banner-sections .ncmp__banner-section-1{margin-bottom:8px}.ncmp__banner .ncmp__banner-sections .ncmp__banner-section-1 p{margin:0;font-size:13px;line-height:20px;color:#595959}@media(max-width: 1023px){.ncmp__banner .ncmp__banner-sections .ncmp__banner-section-1 p{font-size:11px;line-height:16px}}.ncmp__banner .ncmp__banner-sections .ncmp__banner-section-2 p.ncmp__banner-emphasis,.ncmp__banner .ncmp__banner-sections .ncmp__banner-section-3 p.ncmp__banner-emphasis{margin:0 0 5px 0;font-weight:500;font-size:13px;line-height:20px;color:#111}@media(max-width: 1023px){.ncmp__banner .ncmp__banner-sections .ncmp__banner-section-2 p.ncmp__banner-emphasis,.ncmp__banner .ncmp__banner-sections .ncmp__banner-section-3 p.ncmp__banner-emphasis{font-size:11px;line-height:16px}}.ncmp__banner .ncmp__banner-sections .ncmp__banner-section-2 p.ncmp__banner-emphasis strong,.ncmp__banner .ncmp__banner-sections .ncmp__banner-section-3 p.ncmp__banner-emphasis strong{font-weight:500}.ncmp__banner .ncmp__banner-sections .ncmp__banner-section-2 p,.ncmp__banner .ncmp__banner-sections .ncmp__banner-section-3 p{margin:0;font-size:13px;line-height:20px;color:#595959}@media(max-width: 1023px){.ncmp__banner .ncmp__banner-sections .ncmp__banner-section-2 p,.ncmp__banner .ncmp__banner-sections .ncmp__banner-section-3 p{font-size:11px;line-height:16px}}.ncmp__banner .ncmp__banner-inner{padding:20px;flex:1 1 auto;min-width:1px}@media(max-width: 1023px)and (min-height: 380px){.ncmp__banner .ncmp__banner-inner{padding:0;box-sizing:border-box}}@media(max-width: 1023px)and (max-height: 379px){.ncmp__banner .ncmp__banner-inner{padding:0;display:flex;flex-direction:column;height:100%;box-sizing:border-box}}.ncmp__banner .ncmp__banner-info{flex:1;display:flex}@media(max-width: 1023px){.ncmp__banner .ncmp__banner-info{flex:1 1 auto;overflow:auto;box-sizing:border-box;padding:12px 12px 0 12px;display:block;margin-bottom:12px}}.ncmp__banner .ncmp__banner-info h2{font-weight:600;font-size:16px;margin:0 0 10px 0;line-height:22px}@media(max-width: 1023px){.ncmp__banner .ncmp__banner-info h2{font-size:14px;margin-bottom:6px}}.ncmp__banner .ncmp__banner-info a.ncmp__toggle{font-weight:500}.ncmp__banner .ncmp__banner-info a.ncmp__toggle svg{vertical-align:middle;margin-right:5px;position:relative;top:-1px;-webkit-transform:rotate(-90deg);transform:rotate(-90deg);transition:.5s ease;fill:#2196f3}.ncmp__banner .ncmp__banner-info .ncmp__expand{max-height:0;transition:all .15s linear;overflow:hidden}.ncmp__banner .ncmp__banner-info h3{margin-left:25px;font-size:14px;font-weight:500;margin:10px 0 10px 25px;line-height:22px}.ncmp__banner .ncmp__banner-info ul{margin:0;margin-bottom:0;color:#595959}.ncmp__banner .ncmp__banner-info #ncmp__banner-features.ncmp__active a.ncmp__toggle,.ncmp__banner .ncmp__banner-info #ncmp__banner-information.ncmp__active a.ncmp__toggle,.ncmp__banner .ncmp__banner-info #ncmp__banner-purposes.ncmp__active a.ncmp__toggle{display:inline-block;margin-bottom:5px}.ncmp__banner .ncmp__banner-info #ncmp__banner-features.ncmp__active a.ncmp__toggle svg,.ncmp__banner .ncmp__banner-info #ncmp__banner-information.ncmp__active a.ncmp__toggle svg,.ncmp__banner .ncmp__banner-info #ncmp__banner-purposes.ncmp__active a.ncmp__toggle svg{-webkit-transform:rotate(0deg);transform:rotate(0deg)}.ncmp__banner .ncmp__banner-info #ncmp__banner-features.ncmp__active .ncmp__expand,.ncmp__banner .ncmp__banner-info #ncmp__banner-information.ncmp__active .ncmp__expand,.ncmp__banner .ncmp__banner-info #ncmp__banner-purposes.ncmp__active .ncmp__expand{max-height:370px}.ncmp__banner .ncmp__banner-info #ncmp__banner-features{margin-bottom:10px}.ncmp__banner .ncmp__banner-info #ncmp__banner-information,.ncmp__banner .ncmp__banner-info #ncmp__banner-purposes{margin-bottom:5px}.ncmp__banner .ncmp__banner-info #ncmp__banner-information.ncmp__active,.ncmp__banner .ncmp__banner-info #ncmp__banner-purposes.ncmp__active{margin-bottom:20px}.ncmp__banner .ncmp__banner-actions{margin-top:20px;box-sizing:border-box;text-align:right}@media(max-width: 1023px){.ncmp__banner .ncmp__banner-actions{text-align:left;margin-top:-6px;padding:0 12px 8px 12px}}.ncmp__banner .ncmp__banner-actions .ncmp__banner-btns{display:flex;margin:-2px}.ncmp__banner .ncmp__banner-actions .ncmp__banner-btns button{margin:5px;font-size:12px;font-weight:500 !important;line-height:20px;flex:1 1 40%}@media(max-width: 1023px){.ncmp__banner .ncmp__banner-actions .ncmp__banner-btns button{font-size:11px;margin:2px;height:28px !important;line-height:28px !important}}.ncmp__banner .ncmp__banner-actions .ncmp__banner-consent{display:flex;align-items:center;margin-top:10px}.ncmp__banner .ncmp__banner-actions .ncmp__banner-consent .ncmp__banner-branding-btn{display:flex;flex:0 0 26px;font-size:0;margin:0 2px 0 0;align-items:center}.ncmp__banner .ncmp__banner-actions .ncmp__banner-consent .ncmp__banner-branding-btn a{display:flex;align-items:center;height:26px}.ncmp__banner .ncmp__banner-actions .ncmp__banner-consent .ncmp__banner-branding-btn img{height:14px;margin:0;position:relative;vertical-align:middle}.ncmp__banner .ncmp__banner-actions .ncmp__banner-consent p{font-size:13px;line-height:16px;color:#595959;font-weight:400;margin:0}@media(max-width: 1023px){.ncmp__banner .ncmp__banner-actions .ncmp__banner-consent p{display:inline-block;font-size:11px;line-height:12px}}@media(max-width: 1023px)and (min-height: 380px){.ncmp__banner .ncmp__banner-actions{width:100%}}</style><style type=\"text/css\">#ncmp__modal{position:fixed;top:0;left:0;right:0;bottom:0;opacity:0;pointer-events:none;transition:opacity .25s ease-in;display:flex;justify-content:center;align-items:center}#ncmp__modal .ncmp__shadow{position:absolute;top:0;left:0;right:0;bottom:0;background:rgba(0,0,0,.2);z-index:1}#ncmp__modal .ncmp__modal{width:1100px;height:85vh;z-index:2;background:#fff;box-shadow:0 11px 15px -7px rgba(0,0,0,.2),0 24px 38px 3px rgba(0,0,0,.14),0 9px 46px 8px rgba(0,0,0,.12);display:flex;flex-direction:column;position:relative;overflow:hidden}@media(max-width: 1150px){#ncmp__modal .ncmp__modal{width:900px}}@media(max-width: 1024px){#ncmp__modal .ncmp__modal{width:100%;height:100%;box-sizing:border-box}}#ncmp__modal .ncmp__modal .ncmp__modal-content{display:flex;flex:1 1 auto;height:0}@media(max-width: 1023px){#ncmp__modal .ncmp__modal .ncmp__modal-content{flex-direction:column-reverse}}#ncmp__modal .ncmp__modal .ncmp__modal-content .ncmp__nav-hamburger{display:none}@media(max-width: 1023px){#ncmp__modal .ncmp__modal .ncmp__modal-content .ncmp__nav-hamburger{position:absolute;top:20px;left:15px;z-index:40;display:block;cursor:pointer}#ncmp__modal .ncmp__modal .ncmp__modal-content .ncmp__nav-hamburger svg{width:24px;height:24px}}#ncmp__modal .ncmp__modal .ncmp__modal-content .ncmp__nav{flex:0 0 240px;background:#0061b1;color:#fff;overflow:auto}@media(max-width: 1023px){#ncmp__modal .ncmp__modal .ncmp__modal-content .ncmp__nav{position:absolute;top:0;left:-240px;bottom:0;width:240px;z-index:50;transition:all .15s ease-in;overflow:auto}#ncmp__modal .ncmp__modal .ncmp__modal-content .ncmp__nav.ncmp__nav-active{left:0}}#ncmp__modal .ncmp__modal .ncmp__modal-content .ncmp__nav .ncmp__nav-top{height:66px;background:#1e83d4}#ncmp__modal .ncmp__modal .ncmp__modal-content .ncmp__nav ul{margin:0;padding:0;list-style:none}#ncmp__modal .ncmp__modal .ncmp__modal-content .ncmp__nav ul li{border-bottom:1px solid #1673bf}#ncmp__modal .ncmp__modal .ncmp__modal-content .ncmp__nav ul li.ncmp__nav-header{color:#fff;height:42px;line-height:42px;padding:0 20px;font-size:15px;font-weight:500;background:#00569c}#ncmp__modal .ncmp__modal .ncmp__modal-content .ncmp__nav ul li.ncmp__nav-item.ncmp__nav-item-active a{cursor:default;background:#004279 !important}#ncmp__modal .ncmp__modal .ncmp__modal-content .ncmp__nav ul li.ncmp__nav-item a{display:flex;font-size:13px;font-weight:300;text-decoration:none;color:#fff;padding:6px 20px;line-height:18px;align-items:center}#ncmp__modal .ncmp__modal .ncmp__modal-content .ncmp__nav ul li.ncmp__nav-item a:hover{background:#004279}#ncmp__modal .ncmp__modal .ncmp__modal-content .ncmp__nav ul li.ncmp__nav-item a .ncmp__purpose-status{display:block;flex:0 0 8px;width:8px;height:8px;border-radius:50%;background:#2787d6;margin-right:10px}#ncmp__modal .ncmp__modal .ncmp__modal-content .ncmp__nav ul li.ncmp__nav-item a .ncmp__purpose-status.ncmp__purpose-status-on{background:#6fff34}#ncmp__modal .ncmp__modal .ncmp__modal-content .ncmp__nav ul li.ncmp__nav-purpose a em{font-style:normal}#ncmp__modal .ncmp__modal .ncmp__modal-content .ncmp__router{flex:1 1 auto}#ncmp__modal .ncmp__modal h2{display:flex;align-items:center;position:-webkit-sticky;position:sticky;top:0;margin:0;padding:0 120px 0 30px;background:#fff;color:#000;font-weight:500;font-size:20px;z-index:10;height:66px;line-height:22px;text-transform:none}@media(max-width: 1023px){#ncmp__modal .ncmp__modal h2{font-size:16px;padding:0 15px 0 50px}}#ncmp__modal .ncmp__modal .ncmp__back{border:none;background:#fff;border-radius:50%;cursor:pointer;width:26px;height:26px;align-items:center;justify-content:center;display:flex;vertical-align:middle;font-size:0 !important;margin-right:10px;transition:all .1s ease-in}#ncmp__modal .ncmp__modal .ncmp__back svg{width:16px;height:16px;fill:#0061b1;transition:all .1s ease-in}#ncmp__modal .ncmp__modal .ncmp__back:hover{background:#0061b1}#ncmp__modal .ncmp__modal .ncmp__back:hover svg{fill:#fff}#ncmp__modal .ncmp__modal .ncmp__vendor-info{position:absolute;top:0;bottom:66px;right:-40%;z-index:30;background:#ececec;box-sizing:border-box;width:40%;transition:all .15s ease-in;overflow:auto}#ncmp__modal .ncmp__modal .ncmp__vendor-info.ncmp__vendor-active{right:0}@media(max-width: 1023px){#ncmp__modal .ncmp__modal .ncmp__vendor-info{width:100%;right:-100%}#ncmp__modal .ncmp__modal .ncmp__vendor-info.ncmp__vendor-active{right:0}}#ncmp__modal .ncmp__modal .ncmp__vendor-info .ncmp__vendor-body{padding:30px}@media(max-width: 1023px){#ncmp__modal .ncmp__modal .ncmp__vendor-info .ncmp__vendor-body{padding:15px}}#ncmp__modal .ncmp__modal .ncmp__vendor-info .ncmp__vendor-body h3{margin:0 0 10px 0;font-size:16px;font-weight:500;line-height:22px}#ncmp__modal .ncmp__modal .ncmp__vendor-info .ncmp__vendor-body .ncmp__vendor-section{margin-bottom:30px}@media(max-width: 1023px){#ncmp__modal .ncmp__modal .ncmp__vendor-info .ncmp__vendor-body .ncmp__vendor-section{margin-bottom:15px}}#ncmp__modal .ncmp__modal .ncmp__vendor-info .ncmp__vendor-body .ncmp__vendor-section a{word-break:break-all}#ncmp__modal .ncmp__modal .ncmp__vendor-info .ncmp__vendor-body .ncmp__vendor-section table{width:100%;border-collapse:collapse;box-sizing:border-box}#ncmp__modal .ncmp__modal .ncmp__vendor-info .ncmp__vendor-body .ncmp__vendor-section table tr td{border-bottom:1px solid #ccc;padding:10px;background:#f8f8f8;font-size:13px;color:#444}#ncmp__modal .ncmp__modal .ncmp__vendor-info .ncmp__vendor-body .ncmp__vendor-section table tr td strong{display:block;font-weight:500;font-size:14px}#ncmp__modal .ncmp__modal .ncmp__vendor-info .ncmp__vendor-body .ncmp__vendor-section table tr:last-child td{border:none}#ncmp__modal .ncmp__modal .ncmp__nav-shadow{position:absolute;top:0;left:0;bottom:0;right:0;z-index:45;pointer-events:none;background:rgba(0,0,0,0);transition:all .15s ease-in}#ncmp__modal .ncmp__modal .ncmp__nav-shadow.ncmp__nav-shadow-active{pointer-events:all;background:rgba(0,0,0,.2)}#ncmp__modal .ncmp__modal .ncmp__vendor-shadow{position:absolute;top:0;left:0;bottom:66px;right:0;z-index:25;pointer-events:none;background:rgba(0,0,0,0);transition:all .15s ease-in}#ncmp__modal .ncmp__modal .ncmp__vendor-shadow.ncmp__vendor-active{pointer-events:all;background:rgba(0,0,0,.2)}#ncmp__modal .ncmp__modal .ncmp__router{flex:1 1 auto;overflow:auto;position:relative}#ncmp__modal .ncmp__modal .ncmp__router .ncmp__col-toggle{width:74px}#ncmp__modal .ncmp__modal .ncmp__router .ncmp__col-name{text-align:left}#ncmp__modal .ncmp__modal .ncmp__router .ncmp__col-type{width:20%}#ncmp__modal .ncmp__modal .ncmp__router .ncmp__icon-yes{display:inline-block}#ncmp__modal .ncmp__modal .ncmp__router .ncmp__icon-yes svg{fill:#dc4100}#ncmp__modal .ncmp__modal .ncmp__router .ncmp__icon-no{display:inline-block}#ncmp__modal .ncmp__modal .ncmp__router .ncmp__icon-no svg{fill:#d0d0d0}#ncmp__modal .ncmp__modal .ncmp__router .ncmp__cookie-expire{display:inline-block;margin-left:10px;line-height:16px}@media(max-width: 767px){#ncmp__modal .ncmp__modal .ncmp__router .ncmp__cookie-expire{display:none}}#ncmp__modal .ncmp__modal .ncmp__router .ncmp__cookie-expire strong{display:block;font-weight:600;font-size:11px}#ncmp__modal .ncmp__modal .ncmp__router .ncmp__reject-purposes,#ncmp__modal .ncmp__modal .ncmp__router .ncmp__reject-table,#ncmp__modal .ncmp__modal .ncmp__router .ncmp__reject-features{text-align:right;margin-top:10px;margin-bottom:-10px}@media(max-width: 1023px){#ncmp__modal .ncmp__modal .ncmp__router .ncmp__reject-purposes,#ncmp__modal .ncmp__modal .ncmp__router .ncmp__reject-table,#ncmp__modal .ncmp__modal .ncmp__router .ncmp__reject-features{text-align:left;margin-top:15px;margin-bottom:10px}}#ncmp__modal .ncmp__modal .ncmp__router .ncmp__reject-purposes a,#ncmp__modal .ncmp__modal .ncmp__router .ncmp__reject-table a,#ncmp__modal .ncmp__modal .ncmp__router .ncmp__reject-features a{text-decoration:underline;color:#222}#ncmp__modal .ncmp__modal .ncmp__router .ncmp__reject-purposes a:hover,#ncmp__modal .ncmp__modal .ncmp__router .ncmp__reject-table a:hover,#ncmp__modal .ncmp__modal .ncmp__router .ncmp__reject-features a:hover{color:#222}#ncmp__modal .ncmp__modal .ncmp__router .ncmp__reject-purposes a.ncmp__toggle-purposes-off,#ncmp__modal .ncmp__modal .ncmp__router .ncmp__reject-purposes a.ncmp__toggle-vendors-off,#ncmp__modal .ncmp__modal .ncmp__router .ncmp__reject-purposes a.ncmp__toggle-legint-purposes-off,#ncmp__modal .ncmp__modal .ncmp__router .ncmp__reject-purposes a.ncmp__toggle-legint-vendors-off,#ncmp__modal .ncmp__modal .ncmp__router .ncmp__reject-table a.ncmp__toggle-purposes-off,#ncmp__modal .ncmp__modal .ncmp__router .ncmp__reject-table a.ncmp__toggle-vendors-off,#ncmp__modal .ncmp__modal .ncmp__router .ncmp__reject-table a.ncmp__toggle-legint-purposes-off,#ncmp__modal .ncmp__modal .ncmp__router .ncmp__reject-table a.ncmp__toggle-legint-vendors-off,#ncmp__modal .ncmp__modal .ncmp__router .ncmp__reject-features a.ncmp__toggle-purposes-off,#ncmp__modal .ncmp__modal .ncmp__router .ncmp__reject-features a.ncmp__toggle-vendors-off,#ncmp__modal .ncmp__modal .ncmp__router .ncmp__reject-features a.ncmp__toggle-legint-purposes-off,#ncmp__modal .ncmp__modal .ncmp__router .ncmp__reject-features a.ncmp__toggle-legint-vendors-off{color:#555;font-weight:400}#ncmp__modal .ncmp__modal .ncmp__router .ncmp__reject-table{text-align:left;margin-bottom:10px}#ncmp__modal .ncmp__modal .ncmp__router .ncmp__information .ncmp__information-body,#ncmp__modal .ncmp__modal .ncmp__router .ncmp__information .ncmp__object-body,#ncmp__modal .ncmp__modal .ncmp__router .ncmp__object .ncmp__information-body,#ncmp__modal .ncmp__modal .ncmp__router .ncmp__object .ncmp__object-body{padding:30px;background:#efefef;position:relative}@media(max-width: 1023px){#ncmp__modal .ncmp__modal .ncmp__router .ncmp__information .ncmp__information-body,#ncmp__modal .ncmp__modal .ncmp__router .ncmp__information .ncmp__object-body,#ncmp__modal .ncmp__modal .ncmp__router .ncmp__object .ncmp__information-body,#ncmp__modal .ncmp__modal .ncmp__router .ncmp__object .ncmp__object-body{padding:15px}}#ncmp__modal .ncmp__modal .ncmp__router .ncmp__section .ncmp__description-legal{margin-bottom:30px}@media(max-width: 1023px){#ncmp__modal .ncmp__modal .ncmp__router .ncmp__section .ncmp__description-legal{margin-bottom:15px}}#ncmp__modal .ncmp__modal .ncmp__router .ncmp__section .ncmp__description-legal strong{margin-bottom:5px;display:block;font-weight:500}#ncmp__modal .ncmp__modal .ncmp__router .ncmp__section .ncmp__description-legal h3{margin:0 0 5px 0;font-size:14px;font-weight:500;line-height:22px}#ncmp__modal .ncmp__modal .ncmp__router .ncmp__section .ncmp__description-legal p{margin:0;white-space:pre-wrap;font-size:14px}#ncmp__modal .ncmp__modal .ncmp__router .ncmp__section .ncmp__section-body{padding:30px;background:#efefef;position:relative}@media(max-width: 1023px){#ncmp__modal .ncmp__modal .ncmp__router .ncmp__section .ncmp__section-body{padding:15px}}#ncmp__modal .ncmp__modal .ncmp__router .ncmp__section table{width:100%;border-collapse:collapse;box-sizing:border-box}#ncmp__modal .ncmp__modal .ncmp__router .ncmp__section table tr td{border-bottom:1px solid #ccc;padding:5px 10px;font-size:13px;color:#444}#ncmp__modal .ncmp__modal .ncmp__router .ncmp__section table tr td p{margin:0;font-size:13px}#ncmp__modal .ncmp__modal .ncmp__router .ncmp__section table tr th{position:-webkit-sticky;position:sticky;top:66px;z-index:9;padding:5px;font-weight:400;font-size:13px;background:#2d2d2d;color:#fff;border:none}#ncmp__modal .ncmp__modal .ncmp__router .ncmp__section table tr:nth-child(even) td{background:#e4e4e4}#ncmp__modal .ncmp__modal .ncmp__router section{margin-bottom:30px}@media(max-width: 1023px){#ncmp__modal .ncmp__modal .ncmp__router section{margin-bottom:15px}}#ncmp__modal .ncmp__modal .ncmp__router section .ncmp__section-title{margin-bottom:15px}@media(max-width: 1023px){#ncmp__modal .ncmp__modal .ncmp__router section .ncmp__section-title{margin-bottom:5px}}#ncmp__modal .ncmp__modal .ncmp__router section .ncmp__section-title h3{font-weight:500;font-size:15px;margin:0;line-height:22px}@media(max-width: 1023px){#ncmp__modal .ncmp__modal .ncmp__router section .ncmp__section-title h3{font-size:16px}}#ncmp__modal .ncmp__modal .ncmp__router section .ncmp__section-details p{margin-top:0;font-size:14px}#ncmp__modal .ncmp__modal .ncmp__router section .ncmp__section-details p:last-child{margin:0}#ncmp__modal .ncmp__modal .ncmp__router .ncmp__list{display:grid;grid-template-columns:1fr;grid-gap:20px;flex-wrap:wrap}@media(max-width: 1024px){#ncmp__modal .ncmp__modal .ncmp__router .ncmp__list{grid-template-columns:1fr}}#ncmp__modal .ncmp__modal .ncmp__router .ncmp__list .ncmp__list-item{flex:1 0 30%;background:#fbfbfb;padding:15px;display:flex;flex-direction:column}#ncmp__modal .ncmp__modal .ncmp__router .ncmp__list .ncmp__list-item .ncmp__toggle{flex:0 0 72px;float:right;margin-left:15px;margin-bottom:15px}#ncmp__modal .ncmp__modal .ncmp__router .ncmp__list .ncmp__list-item .ncmp__list-info{flex:1 1 auto}#ncmp__modal .ncmp__modal .ncmp__router .ncmp__list .ncmp__list-item .ncmp__list-info strong{display:block;font-weight:500;font-size:15px;margin-bottom:5px}#ncmp__modal .ncmp__modal .ncmp__router .ncmp__list .ncmp__list-item .ncmp__list-info p{margin:0;color:#444;font-weight:400;font-size:13px}#ncmp__modal .ncmp__modal .ncmp__router .ncmp__list .ncmp__list-item .ncmp__list-action{flex:0 0 auto;font-size:13px;padding-top:5px}#ncmp__modal .ncmp__modal .ncmp__router .ncmp__list .ncmp__list-item .ncmp__list-action a{color:#595959;border-bottom:1px solid #ccc;font-weight:400}#ncmp__modal .ncmp__modal .ncmp__router .ncmp__list .ncmp__list-item .ncmp__list-action a:hover{color:#222}#ncmp__modal .ncmp__modal .ncmp__router .ncmp__toggle{width:56px;height:24px;position:relative;display:inline-block;vertical-align:middle}#ncmp__modal .ncmp__modal .ncmp__router .ncmp__toggle label{width:56px;height:24px;display:block;border-radius:34px;background-color:#cecece;transition:background-color .4s;cursor:pointer}#ncmp__modal .ncmp__modal .ncmp__router .ncmp__toggle label:before{content:\"\";display:block;background-color:#fff;bottom:3px;height:18px;left:3px;position:absolute;transition:.4s;width:18px;z-index:5;border-radius:100%}#ncmp__modal .ncmp__modal .ncmp__router .ncmp__toggle label span{position:absolute;top:0;left:0;right:0;bottom:0;display:block;line-height:24px;text-transform:uppercase;font-size:12px;font-weight:bold;color:#484848;padding-left:26px;transition:all .4s}#ncmp__modal .ncmp__modal .ncmp__router .ncmp__toggle label span.ncmp__toggle-on{opacity:0}#ncmp__modal .ncmp__modal .ncmp__router .ncmp__toggle input{position:absolute;opacity:0}#ncmp__modal .ncmp__modal .ncmp__router .ncmp__toggle input:checked+label{background-color:#0061b1}#ncmp__modal .ncmp__modal .ncmp__router .ncmp__toggle input:checked+label:before{-webkit-transform:translateX(32px);transform:translateX(32px)}#ncmp__modal .ncmp__modal .ncmp__router .ncmp__toggle input:checked+label span{color:#fff;padding-left:8px}#ncmp__modal .ncmp__modal .ncmp__router .ncmp__toggle input:checked+label span.ncmp__toggle-on{opacity:1}#ncmp__modal .ncmp__modal .ncmp__router .ncmp__toggle input:checked+label span.ncmp__toggle-off{opacity:0}#ncmp__modal .ncmp__modal .ncmp__modal-actions{flex:0 0 auto;padding:0 15px;height:66px;display:flex;align-items:center}#ncmp__modal .ncmp__modal .ncmp__modal-actions .ncmp__branding{flex:1 1 auto;display:flex;align-items:center;color:#8e8e8e}#ncmp__modal .ncmp__modal .ncmp__modal-actions .ncmp__branding .ncmp__branding-logo{flex:0 0 auto;margin-right:10px;display:flex;align-items:center}@media(max-width: 320px){#ncmp__modal .ncmp__modal .ncmp__modal-actions .ncmp__branding .ncmp__branding-logo{display:none}}#ncmp__modal .ncmp__modal .ncmp__modal-actions .ncmp__branding .ncmp__branding-logo a{display:flex;align-items:center}#ncmp__modal .ncmp__modal .ncmp__modal-actions .ncmp__branding .ncmp__branding-logo a img{width:26px;height:20px}#ncmp__modal .ncmp__modal .ncmp__modal-actions .ncmp__branding .ncmp__branding-version{flex:1 1 auto;font-size:11px;line-height:14px}@media(max-width: 1023px){#ncmp__modal .ncmp__modal .ncmp__modal-actions .ncmp__branding .ncmp__branding-version{display:none}}#ncmp__modal .ncmp__modal .ncmp__modal-actions .ncmp__branding .ncmp__branding-version span{display:block}#ncmp__modal .ncmp__modal .ncmp__modal-actions .ncmp__branding .ncmp__branding-version span a{border-bottom:1px solid #dedede;color:#777}#ncmp__modal .ncmp__modal .ncmp__modal-actions .ncmp__branding .ncmp__branding-version span a:hover{color:#666}#ncmp__modal .ncmp__modal .ncmp__modal-actions .ncmp__buttons{flex:0 0 auto}#ncmp__modal .ncmp__modal .ncmp__modal-actions .ncmp__buttons button{margin-left:5px}</style><meta http-equiv=\"origin-trial\" content=\"AxujKG9INjsZ8/gUq8+dTruNvk7RjZQ1oFhhgQbcTJKDnZfbzSTE81wvC2Hzaf3TW4avA76LTZEMdiedF1vIbA4AAABueyJvcmlnaW4iOiJodHRwczovL2ltYXNkay5nb29nbGVhcGlzLmNvbTo0NDMiLCJmZWF0dXJlIjoiVHJ1c3RUb2tlbnMiLCJleHBpcnkiOjE2NTI3NzQ0MDAsImlzVGhpcmRQYXJ0eSI6dHJ1ZX0=\"><meta http-equiv=\"origin-trial\" content=\"Azuce85ORtSnWe1MZDTv68qpaW3iHyfL9YbLRy0cwcCZwVnePnOmkUJlG8HGikmOwhZU22dElCcfrfX2HhrBPAkAAAB7eyJvcmlnaW4iOiJodHRwczovL2RvdWJsZWNsaWNrLm5ldDo0NDMiLCJmZWF0dXJlIjoiVHJ1c3RUb2tlbnMiLCJleHBpcnkiOjE2NTI3NzQ0MDAsImlzU3ViZG9tYWluIjp0cnVlLCJpc1RoaXJkUGFydHkiOnRydWV9\"><meta http-equiv=\"origin-trial\" content=\"A16nvcdeoOAqrJcmjLRpl1I6f3McDD8EfofAYTt/P/H4/AWwB99nxiPp6kA0fXoiZav908Z8etuL16laFPUdfQsAAACBeyJvcmlnaW4iOiJodHRwczovL2dvb2dsZXRhZ3NlcnZpY2VzLmNvbTo0NDMiLCJmZWF0dXJlIjoiVHJ1c3RUb2tlbnMiLCJleHBpcnkiOjE2NTI3NzQ0MDAsImlzU3ViZG9tYWluIjp0cnVlLCJpc1RoaXJkUGFydHkiOnRydWV9\"><meta http-equiv=\"origin-trial\" content=\"AxBHdr0J44vFBQtZUqX9sjiqf5yWZ/OcHRcRMN3H9TH+t90V/j3ENW6C8+igBZFXMJ7G3Pr8Dd13632aLng42wgAAACBeyJvcmlnaW4iOiJodHRwczovL2dvb2dsZXN5bmRpY2F0aW9uLmNvbTo0NDMiLCJmZWF0dXJlIjoiVHJ1c3RUb2tlbnMiLCJleHBpcnkiOjE2NTI3NzQ0MDAsImlzU3ViZG9tYWluIjp0cnVlLCJpc1RoaXJkUGFydHkiOnRydWV9\"><meta http-equiv=\"origin-trial\" content=\"A88BWHFjcawUfKU3lIejLoryXoyjooBXLgWmGh+hNcqMK44cugvsI5YZbNarYvi3roc1fYbHA1AVbhAtuHZflgEAAAB2eyJvcmlnaW4iOiJodHRwczovL2dvb2dsZS5jb206NDQzIiwiZmVhdHVyZSI6IlRydXN0VG9rZW5zIiwiZXhwaXJ5IjoxNjUyNzc0NDAwLCJpc1N1YmRvbWFpbiI6dHJ1ZSwiaXNUaGlyZFBhcnR5Ijp0cnVlfQ==\"><meta http-equiv=\"origin-trial\" content=\"AzoawhTRDevLR66Y6MROu167EDncFPBvcKOaQispTo9ouEt5LvcBjnRFqiAByRT+2cDHG1Yj4dXwpLeIhc98/gIAAACFeyJvcmlnaW4iOiJodHRwczovL2RvdWJsZWNsaWNrLm5ldDo0NDMiLCJmZWF0dXJlIjoiUHJpdmFjeVNhbmRib3hBZHNBUElzIiwiZXhwaXJ5IjoxNjYxMjk5MTk5LCJpc1N1YmRvbWFpbiI6dHJ1ZSwiaXNUaGlyZFBhcnR5Ijp0cnVlfQ==\"><meta http-equiv=\"origin-trial\" content=\"A6+nc62kbJgC46ypOwRsNW6RkDn2x7tgRh0wp7jb3DtFF7oEhu1hhm4rdZHZ6zXvnKZLlYcBlQUImC4d3kKihAcAAACLeyJvcmlnaW4iOiJodHRwczovL2dvb2dsZXN5bmRpY2F0aW9uLmNvbTo0NDMiLCJmZWF0dXJlIjoiUHJpdmFjeVNhbmRib3hBZHNBUElzIiwiZXhwaXJ5IjoxNjYxMjk5MTk5LCJpc1N1YmRvbWFpbiI6dHJ1ZSwiaXNUaGlyZFBhcnR5Ijp0cnVlfQ==\"><meta http-equiv=\"origin-trial\" content=\"A/9La288e7MDEU2ifusFnMg1C2Ij6uoa/Z/ylwJIXSsWfK37oESIPbxbt4IU86OGqDEPnNVruUiMjfKo65H/CQwAAACLeyJvcmlnaW4iOiJodHRwczovL2dvb2dsZXRhZ3NlcnZpY2VzLmNvbTo0NDMiLCJmZWF0dXJlIjoiUHJpdmFjeVNhbmRib3hBZHNBUElzIiwiZXhwaXJ5IjoxNjYxMjk5MTk5LCJpc1N1YmRvbWFpbiI6dHJ1ZSwiaXNUaGlyZFBhcnR5Ijp0cnVlfQ==\"><script src=\"https://securepubads.g.doubleclick.net/gpt/pubads_impl_2022051201.js\" async=\"\"></script><meta http-equiv=\"origin-trial\" content=\"AxujKG9INjsZ8/gUq8+dTruNvk7RjZQ1oFhhgQbcTJKDnZfbzSTE81wvC2Hzaf3TW4avA76LTZEMdiedF1vIbA4AAABueyJvcmlnaW4iOiJodHRwczovL2ltYXNkay5nb29nbGVhcGlzLmNvbTo0NDMiLCJmZWF0dXJlIjoiVHJ1c3RUb2tlbnMiLCJleHBpcnkiOjE2NTI3NzQ0MDAsImlzVGhpcmRQYXJ0eSI6dHJ1ZX0=\"><meta http-equiv=\"origin-trial\" content=\"Azuce85ORtSnWe1MZDTv68qpaW3iHyfL9YbLRy0cwcCZwVnePnOmkUJlG8HGikmOwhZU22dElCcfrfX2HhrBPAkAAAB7eyJvcmlnaW4iOiJodHRwczovL2RvdWJsZWNsaWNrLm5ldDo0NDMiLCJmZWF0dXJlIjoiVHJ1c3RUb2tlbnMiLCJleHBpcnkiOjE2NTI3NzQ0MDAsImlzU3ViZG9tYWluIjp0cnVlLCJpc1RoaXJkUGFydHkiOnRydWV9\"><meta http-equiv=\"origin-trial\" content=\"A16nvcdeoOAqrJcmjLRpl1I6f3McDD8EfofAYTt/P/H4/AWwB99nxiPp6kA0fXoiZav908Z8etuL16laFPUdfQsAAACBeyJvcmlnaW4iOiJodHRwczovL2dvb2dsZXRhZ3NlcnZpY2VzLmNvbTo0NDMiLCJmZWF0dXJlIjoiVHJ1c3RUb2tlbnMiLCJleHBpcnkiOjE2NTI3NzQ0MDAsImlzU3ViZG9tYWluIjp0cnVlLCJpc1RoaXJkUGFydHkiOnRydWV9\"><meta http-equiv=\"origin-trial\" content=\"AxBHdr0J44vFBQtZUqX9sjiqf5yWZ/OcHRcRMN3H9TH+t90V/j3ENW6C8+igBZFXMJ7G3Pr8Dd13632aLng42wgAAACBeyJvcmlnaW4iOiJodHRwczovL2dvb2dsZXN5bmRpY2F0aW9uLmNvbTo0NDMiLCJmZWF0dXJlIjoiVHJ1c3RUb2tlbnMiLCJleHBpcnkiOjE2NTI3NzQ0MDAsImlzU3ViZG9tYWluIjp0cnVlLCJpc1RoaXJkUGFydHkiOnRydWV9\"><meta http-equiv=\"origin-trial\" content=\"A88BWHFjcawUfKU3lIejLoryXoyjooBXLgWmGh+hNcqMK44cugvsI5YZbNarYvi3roc1fYbHA1AVbhAtuHZflgEAAAB2eyJvcmlnaW4iOiJodHRwczovL2dvb2dsZS5jb206NDQzIiwiZmVhdHVyZSI6IlRydXN0VG9rZW5zIiwiZXhwaXJ5IjoxNjUyNzc0NDAwLCJpc1N1YmRvbWFpbiI6dHJ1ZSwiaXNUaGlyZFBhcnR5Ijp0cnVlfQ==\"><meta http-equiv=\"origin-trial\" content=\"AzoawhTRDevLR66Y6MROu167EDncFPBvcKOaQispTo9ouEt5LvcBjnRFqiAByRT+2cDHG1Yj4dXwpLeIhc98/gIAAACFeyJvcmlnaW4iOiJodHRwczovL2RvdWJsZWNsaWNrLm5ldDo0NDMiLCJmZWF0dXJlIjoiUHJpdmFjeVNhbmRib3hBZHNBUElzIiwiZXhwaXJ5IjoxNjYxMjk5MTk5LCJpc1N1YmRvbWFpbiI6dHJ1ZSwiaXNUaGlyZFBhcnR5Ijp0cnVlfQ==\"><meta http-equiv=\"origin-trial\" content=\"A6+nc62kbJgC46ypOwRsNW6RkDn2x7tgRh0wp7jb3DtFF7oEhu1hhm4rdZHZ6zXvnKZLlYcBlQUImC4d3kKihAcAAACLeyJvcmlnaW4iOiJodHRwczovL2dvb2dsZXN5bmRpY2F0aW9uLmNvbTo0NDMiLCJmZWF0dXJlIjoiUHJpdmFjeVNhbmRib3hBZHNBUElzIiwiZXhwaXJ5IjoxNjYxMjk5MTk5LCJpc1N1YmRvbWFpbiI6dHJ1ZSwiaXNUaGlyZFBhcnR5Ijp0cnVlfQ==\"><meta http-equiv=\"origin-trial\" content=\"A/9La288e7MDEU2ifusFnMg1C2Ij6uoa/Z/ylwJIXSsWfK37oESIPbxbt4IU86OGqDEPnNVruUiMjfKo65H/CQwAAACLeyJvcmlnaW4iOiJodHRwczovL2dvb2dsZXRhZ3NlcnZpY2VzLmNvbTo0NDMiLCJmZWF0dXJlIjoiUHJpdmFjeVNhbmRib3hBZHNBUElzIiwiZXhwaXJ5IjoxNjYxMjk5MTk5LCJpc1N1YmRvbWFpbiI6dHJ1ZSwiaXNUaGlyZFBhcnR5Ijp0cnVlfQ==\"><script async=\"\" src=\"https://sdks.shopifycdn.com/buy-button/latest/buy-button-storefront.min.js\"></script><style>.shopify-buy-modal-is-active {\\n  height: 100%;\\n  overflow: auto;\\n}\\n\\n.shopify-buy-frame {\\n  display: inline-block\\n}\\n\\n.shopify-buy-frame iframe {\\n    width: 100%;\\n    display: block;\\n    height: 0;\\n    overflow: hidden;\\n  }\\n\\n.shopify-buy-frame--cart {\\n  width: 100%;\\n  max-width: 350px;\\n  position: fixed;\\n  top: 0;\\n  right: 0;\\n  height: 100%;\\n  z-index: 2147483647;\\n  transform: translateX(100%);\\n  -webkit-transform: translateX(100%);\\n  visibility: hidden\\n}\\n\\n.shopify-buy-frame--cart iframe {\\n    height: 100%;\\n    display: none\\n  }\\n\\n.shopify-buy-frame--cart iframe.is-block {\\n      display: block;\\n    }\\n\\n.shopify-buy-frame--cart.is-initialized {\\n    -webkit-transition: -webkit-transform 250ms cubic-bezier(0.165, 0.84, 0.44, 1);\\n    transition: -webkit-transform 250ms cubic-bezier(0.165, 0.84, 0.44, 1);\\n    transition: transform 250ms cubic-bezier(0.165, 0.84, 0.44, 1);\\n    transition: transform 250ms cubic-bezier(0.165, 0.84, 0.44, 1), -webkit-transform 250ms cubic-bezier(0.165, 0.84, 0.44, 1);\\n  }\\n\\n.shopify-buy-frame--cart.is-active {\\n    transform: translateX(0);\\n    -webkit-transform: translateX(0);\\n  }\\n\\n.shopify-buy-frame--cart.is-visible {\\n    visibility: visible;\\n  }\\n\\n.shopify-buy-frame--product {\\n  display: block\\n}\\n\\n.shopify-buy-frame--product.shopify-buy__layout-horizontal {\\n    display: block;\\n    margin-left: auto;\\n\\n    margin-right: auto\\n  }\\n\\n.shopify-buy-frame--product.shopify-buy__layout-horizontal iframe {\\n      max-width: 100%\\n    }\\n\\n@media (min-width: 950px) {\\n\\n.shopify-buy-frame--product.shopify-buy__layout-horizontal iframe {\\n        max-width: 950px;\\n        margin-left: auto;\\n        margin-right: auto\\n    }\\n      }\\n\\n.shopify-buy-frame--toggle {\\n  display: inline-block\\n}\\n\\n.shopify-buy-frame--toggle:not(.is-sticky) {\\n    overflow: hidden;\\n    padding: 5px;\\n  }\\n\\n.shopify-buy-frame--toggle.is-sticky {\\n    display: none;\\n    position: fixed;\\n    right: 0;\\n    top: 50%;\\n    transform: translateY(-50%);\\n    -webkit-transform: translateY(-50%);\\n    z-index: 2147483645;\\n  }\\n\\n.shopify-buy-frame--toggle.is-active.is-sticky {\\n    display: block;\\n  }\\n\\n.is-active .shopify-buy-frame--toggle iframe {\\n      min-height: 67px;\\n    }\\n\\n.shopify-buy-frame--productSet {\\n  width: 100%;\\n}\\n\\n.shopify-buy-frame--modal {\\n  position: fixed;\\n  width: 100%;\\n  height: 100%;\\n  top: 0;\\n  left: 0;\\n  z-index: 2147483646;\\n  display: none;\\n  -webkit-transition: background 300ms ease;\\n  transition: background 300ms ease\\n}\\n\\n.shopify-buy-frame--modal iframe {\\n    height: 100%;\\n    width: 100%;\\n    max-width: none;\\n  }\\n\\n.shopify-buy-frame--modal.is-active {\\n    background: rgba(0,0,0,0.6);\\n  }\\n\\n.shopify-buy-frame--modal.is-block {\\n    display: block;\\n  }\\n</style><meta http-equiv=\"origin-trial\" content=\"A0Bg2nddUj4Nw6FzsXudBXHZs1aAzIgO+UGzfJGkC1f4J56ghvJ6TCirjdt8BUwsK14sBBjWGmOY+QCTr2HrBQoAAACBeyJvcmlnaW4iOiJodHRwczovL3NlY3VyZXB1YmFkcy5nLmRvdWJsZWNsaWNrLm5ldDo0NDMiLCJmZWF0dXJlIjoiU3VicmVzb3VyY2VXZWJCdW5kbGVzIiwiZXhwaXJ5IjoxNjUyODMxOTk5LCJpc1RoaXJkUGFydHkiOnRydWV9\"><link type=\"text/css\" rel=\"stylesheet\" href=\"//account.opengamingnetwork.com/css/ognbar.min.css\"><script charset=\"utf-8\" src=\"https://platform.twitter.com/js/button.e878ad6ba18f0bdda53d6861059b0edd.js\"></script></head>\\n  <body class=\"page-template-default page page-id-62222 page-child parent-pageid-62190\">\\n      \\n<nav class=\"navbar navbar-inverse navbar-fixed-top\">\\n      <div class=\"container-fluid\">\\n        <div class=\"navbar-header\">\\n          <button type=\"button\" class=\"navbar-toggle collapsed\" data-toggle=\"collapse\" data-target=\"#navbar\" aria-expanded=\"false\" aria-controls=\"navbar\">\\n            <span class=\"sr-only\">Toggle navigation</span>\\n            <span class=\"icon-bar\"></span>\\n            <span class=\"icon-bar\"></span>\\n            <span class=\"icon-bar\"></span>\\n          </button>\\n        </div>\\n        <div id=\"navbar\" class=\"navbar-collapse collapse\" aria-expanded=\"false\" style=\"height: 1px;\">\\n            <ul class=\"nav navbar-nav\">\\n                <li class=\"dropdown\">\\n                    <a class=\"dropdown-toggle\" data-toggle=\"dropdown\" href=\"/\" aria-expanded=\"false\">OGN<span class=\"caret\"></span></a>\\n                    <ul class=\"dropdown-menu\" id=\"ogn-sites-dropdown\"><li><a href=\"//www.opengamingnetwork.com\" target=\"_blank\">Open Gaming Network</a></li>\\n<li role=\"separator\" class=\"divider\"></li>\\n<li><a href=\"//www.d20pfsrd.com\" target=\"_blank\">d20PFSRD</a></li>\\n<li><a href=\"//pf2.d20pfsrd.com\" target=\"_blank\">PF2 SRD</a></li>\\n<li><a href=\"//www.5esrd.com\" target=\"_blank\">5th Edition SRD</a></li>\\n<li><a href=\"//starjammersrd.com\" target=\"_blank\">Starjammer SRD</a></li>\\n<li><a href=\"//www.traveller-srd.com\" target=\"_blank\">Traveller SRD</a></li>\\n<li><a href=\"//www.dungeonworldsrd.com\" target=\"_blank\">Dungeon World SRD</a></li>\\n<li><a href=\"//www.13thagesrd.com\" target=\"_blank\">13th Age SRD</a></li>\\n<li><a href=\"//www.d20herosrd.com\" target=\"_blank\">d20HeroSRD</a></li>\\n<li><a href=\"//gumshoesrd.opengamingnetwork.com\" target=\"_blank\">Gumshoe SRD</a></li>\\n<li><a href=\"//fatecoresrd.opengamingnetwork.com\" target=\"_blank\">FateCoreSRD</a></li>\\n<li><a href=\"//fudgesrd.opengamingnetwork.com\" target=\"_blank\">Fudge SRD</a></li>\\n<li><a href=\"//d20animesrd.opengamingnetwork.com\" target=\"_blank\">Play Manga SRD</a></li>\\n<li role=\"separator\" class=\"divider\"></li>\\n<li><a href=\"//articles.opengamingnetwork.com\" target=\"_blank\">OGN Articles</a></li>\\n<li><a href=\"//forum.opengamingnetwork.com\" target=\"_blank\">OGN Forum</a></li>\\n<li><a href=\"//www.opengamingstore.com\" target=\"_blank\">Open Gaming Store</a></li></ul>\\n                </li>\\n                <li class=\"nav-item\">\\n                    <a class=\"nav-link\" href=\"/\">d20PFSRD</a>\\n                </li>\\n            <li class=\"nav-item\">\\n<a class=\"nav-link\" href=\"//forum.opengamingnetwork.com\">Forum</a>\\n</li></ul>\\n          <ul class=\"nav navbar-nav navbar-right\">\\n            <li id=\"ogn-login\" class=\"nav-item\"><a class=\"nav-link\" href=\"//account.opengamingnetwork.com/login?returnurl=https%3A%2F%2Fwww.d20pfsrd.com%2Fbestiary%2Fmonster-listings%2Foutsiders%2Fangel%2Fsolar%2F\">Login / Register</a></li>\\n            <li> \\n                <form class=\"search navbar-form navbar-right\" action=\"https://cse.google.com/cse\" method=\"get\" role=\"search\">\\n                    <input type=\"hidden\" value=\"006680642033474972217:6zo0hx_wle8\" name=\"cx\" id=\"cx\">\\n                <div class=\"input-group\">\\n                <input class=\"form-control\" name=\"q\" type=\"search\" required=\"\" placeholder=\"Google Site Search\" maxlength=\"50\"> \\n                <span class=\"input-group-btn\"> <button type=\"submit\" class=\"search-button btn btn-primary\"> <span class=\"glyphicon glyphicon-search\"></span> </button> </span> \\n                </div> \\n                </form>\\n            </li>            \\n        </ul></div><!--/.nav-collapse -->\\n      </div>\\n    </nav>\\n<div class=\"container-fluid\">\\n<div class=\"ognannouncement-container passive\">\\n<div class=\"ognannouncement passive\"></div>\\n</div>\\n<div class=\"header row-fluid\">\\n\\t<div class=\"col-sm-1 col-md-1 col-xs-0\"></div>\\n\\t<div class=\"col-sm-10 col-md-10 col-xs-12\">\\n\\t\\t<div class=\"logo\">\\n\\t\\t<a href=\"/\">\\n                    <img class=\"header-logo img-responsive\" src=\"https://www.d20pfsrd.com/wp-content/uploads/sites/12/2017/01/customLogo_gif.png\" height=\"139\" width=\"756\" alt=\"\">\\n\\t\\t</a>\\n\\t\\t</div>\\n\\t</div>\\n\\t<div class=\"col-sm-1 col-md-1 col-xs-0\"></div>\\n    <div class=\"clearfix\"></div>\\n    <header class=\"header\" role=\"banner\">\\n         <nav class=\"navbar\" role=\"navigation\">\\n\\n<!-- Header Menu -->\\n \\n\\n\\t<!--  Direct links / Right nav  \\n\\t<ul class=\"nav navbar-nav\">\\n            <li class=\"\"><a href=\"\"></a></li>\\n        </ul>\\n\\n\\t<ul class=\"nav navbar-nav navbar-right\">\\n  \\t <li class=\"\"><a href=\"\"></a></li>\\n        </ul>\\n \\t-->\\n    <div class=\"menuclear\"></div>\\n    </nav>    </header>      \\n</div>\\n<div class=\"clearfix\"></div>\\n<div class=\"content row-fluid\">\\n  \\n<div class=\"col-12\">\\n    <div class=\"row-fluid\">\\n\\n        <!-- Left Sidebar -->\\n    <aside class=\"sidebar-left\" role=\"complementary\">\\n    \\n    <div id=\"menu-expander\" class=\"menu-expander hidden-sm hidden-md hidden-lg\">\\n    <button type=\"button\" class=\"btn btn-default\" aria-label=\"Expand Menu\">\\n        <span id=\"expand-button\" class=\"glyphicon glyphicon-chevron-right\" aria-hidden=\"true\"></span>\\n    </button>\\n    <script type=\"text/javascript\">\\n        jQuery(\\'div#menu-expander\\').click(function() {\\n            jQuery(\\'.sidebar-contents\\').toggleClass(\\'expand-menu\\');\\n            jQuery(\\'main\\').toggleClass(\\'expand-menu\\');\\n            jQuery(\\'span#expand-button\\').toggleClass(\\'glyphicon-chevron-right\\').toggleClass(\\'glyphicon-chevron-left\\');\\n        });\\n    </script>\\n    </div>\\n     \\n    <div class=\"sidebar-contents\">\\n              <div class=\"sidebar-widget\">\\n               <div class=\"widget widget_ognajaxnav widget_srdpagelist\"><ul id=\"ognajaxnav1\" class=\"ognajaxnav\" parent=\"\" depth=\"0\" currentpage=\"62222\"><li class=\"page_item parent\" post_id=\"52278\"><div class=\"ognmenugap\"></div><a href=\"https://www.d20pfsrd.com/\">Home</a></li><li class=\"page_item parent page_item_has_children not_loaded active\" post_id=\"109106\"><div class=\"ognmenugap ognexpander\"></div><a href=\"https://www.d20pfsrd.com/basics-ability-scores/\">Basics &amp; Ability Scores</a></li><li class=\"page_item parent page_item_has_children not_loaded active\" post_id=\"70407\"><div class=\"ognmenugap ognexpander\"></div><a href=\"https://www.d20pfsrd.com/alignment-description/\">Alignment &amp; Description</a></li><li class=\"page_item parent page_item_has_children not_loaded active\" post_id=\"90602\"><div class=\"ognmenugap ognexpander\"></div><a href=\"https://www.d20pfsrd.com/races/\">Races</a></li><li class=\"page_item parent page_item_has_children\" post_id=\"81812\"><div class=\"ognmenugap ognexpander\"></div><a href=\"https://www.d20pfsrd.com/classes/\">Classes</a><ul class=\"children\"><li class=\"page_item parent\" post_id=\"218512\"><div class=\"ognmenugap\"></div><a href=\"https://www.d20pfsrd.com/classes/ex-class-archetypes/\">Ex-Class Archetypes</a></li><li class=\"page_item parent\" post_id=\"84814\"><div class=\"ognmenugap\"></div><a href=\"https://www.d20pfsrd.com/classes/character-advancement/\">Character Advancement</a></li><li class=\"page_item parent\" post_id=\"84816\"><div class=\"ognmenugap\"></div><a href=\"https://www.d20pfsrd.com/classes/class-archetypes/\">Class Archetypes</a></li><li class=\"page_item parent page_item_has_children\" post_id=\"84838\"><div class=\"ognmenugap ognexpander\"></div><a href=\"https://www.d20pfsrd.com/classes/core-classes/\">Core Classes</a><ul class=\"children\"><li class=\"page_item parent page_item_has_children not_loaded active\" post_id=\"84839\"><div class=\"ognmenugap ognexpander\"></div><a href=\"https://www.d20pfsrd.com/classes/core-classes/barbarian/\">Barbarian</a></li><li class=\"page_item parent page_item_has_children not_loaded active\" post_id=\"85337\"><div class=\"ognmenugap ognexpander\"></div><a href=\"https://www.d20pfsrd.com/classes/core-classes/bard/\">Bard</a></li><li class=\"page_item parent page_item_has_children not_loaded active\" post_id=\"85555\"><div class=\"ognmenugap ognexpander\"></div><a href=\"https://www.d20pfsrd.com/classes/core-classes/cleric/\">Cleric</a></li><li class=\"page_item parent page_item_has_children not_loaded active\" post_id=\"86263\"><div class=\"ognmenugap ognexpander\"></div><a href=\"https://www.d20pfsrd.com/classes/core-classes/druid/\">Druid</a></li><li class=\"page_item parent page_item_has_children not_loaded active\" post_id=\"86505\"><div class=\"ognmenugap ognexpander\"></div><a href=\"https://www.d20pfsrd.com/classes/core-classes/fighter/\">Fighter</a></li><li class=\"page_item parent page_item_has_children not_loaded active\" post_id=\"86676\"><div class=\"ognmenugap ognexpander\"></div><a href=\"https://www.d20pfsrd.com/classes/core-classes/monk/\">Monk</a></li><li class=\"page_item parent page_item_has_children not_loaded active\" post_id=\"86818\"><div class=\"ognmenugap ognexpander\"></div><a href=\"https://www.d20pfsrd.com/classes/core-classes/paladin/\">Paladin</a></li><li class=\"page_item parent page_item_has_children not_loaded active\" post_id=\"86966\"><div class=\"ognmenugap ognexpander\"></div><a href=\"https://www.d20pfsrd.com/classes/core-classes/ranger/\">Ranger</a></li><li class=\"page_item parent page_item_has_children not_loaded active\" post_id=\"87124\"><div class=\"ognmenugap ognexpander\"></div><a href=\"https://www.d20pfsrd.com/classes/core-classes/rogue/\">Rogue</a></li><li class=\"page_item parent page_item_has_children not_loaded active\" post_id=\"87852\"><div class=\"ognmenugap ognexpander\"></div><a href=\"https://www.d20pfsrd.com/classes/core-classes/sorcerer/\">Sorcerer</a></li><li class=\"page_item parent page_item_has_children not_loaded active\" post_id=\"88188\"><div class=\"ognmenugap ognexpander\"></div><a href=\"https://www.d20pfsrd.com/classes/core-classes/wizard/\">Wizard</a></li></ul></li><li class=\"page_item parent page_item_has_children not_loaded active\" post_id=\"83159\"><div class=\"ognmenugap ognexpander\"></div><a href=\"https://www.d20pfsrd.com/classes/base-classes/\">Base Classes</a></li><li class=\"page_item parent page_item_has_children not_loaded active\" post_id=\"82837\"><div class=\"ognmenugap ognexpander\"></div><a href=\"https://www.d20pfsrd.com/classes/alternate-classes/\">Alternate Classes</a></li><li class=\"page_item parent page_item_has_children not_loaded active\" post_id=\"88465\"><div class=\"ognmenugap ognexpander\"></div><a href=\"https://www.d20pfsrd.com/classes/hybrid-classes/\">Hybrid Classes</a></li><li class=\"page_item parent page_item_has_children not_loaded active\" post_id=\"89543\"><div class=\"ognmenugap ognexpander\"></div><a href=\"https://www.d20pfsrd.com/classes/unchained-classes/\">Unchained Classes</a></li><li class=\"page_item parent page_item_has_children not_loaded active\" post_id=\"89328\"><div class=\"ognmenugap ognexpander\"></div><a href=\"https://www.d20pfsrd.com/classes/prestige-classes/\">Prestige Classes</a></li><li class=\"page_item parent page_item_has_children not_loaded active\" post_id=\"89224\"><div class=\"ognmenugap ognexpander\"></div><a href=\"https://www.d20pfsrd.com/classes/npc-classes/\">NPC Classes</a></li><li class=\"page_item parent page_item_has_children not_loaded active\" post_id=\"81813\"><div class=\"ognmenugap ognexpander\"></div><a href=\"https://www.d20pfsrd.com/classes/3rd-party-classes/\">3rd Party Classes</a></li><li class=\"page_item parent page_item_has_children not_loaded active\" post_id=\"89218\"><div class=\"ognmenugap ognexpander\"></div><a href=\"https://www.d20pfsrd.com/classes/monster-classes/\">Monster Classes (3pp)</a></li><li class=\"page_item parent page_item_has_children not_loaded active\" post_id=\"84817\"><div class=\"ognmenugap ognexpander\"></div><a href=\"https://www.d20pfsrd.com/classes/arcane-archetypes-rogue-genius-games/\">Arcane Archetypes (3pp)</a></li><li class=\"page_item parent page_item_has_children not_loaded active\" post_id=\"82714\"><div class=\"ognmenugap ognexpander\"></div><a href=\"https://www.d20pfsrd.com/classes/3rd-party-prestige-classes/\">3rd Party Prestige Classes</a></li><li class=\"page_item parent page_item_has_children not_loaded active\" post_id=\"82708\"><div class=\"ognmenugap ognexpander\"></div><a href=\"https://www.d20pfsrd.com/classes/3rd-party-npc-classes/\">3rd Party NPC Classes</a></li></ul></li><li class=\"page_item parent page_item_has_children not_loaded active\" post_id=\"91199\"><div class=\"ognmenugap ognexpander\"></div><a href=\"https://www.d20pfsrd.com/feats/\">Feats</a></li><li class=\"page_item parent\" post_id=\"110850\"><div class=\"ognmenugap\"></div><a href=\"https://www.d20pfsrd.com/skills/\">Skills</a></li><li class=\"page_item parent\" post_id=\"110918\"><div class=\"ognmenugap\"></div><a href=\"https://www.d20pfsrd.com/traits/\">Traits</a></li><li class=\"page_item parent page_item_has_children not_loaded active\" post_id=\"109161\"><div class=\"ognmenugap ognexpander\"></div><a href=\"https://www.d20pfsrd.com/equipment/\">Equipment</a></li><li class=\"page_item parent page_item_has_children not_loaded active\" post_id=\"102432\"><div class=\"ognmenugap ognexpander\"></div><a href=\"https://www.d20pfsrd.com/magic-items/\">Magic Items</a></li><li class=\"page_item parent page_item_has_children not_loaded active\" post_id=\"71179\"><div class=\"ognmenugap ognexpander\"></div><a href=\"https://www.d20pfsrd.com/magic/\">Magic</a></li><li class=\"page_item parent page_item_has_children not_loaded active\" post_id=\"52986\"><div class=\"ognmenugap ognexpander\"></div><a href=\"https://www.d20pfsrd.com/gamemastering/\">Gamemastering</a></li><li class=\"page_item parent page_item_has_children\" post_id=\"57186\"><div class=\"ognmenugap ognexpander\"></div><a href=\"https://www.d20pfsrd.com/bestiary/\">Bestiary</a><ul class=\"children\"><li class=\"page_item parent page_item_has_children not_loaded active\" post_id=\"66206\"><div class=\"ognmenugap ognexpander\"></div><a href=\"https://www.d20pfsrd.com/bestiary/npc-s/\">NPCs</a></li><li class=\"page_item parent page_item_has_children\" post_id=\"57428\"><div class=\"ognmenugap ognexpander\"></div><a href=\"https://www.d20pfsrd.com/bestiary/monster-listings/\">(Bestiary) By Type</a><ul class=\"children\"><li class=\"page_item parent\" post_id=\"150051\"><div class=\"ognmenugap\"></div><a href=\"https://www.d20pfsrd.com/bestiary/monster-listings/elder-influences/\">Elder Influences</a></li><li class=\"page_item parent page_item_has_children not_loaded active\" post_id=\"57441\"><div class=\"ognmenugap ognexpander\"></div><a href=\"https://www.d20pfsrd.com/bestiary/monster-listings/aberrations/\">Aberrations</a></li><li class=\"page_item parent page_item_has_children not_loaded active\" post_id=\"57929\"><div class=\"ognmenugap ognexpander\"></div><a href=\"https://www.d20pfsrd.com/bestiary/monster-listings/animals/\">Animals</a></li><li class=\"page_item parent page_item_has_children not_loaded active\" post_id=\"58778\"><div class=\"ognmenugap ognexpander\"></div><a href=\"https://www.d20pfsrd.com/bestiary/monster-listings/constructs/\">Constructs</a></li><li class=\"page_item parent page_item_has_children not_loaded active\" post_id=\"59194\"><div class=\"ognmenugap ognexpander\"></div><a href=\"https://www.d20pfsrd.com/bestiary/monster-listings/dragons/\">Dragons</a></li><li class=\"page_item parent page_item_has_children not_loaded active\" post_id=\"60067\"><div class=\"ognmenugap ognexpander\"></div><a href=\"https://www.d20pfsrd.com/bestiary/monster-listings/fey/\">Fey</a></li><li class=\"page_item parent page_item_has_children not_loaded active\" post_id=\"60353\"><div class=\"ognmenugap ognexpander\"></div><a href=\"https://www.d20pfsrd.com/bestiary/monster-listings/humanoids/\">Humanoids</a></li><li class=\"page_item parent page_item_has_children not_loaded active\" post_id=\"60778\"><div class=\"ognmenugap ognexpander\"></div><a href=\"https://www.d20pfsrd.com/bestiary/monster-listings/magical-beasts/\">Magical Beasts</a></li><li class=\"page_item parent page_item_has_children not_loaded active\" post_id=\"61635\"><div class=\"ognmenugap ognexpander\"></div><a href=\"https://www.d20pfsrd.com/bestiary/monster-listings/monstrous-humanoids/\">Monstrous Humanoids</a></li><li class=\"page_item parent page_item_has_children not_loaded active\" post_id=\"63805\"><div class=\"ognmenugap ognexpander\"></div><a href=\"https://www.d20pfsrd.com/bestiary/monster-listings/plants/\">Plants</a></li><li class=\"page_item parent page_item_has_children not_loaded active\" post_id=\"61949\"><div class=\"ognmenugap ognexpander\"></div><a href=\"https://www.d20pfsrd.com/bestiary/monster-listings/oozes/\">Oozes</a></li><li class=\"page_item parent page_item_has_children\" post_id=\"62127\"><div class=\"ognmenugap ognexpander\"></div><a href=\"https://www.d20pfsrd.com/bestiary/monster-listings/outsiders/\">Outsiders</a><ul class=\"children\"><li class=\"page_item parent\" post_id=\"218196\"><div class=\"ognmenugap\"></div><a href=\"https://www.d20pfsrd.com/bestiary/monster-listings/outsiders/argent/\">Argent</a></li><li class=\"page_item parent\" post_id=\"215830\"><div class=\"ognmenugap\"></div><a href=\"https://www.d20pfsrd.com/bestiary/monster-listings/outsiders/despicable-snowman/\">Despicable Snowman</a></li><li class=\"page_item parent\" post_id=\"216567\"><div class=\"ognmenugap\"></div><a href=\"https://www.d20pfsrd.com/bestiary/monster-listings/outsiders/ice-mephit-familiar/\">Ice Mephit Familiar</a></li><li class=\"page_item parent page_item_has_children not_loaded active\" post_id=\"215511\"><div class=\"ognmenugap ognexpander\"></div><a href=\"https://www.d20pfsrd.com/bestiary/monster-listings/outsiders/nelbarzoth/\">Nel’barzoth</a></li><li class=\"page_item parent\" post_id=\"214502\"><div class=\"ognmenugap\"></div><a href=\"https://www.d20pfsrd.com/bestiary/monster-listings/outsiders/nohell-claws/\">Nohell Claws</a></li><li class=\"page_item parent\" post_id=\"214503\"><div class=\"ognmenugap\"></div><a href=\"https://www.d20pfsrd.com/bestiary/monster-listings/outsiders/orcus-claws/\">Orcus’ Claws</a></li><li class=\"page_item parent\" post_id=\"215812\"><div class=\"ognmenugap\"></div><a href=\"https://www.d20pfsrd.com/bestiary/monster-listings/outsiders/tilket/\">Tilket</a></li><li class=\"page_item parent\" post_id=\"217612\"><div class=\"ognmenugap\"></div><a href=\"https://www.d20pfsrd.com/bestiary/monster-listings/outsiders/xocouatl/\">Xocouatl</a></li><li class=\"page_item parent\" post_id=\"213244\"><div class=\"ognmenugap\"></div><a href=\"https://www.d20pfsrd.com/bestiary/monster-listings/outsiders/eidolon-rimefire/\">Eidolon, Rimefire</a></li><li class=\"page_item parent\" post_id=\"213249\"><div class=\"ognmenugap\"></div><a href=\"https://www.d20pfsrd.com/bestiary/monster-listings/outsiders/grigori/\">Grigori</a></li><li class=\"page_item parent\" post_id=\"213213\"><div class=\"ognmenugap\"></div><a href=\"https://www.d20pfsrd.com/bestiary/monster-listings/outsiders/quatoid/\">Quatoid</a></li><li class=\"page_item parent\" post_id=\"213202\"><div class=\"ognmenugap\"></div><a href=\"https://www.d20pfsrd.com/bestiary/monster-listings/outsiders/ultima-weapon/\">Ultima Weapon</a></li><li class=\"page_item parent\" post_id=\"213210\"><div class=\"ognmenugap\"></div><a href=\"https://www.d20pfsrd.com/bestiary/monster-listings/outsiders/zaramuun/\">Zaramuun</a></li><li class=\"page_item parent\" post_id=\"212435\"><div class=\"ognmenugap\"></div><a href=\"https://www.d20pfsrd.com/bestiary/monster-listings/outsiders/diamantem/\">Diamantem</a></li><li class=\"page_item parent\" post_id=\"212452\"><div class=\"ognmenugap\"></div><a href=\"https://www.d20pfsrd.com/bestiary/monster-listings/outsiders/loran/\">Loran</a></li><li class=\"page_item parent\" post_id=\"206679\"><div class=\"ognmenugap\"></div><a href=\"https://www.d20pfsrd.com/bestiary/monster-listings/outsiders/pallid-angel/\">Pallid Angel</a></li><li class=\"page_item parent page_item_has_children not_loaded active\" post_id=\"210352\"><div class=\"ognmenugap ognexpander\"></div><a href=\"https://www.d20pfsrd.com/bestiary/monster-listings/outsiders/petitioners/\">Petitioners</a></li><li class=\"page_item parent\" post_id=\"206698\"><div class=\"ognmenugap\"></div><a href=\"https://www.d20pfsrd.com/bestiary/monster-listings/outsiders/sceazir/\">Sceazir</a></li><li class=\"page_item parent\" post_id=\"206323\"><div class=\"ognmenugap\"></div><a href=\"https://www.d20pfsrd.com/bestiary/monster-listings/outsiders/infernor/\">Infernor</a></li><li class=\"page_item parent\" post_id=\"206254\"><div class=\"ognmenugap\"></div><a href=\"https://www.d20pfsrd.com/bestiary/monster-listings/outsiders/sabbat-prancer/\">Sabbat Prancer</a></li><li class=\"page_item parent\" post_id=\"206276\"><div class=\"ognmenugap\"></div><a href=\"https://www.d20pfsrd.com/bestiary/monster-listings/outsiders/soulless-destroyer/\">Soulless Destroyer</a></li><li class=\"page_item parent\" post_id=\"206320\"><div class=\"ognmenugap\"></div><a href=\"https://www.d20pfsrd.com/bestiary/monster-listings/outsiders/umbralobe/\">Umbralobe</a></li><li class=\"page_item parent\" post_id=\"206283\"><div class=\"ognmenugap\"></div><a href=\"https://www.d20pfsrd.com/bestiary/monster-listings/outsiders/ymir/\">Ymir</a></li><li class=\"page_item parent\" post_id=\"206107\"><div class=\"ognmenugap\"></div><a href=\"https://www.d20pfsrd.com/bestiary/monster-listings/outsiders/black-goat/\">Black Goat</a></li><li class=\"page_item parent\" post_id=\"206244\"><div class=\"ognmenugap\"></div><a href=\"https://www.d20pfsrd.com/bestiary/monster-listings/outsiders/kaiju-earthking/\">Kaiju, Earthking</a></li><li class=\"page_item parent\" post_id=\"206248\"><div class=\"ognmenugap\"></div><a href=\"https://www.d20pfsrd.com/bestiary/monster-listings/outsiders/nightmare-artist/\">Nightmare Artist</a></li><li class=\"page_item parent\" post_id=\"149917\"><div class=\"ognmenugap\"></div><a href=\"https://www.d20pfsrd.com/bestiary/monster-listings/outsiders/dryad-half-fiend/\">Dryad, Half-Fiend</a></li><li class=\"page_item parent\" post_id=\"149866\"><div class=\"ognmenugap\"></div><a href=\"https://www.d20pfsrd.com/bestiary/monster-listings/outsiders/dwarf-dark-scion/\">Dwarf, Dark Scion</a></li><li class=\"page_item parent\" post_id=\"149920\"><div class=\"ognmenugap\"></div><a href=\"https://www.d20pfsrd.com/bestiary/monster-listings/outsiders/hellion-ireful/\">Hellion, Ireful</a></li><li class=\"page_item parent\" post_id=\"64437\"><div class=\"ognmenugap\"></div><a href=\"https://www.d20pfsrd.com/bestiary/monster-listings/outsiders/implacable-stalker/\">Implacable Stalker</a></li><li class=\"page_item parent\" post_id=\"150801\"><div class=\"ognmenugap\"></div><a href=\"https://www.d20pfsrd.com/bestiary/monster-listings/outsiders/aphorite/\">Aphorite</a></li><li class=\"page_item parent\" post_id=\"149700\"><div class=\"ognmenugap\"></div><a href=\"https://www.d20pfsrd.com/bestiary/monster-listings/outsiders/aravax/\">Aravax</a></li><li class=\"page_item parent\" post_id=\"143928\"><div class=\"ognmenugap\"></div><a href=\"https://www.d20pfsrd.com/bestiary/monster-listings/outsiders/asphyx/\">Asphyx</a></li><li class=\"page_item parent\" post_id=\"149702\"><div class=\"ognmenugap\"></div><a href=\"https://www.d20pfsrd.com/bestiary/monster-listings/outsiders/avatar-of-alkumuoto/\">Avatar of Alkumuoto</a></li><li class=\"page_item parent\" post_id=\"151655\"><div class=\"ognmenugap\"></div><a href=\"https://www.d20pfsrd.com/bestiary/monster-listings/outsiders/axial-monitor/\">Axial Monitor</a></li><li class=\"page_item parent\" post_id=\"150804\"><div class=\"ognmenugap\"></div><a href=\"https://www.d20pfsrd.com/bestiary/monster-listings/outsiders/cynosoma/\">Cynosoma</a></li><li class=\"page_item parent\" post_id=\"149291\"><div class=\"ognmenugap\"></div><a href=\"https://www.d20pfsrd.com/bestiary/monster-listings/outsiders/dimensional-shambler-2/\">Dimensional Shambler</a></li><li class=\"page_item parent\" post_id=\"150805\"><div class=\"ognmenugap\"></div><a href=\"https://www.d20pfsrd.com/bestiary/monster-listings/outsiders/duskwalker/\">Duskwalker</a></li><li class=\"page_item parent\" post_id=\"150806\"><div class=\"ognmenugap\"></div><a href=\"https://www.d20pfsrd.com/bestiary/monster-listings/outsiders/empusa/\">Empusa</a></li><li class=\"page_item parent\" post_id=\"141116\"><div class=\"ognmenugap\"></div><a href=\"https://www.d20pfsrd.com/bestiary/monster-listings/outsiders/fantionette/\">Fantionette</a></li><li class=\"page_item parent\" post_id=\"150015\"><div class=\"ognmenugap\"></div><a href=\"https://www.d20pfsrd.com/bestiary/monster-listings/outsiders/feral-titan-lord/\">Feral Titan Lord</a></li><li class=\"page_item parent\" post_id=\"150808\"><div class=\"ognmenugap\"></div><a href=\"https://www.d20pfsrd.com/bestiary/monster-listings/outsiders/ganzi/\">Ganzi</a></li><li class=\"page_item parent\" post_id=\"141117\"><div class=\"ognmenugap\"></div><a href=\"https://www.d20pfsrd.com/bestiary/monster-listings/outsiders/gishvit/\">Gishvit</a></li><li class=\"page_item parent\" post_id=\"150824\"><div class=\"ognmenugap\"></div><a href=\"https://www.d20pfsrd.com/bestiary/monster-listings/outsiders/irii/\">Irii</a></li><li class=\"page_item parent\" post_id=\"150005\"><div class=\"ognmenugap\"></div><a href=\"https://www.d20pfsrd.com/bestiary/monster-listings/outsiders/jinn-wizard/\">Jinn Wizard</a></li><li class=\"page_item parent\" post_id=\"145059\"><div class=\"ognmenugap\"></div><a href=\"https://www.d20pfsrd.com/bestiary/monster-listings/outsiders/joyful-thing/\">Joyful Thing</a></li><li class=\"page_item parent page_item_has_children not_loaded active\" post_id=\"150013\"><div class=\"ognmenugap ognexpander\"></div><a href=\"https://www.d20pfsrd.com/bestiary/monster-listings/outsiders/madness-slug/\">Madness Slug</a></li><li class=\"page_item parent\" post_id=\"149782\"><div class=\"ognmenugap\"></div><a href=\"https://www.d20pfsrd.com/bestiary/monster-listings/outsiders/rakasa-batu/\">Rakasa Batu</a></li><li class=\"page_item parent\" post_id=\"145061\"><div class=\"ognmenugap\"></div><a href=\"https://www.d20pfsrd.com/bestiary/monster-listings/outsiders/shadow-animal-lion/\">Shadow Animal Lion</a></li><li class=\"page_item parent page_item_has_children not_loaded active\" post_id=\"149760\"><div class=\"ognmenugap ognexpander\"></div><a href=\"https://www.d20pfsrd.com/bestiary/monster-listings/outsiders/shield-warden-greater/\">Shield Warden, Greater</a></li><li class=\"page_item parent\" post_id=\"145066\"><div class=\"ognmenugap\"></div><a href=\"https://www.d20pfsrd.com/bestiary/monster-listings/outsiders/sishkanset/\">Sishkanset</a></li><li class=\"page_item parent\" post_id=\"145060\"><div class=\"ognmenugap\"></div><a href=\"https://www.d20pfsrd.com/bestiary/monster-listings/outsiders/suffragan/\">Suffragan</a></li><li class=\"page_item parent\" post_id=\"150835\"><div class=\"ognmenugap\"></div><a href=\"https://www.d20pfsrd.com/bestiary/monster-listings/outsiders/vault-builder/\">Vault Builder</a></li><li class=\"page_item parent\" post_id=\"150836\"><div class=\"ognmenugap\"></div><a href=\"https://www.d20pfsrd.com/bestiary/monster-listings/outsiders/vault-keeper/\">Vault Keeper</a></li><li class=\"page_item parent\" post_id=\"149537\"><div class=\"ognmenugap\"></div><a href=\"https://www.d20pfsrd.com/bestiary/monster-listings/outsiders/vidre/\">Vidre</a></li><li class=\"page_item parent\" post_id=\"150831\"><div class=\"ognmenugap\"></div><a href=\"https://www.d20pfsrd.com/bestiary/monster-listings/outsiders/watcher/\">Watcher</a></li><li class=\"page_item parent\" post_id=\"150832\"><div class=\"ognmenugap\"></div><a href=\"https://www.d20pfsrd.com/bestiary/monster-listings/outsiders/wisagatcak/\">Wisagatcak</a></li><li class=\"page_item parent\" post_id=\"150833\"><div class=\"ognmenugap\"></div><a href=\"https://www.d20pfsrd.com/bestiary/monster-listings/outsiders/wrackworm/\">Wrackworm</a></li><li class=\"page_item parent\" post_id=\"135030\"><div class=\"ognmenugap\"></div><a href=\"https://www.d20pfsrd.com/bestiary/monster-listings/outsiders/living-doldrums/\">Living Doldrums</a></li><li class=\"page_item parent\" post_id=\"135650\"><div class=\"ognmenugap\"></div><a href=\"https://www.d20pfsrd.com/bestiary/monster-listings/outsiders/onyx-scourge/\">Onyx Scourge</a></li><li class=\"page_item parent\" post_id=\"135010\"><div class=\"ognmenugap\"></div><a href=\"https://www.d20pfsrd.com/bestiary/monster-listings/outsiders/portunus/\">Portunus</a></li><li class=\"page_item parent\" post_id=\"135654\"><div class=\"ognmenugap\"></div><a href=\"https://www.d20pfsrd.com/bestiary/monster-listings/outsiders/zarxorin/\">Zarxorin</a></li><li class=\"page_item parent\" post_id=\"120580\"><div class=\"ognmenugap\"></div><a href=\"https://www.d20pfsrd.com/bestiary/monster-listings/outsiders/apocalypse-horse/\">Apocalypse Horse</a></li><li class=\"page_item parent\" post_id=\"120634\"><div class=\"ognmenugap\"></div><a href=\"https://www.d20pfsrd.com/bestiary/monster-listings/outsiders/daitengu/\">Daitengu</a></li><li class=\"page_item parent page_item_has_children not_loaded active\" post_id=\"120716\"><div class=\"ognmenugap ognexpander\"></div><a href=\"https://www.d20pfsrd.com/bestiary/monster-listings/outsiders/horseman-of-the-apocalypse/\">Horseman of the Apocalypse</a></li><li class=\"page_item parent\" post_id=\"114876\"><div class=\"ognmenugap\"></div><a href=\"https://www.d20pfsrd.com/bestiary/monster-listings/outsiders/ozimat/\">Ozimat</a></li><li class=\"page_item parent page_item_has_children not_loaded active\" post_id=\"63577\"><div class=\"ognmenugap ognexpander\"></div><a href=\"https://www.d20pfsrd.com/bestiary/monster-listings/outsiders/qlippoth/\">Qlippoth</a></li><li class=\"page_item parent\" post_id=\"114872\"><div class=\"ognmenugap\"></div><a href=\"https://www.d20pfsrd.com/bestiary/monster-listings/outsiders/nephlei/\">Nephlei</a></li><li class=\"page_item parent\" post_id=\"114874\"><div class=\"ognmenugap\"></div><a href=\"https://www.d20pfsrd.com/bestiary/monster-listings/outsiders/onkushu/\">Onkushu</a></li><li class=\"page_item parent\" post_id=\"114869\"><div class=\"ognmenugap\"></div><a href=\"https://www.d20pfsrd.com/bestiary/monster-listings/outsiders/agrawgh/\">Agrawgh</a></li><li class=\"page_item parent\" post_id=\"63525\"><div class=\"ognmenugap\"></div><a href=\"https://www.d20pfsrd.com/bestiary/monster-listings/outsiders/owb/\">Owb</a></li><li class=\"page_item parent page_item_has_children not_loaded active\" post_id=\"62370\"><div class=\"ognmenugap ognexpander\"></div><a href=\"https://www.d20pfsrd.com/bestiary/monster-listings/outsiders/couatl/\">Couatl</a></li><li class=\"page_item parent\" post_id=\"63667\"><div class=\"ognmenugap\"></div><a href=\"https://www.d20pfsrd.com/bestiary/monster-listings/outsiders/shining-child/\">Shining Child</a></li><li class=\"page_item parent\" post_id=\"63268\"><div class=\"ognmenugap\"></div><a href=\"https://www.d20pfsrd.com/bestiary/monster-listings/outsiders/gloomwing/\">Gloomwing</a></li><li class=\"page_item parent\" post_id=\"62130\"><div class=\"ognmenugap\"></div><a href=\"https://www.d20pfsrd.com/bestiary/monster-listings/outsiders/aasimar/\">Aasimar</a></li><li class=\"page_item parent\" post_id=\"62132\"><div class=\"ognmenugap\"></div><a href=\"https://www.d20pfsrd.com/bestiary/monster-listings/outsiders/abyssal-larva-tohc/\">Abyssal Larva (3pp)</a></li><li class=\"page_item parent\" post_id=\"62134\"><div class=\"ognmenugap\"></div><a href=\"https://www.d20pfsrd.com/bestiary/monster-listings/outsiders/achaierai/\">Achaierai</a></li><li class=\"page_item parent\" post_id=\"62136\"><div class=\"ognmenugap\"></div><a href=\"https://www.d20pfsrd.com/bestiary/monster-listings/outsiders/achaierai-ff/\">Achaierai (3pp)</a></li><li class=\"page_item parent page_item_has_children not_loaded active\" post_id=\"62138\"><div class=\"ognmenugap ognexpander\"></div><a href=\"https://www.d20pfsrd.com/bestiary/monster-listings/outsiders/aeon/\">Aeons</a></li><li class=\"page_item parent page_item_has_children not_loaded active\" post_id=\"62156\"><div class=\"ognmenugap ognexpander\"></div><a href=\"https://www.d20pfsrd.com/bestiary/monster-listings/outsiders/agathion/\">Agathions</a></li><li class=\"page_item parent\" post_id=\"62184\"><div class=\"ognmenugap\"></div><a href=\"https://www.d20pfsrd.com/bestiary/monster-listings/outsiders/ahkhat/\">Ahkhat</a></li><li class=\"page_item parent\" post_id=\"62186\"><div class=\"ognmenugap\"></div><a href=\"https://www.d20pfsrd.com/bestiary/monster-listings/outsiders/andrenjinyi-od/\">Andrenjinyi (3pp)</a></li><li class=\"page_item parent\" post_id=\"62188\"><div class=\"ognmenugap\"></div><a href=\"https://www.d20pfsrd.com/bestiary/monster-listings/outsiders/anemos/\">Anemos</a></li><li class=\"page_item parent page_item_has_children\" post_id=\"62190\"><div class=\"ognmenugap ognexpander\"></div><a href=\"https://www.d20pfsrd.com/bestiary/monster-listings/outsiders/angel/\">Angels</a><ul class=\"children\"><li class=\"page_item parent\" post_id=\"149865\"><div class=\"ognmenugap\"></div><a href=\"https://www.d20pfsrd.com/bestiary/monster-listings/outsiders/angel/angel-dark/\">Angel, Dark (3pp)</a></li><li class=\"page_item parent\" post_id=\"62217\"><div class=\"ognmenugap\"></div><a href=\"https://www.d20pfsrd.com/bestiary/monster-listings/outsiders/angel/astral-deva/\">Angel, Astral Deva</a></li><li class=\"page_item parent\" post_id=\"62191\"><div class=\"ognmenugap\"></div><a href=\"https://www.d20pfsrd.com/bestiary/monster-listings/outsiders/angel/angel-balisse/\">Angel, Balisse</a></li><li class=\"page_item parent\" post_id=\"62193\"><div class=\"ognmenugap\"></div><a href=\"https://www.d20pfsrd.com/bestiary/monster-listings/outsiders/angel/angel-balisse-b5/\">Angel, Balisse</a></li><li class=\"page_item parent\" post_id=\"62195\"><div class=\"ognmenugap\"></div><a href=\"https://www.d20pfsrd.com/bestiary/monster-listings/outsiders/angel/angel-cassisian/\">Angel, Cassisian</a></li><li class=\"page_item parent\" post_id=\"62197\"><div class=\"ognmenugap\"></div><a href=\"https://www.d20pfsrd.com/bestiary/monster-listings/outsiders/angel/angel-chalkydri-tohc/\">Angel, Chalkydri (3pp)</a></li><li class=\"page_item parent\" post_id=\"62199\"><div class=\"ognmenugap\"></div><a href=\"https://www.d20pfsrd.com/bestiary/monster-listings/outsiders/angel/angel-choral-b5/\">Angel, Choral</a></li><li class=\"page_item parent\" post_id=\"62201\"><div class=\"ognmenugap\"></div><a href=\"https://www.d20pfsrd.com/bestiary/monster-listings/outsiders/angel/angel-dapsara/\">Angel, Dapsara</a></li><li class=\"page_item parent\" post_id=\"62203\"><div class=\"ognmenugap\"></div><a href=\"https://www.d20pfsrd.com/bestiary/monster-listings/outsiders/angel/angel-empyreal-tohc/\">Angel, Empyreal (3pp)</a></li><li class=\"page_item parent\" post_id=\"62205\"><div class=\"ognmenugap\"></div><a href=\"https://www.d20pfsrd.com/bestiary/monster-listings/outsiders/angel/angel-empyrean/\">Angel, Empyrean</a></li><li class=\"page_item parent\" post_id=\"62207\"><div class=\"ognmenugap\"></div><a href=\"https://www.d20pfsrd.com/bestiary/monster-listings/outsiders/angel/angel-iophanite/\">Angel, Iophanite</a></li><li class=\"page_item parent\" post_id=\"62209\"><div class=\"ognmenugap\"></div><a href=\"https://www.d20pfsrd.com/bestiary/monster-listings/outsiders/angel/angel-monadic-deva/\">Angel, Monadic Deva</a></li><li class=\"page_item parent\" post_id=\"62211\"><div class=\"ognmenugap\"></div><a href=\"https://www.d20pfsrd.com/bestiary/monster-listings/outsiders/angel/angel-monadic-deva-tohc/\">Angel, Monadic Deva (3pp)</a></li><li class=\"page_item parent\" post_id=\"62213\"><div class=\"ognmenugap\"></div><a href=\"https://www.d20pfsrd.com/bestiary/monster-listings/outsiders/angel/angel-movanic-deva/\">Angel, Movanic Deva</a></li><li class=\"page_item parent\" post_id=\"62215\"><div class=\"ognmenugap\"></div><a href=\"https://www.d20pfsrd.com/bestiary/monster-listings/outsiders/angel/angel-movanic-deva-tohc/\">Angel, Movanic Deva (3pp)</a></li><li class=\"page_item parent\" post_id=\"62220\"><div class=\"ognmenugap\"></div><a href=\"https://www.d20pfsrd.com/bestiary/monster-listings/outsiders/angel/planetar/\">Angel, Planetar</a></li><li class=\"page_item parent current_page\" post_id=\"62222\"><div class=\"ognmenugap\"></div><a href=\"https://www.d20pfsrd.com/bestiary/monster-listings/outsiders/angel/solar/\">Angel, Solar</a></li></ul></li><li class=\"page_item parent page_item_has_children not_loaded active\" post_id=\"62224\"><div class=\"ognmenugap ognexpander\"></div><a href=\"https://www.d20pfsrd.com/bestiary/monster-listings/outsiders/animal-lords-tohc/\">Animal Lords (3pp)</a></li><li class=\"page_item parent page_item_has_children not_loaded active\" post_id=\"62230\"><div class=\"ognmenugap ognexpander\"></div><a href=\"https://www.d20pfsrd.com/bestiary/monster-listings/outsiders/animate-dream/\">Animate Dream</a></li><li class=\"page_item parent page_item_has_children not_loaded active\" post_id=\"62234\"><div class=\"ognmenugap ognexpander\"></div><a href=\"https://www.d20pfsrd.com/bestiary/monster-listings/outsiders/aoandon/\">Aoandon</a></li><li class=\"page_item parent\" post_id=\"62236\"><div class=\"ognmenugap\"></div><a href=\"https://www.d20pfsrd.com/bestiary/monster-listings/outsiders/apkallu/\">Apkallu</a></li><li class=\"page_item parent\" post_id=\"62238\"><div class=\"ognmenugap\"></div><a href=\"https://www.d20pfsrd.com/bestiary/monster-listings/outsiders/apocalypse-locust/\">Apocalypse Locust</a></li><li class=\"page_item parent page_item_has_children not_loaded active\" post_id=\"62240\"><div class=\"ognmenugap ognexpander\"></div><a href=\"https://www.d20pfsrd.com/bestiary/monster-listings/outsiders/archon/\">Archons</a></li><li class=\"page_item parent\" post_id=\"62272\"><div class=\"ognmenugap\"></div><a href=\"https://www.d20pfsrd.com/bestiary/monster-listings/outsiders/arrowhawk/\">Arrowhawk (3pp)</a></li><li class=\"page_item parent\" post_id=\"62274\"><div class=\"ognmenugap\"></div><a href=\"https://www.d20pfsrd.com/bestiary/monster-listings/outsiders/asakku-cr7/\">Asakku (3pp)</a></li><li class=\"page_item parent\" post_id=\"62276\"><div class=\"ognmenugap\"></div><a href=\"https://www.d20pfsrd.com/bestiary/monster-listings/outsiders/astral-leviathan/\">Astral Leviathan</a></li><li class=\"page_item parent\" post_id=\"62278\"><div class=\"ognmenugap\"></div><a href=\"https://www.d20pfsrd.com/bestiary/monster-listings/outsiders/astral-shark/\">Astral Shark (3pp)</a></li><li class=\"page_item parent page_item_has_children not_loaded active\" post_id=\"62280\"><div class=\"ognmenugap ognexpander\"></div><a href=\"https://www.d20pfsrd.com/bestiary/monster-listings/outsiders/asura/\">Asura</a></li><li class=\"page_item parent\" post_id=\"62294\"><div class=\"ognmenugap\"></div><a href=\"https://www.d20pfsrd.com/bestiary/monster-listings/outsiders/ataxian/\">Ataxian</a></li><li class=\"page_item parent\" post_id=\"62296\"><div class=\"ognmenugap\"></div><a href=\"https://www.d20pfsrd.com/bestiary/monster-listings/outsiders/avernal-ghoul/\">Avernal Ghoul</a></li><li class=\"page_item parent\" post_id=\"62298\"><div class=\"ognmenugap\"></div><a href=\"https://www.d20pfsrd.com/bestiary/monster-listings/outsiders/axiomite/\">Axiomite</a></li><li class=\"page_item parent page_item_has_children not_loaded active\" post_id=\"62300\"><div class=\"ognmenugap ognexpander\"></div><a href=\"https://www.d20pfsrd.com/bestiary/monster-listings/outsiders/azata/\">Azatas</a></li><li class=\"page_item parent\" post_id=\"62324\"><div class=\"ognmenugap\"></div><a href=\"https://www.d20pfsrd.com/bestiary/monster-listings/outsiders/azer/\">Azer</a></li><li class=\"page_item parent\" post_id=\"62326\"><div class=\"ognmenugap\"></div><a href=\"https://www.d20pfsrd.com/bestiary/monster-listings/outsiders/baregara/\">Baregara</a></li><li class=\"page_item parent page_item_has_children not_loaded active\" post_id=\"62328\"><div class=\"ognmenugap ognexpander\"></div><a href=\"https://www.d20pfsrd.com/bestiary/monster-listings/outsiders/barghest/\">Barghest</a></li><li class=\"page_item parent\" post_id=\"62332\"><div class=\"ognmenugap\"></div><a href=\"https://www.d20pfsrd.com/bestiary/monster-listings/outsiders/basilisk-abyssal/\">Basilisk, Abyssal (3pp)</a></li><li class=\"page_item parent\" post_id=\"62334\"><div class=\"ognmenugap\"></div><a href=\"https://www.d20pfsrd.com/bestiary/monster-listings/outsiders/bebilith/\">Bebilith</a></li><li class=\"page_item parent\" post_id=\"62336\"><div class=\"ognmenugap\"></div><a href=\"https://www.d20pfsrd.com/bestiary/monster-listings/outsiders/bisha-ga-tsuku/\">Bisha Ga Tsuku</a></li><li class=\"page_item parent\" post_id=\"62338\"><div class=\"ognmenugap\"></div><a href=\"https://www.d20pfsrd.com/bestiary/monster-listings/outsiders/black-jinni/\">Black Jinni</a></li><li class=\"page_item parent\" post_id=\"62340\"><div class=\"ognmenugap\"></div><a href=\"https://www.d20pfsrd.com/bestiary/monster-listings/outsiders/black-magga/\">Black Magga</a></li><li class=\"page_item parent\" post_id=\"62342\"><div class=\"ognmenugap\"></div><a href=\"https://www.d20pfsrd.com/bestiary/monster-listings/outsiders/blood-queen/\">Blood Queen</a></li><li class=\"page_item parent\" post_id=\"62344\"><div class=\"ognmenugap\"></div><a href=\"https://www.d20pfsrd.com/bestiary/monster-listings/outsiders/broken-soul/\">Broken Soul Lillend</a></li><li class=\"page_item parent\" post_id=\"62346\"><div class=\"ognmenugap\"></div><a href=\"https://www.d20pfsrd.com/bestiary/monster-listings/outsiders/burleev/\">Burleev</a></li><li class=\"page_item parent\" post_id=\"62348\"><div class=\"ognmenugap\"></div><a href=\"https://www.d20pfsrd.com/bestiary/monster-listings/outsiders/burning-dervish/\">Burning Dervish</a></li><li class=\"page_item parent page_item_has_children not_loaded active\" post_id=\"62350\"><div class=\"ognmenugap ognexpander\"></div><a href=\"https://www.d20pfsrd.com/bestiary/monster-listings/outsiders/caulborn/\">Caulborn</a></li><li class=\"page_item parent\" post_id=\"62356\"><div class=\"ognmenugap\"></div><a href=\"https://www.d20pfsrd.com/bestiary/monster-listings/outsiders/cayhound/\">Cayhound</a></li><li class=\"page_item parent\" post_id=\"62358\"><div class=\"ognmenugap\"></div><a href=\"https://www.d20pfsrd.com/bestiary/monster-listings/outsiders/caypup/\">Caypup</a></li><li class=\"page_item parent\" post_id=\"62360\"><div class=\"ognmenugap\"></div><a href=\"https://www.d20pfsrd.com/bestiary/monster-listings/outsiders/cerberi/\">Cerberi</a></li><li class=\"page_item parent\" post_id=\"62362\"><div class=\"ognmenugap\"></div><a href=\"https://www.d20pfsrd.com/bestiary/monster-listings/outsiders/cervine-protector/\">Cervine Protector</a></li><li class=\"page_item parent\" post_id=\"62364\"><div class=\"ognmenugap\"></div><a href=\"https://www.d20pfsrd.com/bestiary/monster-listings/outsiders/chalkost/\">Chalkost</a></li><li class=\"page_item parent\" post_id=\"62366\"><div class=\"ognmenugap\"></div><a href=\"https://www.d20pfsrd.com/bestiary/monster-listings/outsiders/chaos-beast/\">Chaos Beast</a></li><li class=\"page_item parent\" post_id=\"62368\"><div class=\"ognmenugap\"></div><a href=\"https://www.d20pfsrd.com/bestiary/monster-listings/outsiders/comozant-wyrd/\">Comozant Wyrd</a></li><li class=\"page_item parent\" post_id=\"62372\"><div class=\"ognmenugap\"></div><a href=\"https://www.d20pfsrd.com/bestiary/monster-listings/outsiders/d-ziriak/\">D’ziriak</a></li><li class=\"page_item parent page_item_has_children not_loaded active\" post_id=\"62374\"><div class=\"ognmenugap ognexpander\"></div><a href=\"https://www.d20pfsrd.com/bestiary/monster-listings/outsiders/daemons/\">Daemons</a></li><li class=\"page_item parent\" post_id=\"62446\"><div class=\"ognmenugap\"></div><a href=\"https://www.d20pfsrd.com/bestiary/monster-listings/outsiders/dahzagan/\">Dahzagan</a></li><li class=\"page_item parent page_item_has_children not_loaded active\" post_id=\"62448\"><div class=\"ognmenugap ognexpander\"></div><a href=\"https://www.d20pfsrd.com/bestiary/monster-listings/outsiders/demodand/\">Demodand</a></li><li class=\"page_item parent page_item_has_children not_loaded active\" post_id=\"62460\"><div class=\"ognmenugap ognexpander\"></div><a href=\"https://www.d20pfsrd.com/bestiary/monster-listings/outsiders/demodand-tohc/\">Demodand (3pp)</a></li><li class=\"page_item parent\" post_id=\"62664\"><div class=\"ognmenugap\"></div><a href=\"https://www.d20pfsrd.com/bestiary/monster-listings/outsiders/demonic-knight-tohc/\">Demonic Knight</a></li><li class=\"page_item parent page_item_has_children not_loaded active\" post_id=\"62468\"><div class=\"ognmenugap ognexpander\"></div><a href=\"https://www.d20pfsrd.com/bestiary/monster-listings/outsiders/demon/\">Demons</a></li><li class=\"page_item parent\" post_id=\"62666\"><div class=\"ognmenugap\"></div><a href=\"https://www.d20pfsrd.com/bestiary/monster-listings/outsiders/denizen-of-leng/\">Denizen of Leng</a></li><li class=\"page_item parent\" post_id=\"62804\"><div class=\"ognmenugap\"></div><a href=\"https://www.d20pfsrd.com/bestiary/monster-listings/outsiders/devil-steed/\">Devil Steed</a></li><li class=\"page_item parent page_item_has_children not_loaded active\" post_id=\"62668\"><div class=\"ognmenugap ognexpander\"></div><a href=\"https://www.d20pfsrd.com/bestiary/monster-listings/outsiders/devil/\">Devils</a></li><li class=\"page_item parent\" post_id=\"62806\"><div class=\"ognmenugap\"></div><a href=\"https://www.d20pfsrd.com/bestiary/monster-listings/outsiders/dimensional-shambler/\">Dimensional Shambler</a></li><li class=\"page_item parent page_item_has_children not_loaded active\" post_id=\"63288\"><div class=\"ognmenugap ognexpander\"></div><a href=\"https://www.d20pfsrd.com/bestiary/monster-listings/outsiders/heralds/\">Divine Heralds</a></li><li class=\"page_item parent page_item_has_children not_loaded active\" post_id=\"62808\"><div class=\"ognmenugap ognexpander\"></div><a href=\"https://www.d20pfsrd.com/bestiary/monster-listings/outsiders/divs/\">Divs</a></li><li class=\"page_item parent\" post_id=\"62824\"><div class=\"ognmenugap\"></div><a href=\"https://www.d20pfsrd.com/bestiary/monster-listings/outsiders/dlurgraven/\">Dlurgraven</a></li><li class=\"page_item parent\" post_id=\"62826\"><div class=\"ognmenugap\"></div><a href=\"https://www.d20pfsrd.com/bestiary/monster-listings/outsiders/dorvae/\">Dorvae</a></li><li class=\"page_item parent\" post_id=\"62828\"><div class=\"ognmenugap\"></div><a href=\"https://www.d20pfsrd.com/bestiary/monster-listings/outsiders/dream-eater-od/\">Dream Eater (3pp)</a></li><li class=\"page_item parent\" post_id=\"62830\"><div class=\"ognmenugap\"></div><a href=\"https://www.d20pfsrd.com/bestiary/monster-listings/outsiders/dream-spectre/\">Dream Spectre</a></li><li class=\"page_item parent\" post_id=\"62832\"><div class=\"ognmenugap\"></div><a href=\"https://www.d20pfsrd.com/bestiary/monster-listings/outsiders/dream-spectre-nightmare-creature-tohc/\">Dream Spectre (3pp)</a></li><li class=\"page_item parent\" post_id=\"62834\"><div class=\"ognmenugap\"></div><a href=\"https://www.d20pfsrd.com/bestiary/monster-listings/outsiders/drelb-haunting-custodian-tohc/\">Drelb (Haunting Custodian)</a></li><li class=\"page_item parent page_item_has_children not_loaded active\" post_id=\"62836\"><div class=\"ognmenugap ognexpander\"></div><a href=\"https://www.d20pfsrd.com/bestiary/monster-listings/outsiders/ei-risai-1/\">Ei\\'risai (3pp)</a></li><li class=\"page_item parent page_item_has_children not_loaded active\" post_id=\"62848\"><div class=\"ognmenugap ognexpander\"></div><a href=\"https://www.d20pfsrd.com/bestiary/monster-listings/outsiders/eidolon-unfettered/\">Eidolon, Unfettered</a></li><li class=\"page_item parent\" post_id=\"62852\"><div class=\"ognmenugap\"></div><a href=\"https://www.d20pfsrd.com/bestiary/monster-listings/outsiders/einherji/\">Einherji</a></li><li class=\"page_item parent page_item_has_children not_loaded active\" post_id=\"62854\"><div class=\"ognmenugap ognexpander\"></div><a href=\"https://www.d20pfsrd.com/bestiary/monster-listings/outsiders/elemental/\">Elementals</a></li><li class=\"page_item parent\" post_id=\"63186\"><div class=\"ognmenugap\"></div><a href=\"https://www.d20pfsrd.com/bestiary/monster-listings/outsiders/elohim/\">Elohim</a></li><li class=\"page_item parent page_item_has_children not_loaded active\" post_id=\"63188\"><div class=\"ognmenugap ognexpander\"></div><a href=\"https://www.d20pfsrd.com/bestiary/monster-listings/outsiders/empyreal-lord/\">Empyreal Lord</a></li><li class=\"page_item parent\" post_id=\"63196\"><div class=\"ognmenugap\"></div><a href=\"https://www.d20pfsrd.com/bestiary/monster-listings/outsiders/etiainen/\">Etiainen</a></li><li class=\"page_item parent\" post_id=\"63198\"><div class=\"ognmenugap\"></div><a href=\"https://www.d20pfsrd.com/bestiary/monster-listings/outsiders/feargaunt/\">Feargaunt</a></li><li class=\"page_item parent\" post_id=\"63200\"><div class=\"ognmenugap\"></div><a href=\"https://www.d20pfsrd.com/bestiary/monster-listings/outsiders/fetchling/\">Fetchling</a></li><li class=\"page_item parent\" post_id=\"63202\"><div class=\"ognmenugap\"></div><a href=\"https://www.d20pfsrd.com/bestiary/monster-listings/outsiders/fire-nymph/\">Fire Nymph (3pp)</a></li><li class=\"page_item parent\" post_id=\"63206\"><div class=\"ognmenugap\"></div><a href=\"https://www.d20pfsrd.com/bestiary/monster-listings/outsiders/fire-snake-tohc/\">Fire Snake (3pp)</a></li><li class=\"page_item parent page_item_has_children not_loaded active\" post_id=\"63208\"><div class=\"ognmenugap ognexpander\"></div><a href=\"https://www.d20pfsrd.com/bestiary/monster-listings/outsiders/foo-dog/\">Foo Dog</a></li><li class=\"page_item parent\" post_id=\"63212\"><div class=\"ognmenugap\"></div><a href=\"https://www.d20pfsrd.com/bestiary/monster-listings/outsiders/foo-lion/\">Foo Lion</a></li><li class=\"page_item parent page_item_has_children not_loaded active\" post_id=\"63214\"><div class=\"ognmenugap ognexpander\"></div><a href=\"https://www.d20pfsrd.com/bestiary/monster-listings/outsiders/formians/\">Formians (3pp)</a></li><li class=\"page_item parent\" post_id=\"63226\"><div class=\"ognmenugap\"></div><a href=\"https://www.d20pfsrd.com/bestiary/monster-listings/outsiders/garipan/\">Garipan</a></li><li class=\"page_item parent\" post_id=\"63228\"><div class=\"ognmenugap\"></div><a href=\"https://www.d20pfsrd.com/bestiary/monster-listings/outsiders/garuda/\">Garuda</a></li><li class=\"page_item parent page_item_has_children not_loaded active\" post_id=\"63230\"><div class=\"ognmenugap ognexpander\"></div><a href=\"https://www.d20pfsrd.com/bestiary/monster-listings/outsiders/genie/\">Genie</a></li><li class=\"page_item parent\" post_id=\"63266\"><div class=\"ognmenugap\"></div><a href=\"https://www.d20pfsrd.com/bestiary/monster-listings/outsiders/geon-tohc/\">Geon (3pp)</a></li><li class=\"page_item parent\" post_id=\"63270\"><div class=\"ognmenugap\"></div><a href=\"https://www.d20pfsrd.com/bestiary/monster-listings/outsiders/gloomwing-tohc/\">Gloomwing (3pp)</a></li><li class=\"page_item parent\" post_id=\"63272\"><div class=\"ognmenugap\"></div><a href=\"https://www.d20pfsrd.com/bestiary/monster-listings/outsiders/gorgoni/\">Gorgoni</a></li><li class=\"page_item parent\" post_id=\"63274\"><div class=\"ognmenugap\"></div><a href=\"https://www.d20pfsrd.com/bestiary/monster-listings/outsiders/greater-tengu-yamabushi/\">Greater Tengu, Yamabushi</a></li><li class=\"page_item parent\" post_id=\"63276\"><div class=\"ognmenugap\"></div><a href=\"https://www.d20pfsrd.com/bestiary/monster-listings/outsiders/guardian-spirit/\">Guardian Spirit</a></li><li class=\"page_item parent\" post_id=\"63278\"><div class=\"ognmenugap\"></div><a href=\"https://www.d20pfsrd.com/bestiary/monster-listings/outsiders/half-celestial-unicorn/\">Half-Celestial Unicorn</a></li><li class=\"page_item parent\" post_id=\"63280\"><div class=\"ognmenugap\"></div><a href=\"https://www.d20pfsrd.com/bestiary/monster-listings/outsiders/half-fiend-minotaur/\">Half-Fiend Minotaur</a></li><li class=\"page_item parent page_item_has_children not_loaded active\" post_id=\"63282\"><div class=\"ognmenugap ognexpander\"></div><a href=\"https://www.d20pfsrd.com/bestiary/monster-listings/outsiders/hell-hound/\">Hell Hound</a></li><li class=\"page_item parent\" post_id=\"63286\"><div class=\"ognmenugap\"></div><a href=\"https://www.d20pfsrd.com/bestiary/monster-listings/outsiders/hellcat/\">Hellcat</a></li><li class=\"page_item parent\" post_id=\"63342\"><div class=\"ognmenugap\"></div><a href=\"https://www.d20pfsrd.com/bestiary/monster-listings/outsiders/hound-of-tindalos/\">Hound of Tindalos</a></li><li class=\"page_item parent\" post_id=\"63344\"><div class=\"ognmenugap\"></div><a href=\"https://www.d20pfsrd.com/bestiary/monster-listings/outsiders/howler/\">Howler</a></li><li class=\"page_item parent\" post_id=\"63348\"><div class=\"ognmenugap\"></div><a href=\"https://www.d20pfsrd.com/bestiary/monster-listings/outsiders/hypnalis/\">Hypnalis</a></li><li class=\"page_item parent\" post_id=\"63350\"><div class=\"ognmenugap\"></div><a href=\"https://www.d20pfsrd.com/bestiary/monster-listings/outsiders/ifrit/\">Ifrit</a></li><li class=\"page_item parent\" post_id=\"63352\"><div class=\"ognmenugap\"></div><a href=\"https://www.d20pfsrd.com/bestiary/monster-listings/outsiders/impundulu/\">Impundulu</a></li><li class=\"page_item parent page_item_has_children not_loaded active\" post_id=\"63355\"><div class=\"ognmenugap ognexpander\"></div><a href=\"https://www.d20pfsrd.com/bestiary/monster-listings/outsiders/inevitable/\">Inevitable</a></li><li class=\"page_item parent\" post_id=\"63367\"><div class=\"ognmenugap\"></div><a href=\"https://www.d20pfsrd.com/bestiary/monster-listings/outsiders/jyoti/\">Jyoti</a></li><li class=\"page_item parent\" post_id=\"63369\"><div class=\"ognmenugap\"></div><a href=\"https://www.d20pfsrd.com/bestiary/monster-listings/outsiders/kakuen-taka/\">Kakuen-Taka</a></li><li class=\"page_item parent page_item_has_children not_loaded active\" post_id=\"63371\"><div class=\"ognmenugap ognexpander\"></div><a href=\"https://www.d20pfsrd.com/bestiary/monster-listings/outsiders/kami/\">Kami</a></li><li class=\"page_item parent\" post_id=\"63391\"><div class=\"ognmenugap\"></div><a href=\"https://www.d20pfsrd.com/bestiary/monster-listings/outsiders/karumzek/\">Karumzek</a></li><li class=\"page_item parent\" post_id=\"63393\"><div class=\"ognmenugap\"></div><a href=\"https://www.d20pfsrd.com/bestiary/monster-listings/outsiders/kirin/\">Kirin (3pp)</a></li><li class=\"page_item parent page_item_has_children not_loaded active\" post_id=\"63395\"><div class=\"ognmenugap ognexpander\"></div><a href=\"https://www.d20pfsrd.com/bestiary/monster-listings/outsiders/kyton/\">Kyton</a></li><li class=\"page_item parent\" post_id=\"63417\"><div class=\"ognmenugap\"></div><a href=\"https://www.d20pfsrd.com/bestiary/monster-listings/outsiders/lamhigyn/\">Lamhigyn</a></li><li class=\"page_item parent\" post_id=\"63419\"><div class=\"ognmenugap\"></div><a href=\"https://www.d20pfsrd.com/bestiary/monster-listings/outsiders/lejnth/\">Lejnth (3pp)</a></li><li class=\"page_item parent\" post_id=\"63421\"><div class=\"ognmenugap\"></div><a href=\"https://www.d20pfsrd.com/bestiary/monster-listings/outsiders/magmin/\">Magmin</a></li><li class=\"page_item parent\" post_id=\"63423\"><div class=\"ognmenugap\"></div><a href=\"https://www.d20pfsrd.com/bestiary/monster-listings/outsiders/magmoid/\">Magmoid</a></li><li class=\"page_item parent\" post_id=\"63425\"><div class=\"ognmenugap\"></div><a href=\"https://www.d20pfsrd.com/bestiary/monster-listings/outsiders/magnesium-spirit/\">Magnesium Spirit</a></li><li class=\"page_item parent page_item_has_children not_loaded active\" post_id=\"63427\"><div class=\"ognmenugap ognexpander\"></div><a href=\"https://www.d20pfsrd.com/bestiary/monster-listings/outsiders/manasaputra/\">Manasaputra</a></li><li class=\"page_item parent\" post_id=\"63439\"><div class=\"ognmenugap\"></div><a href=\"https://www.d20pfsrd.com/bestiary/monster-listings/outsiders/manitou/\">Manitou</a></li><li class=\"page_item parent\" post_id=\"63441\"><div class=\"ognmenugap\"></div><a href=\"https://www.d20pfsrd.com/bestiary/monster-listings/outsiders/memory-child/\">Memory Child</a></li><li class=\"page_item parent page_item_has_children not_loaded active\" post_id=\"63443\"><div class=\"ognmenugap ognexpander\"></div><a href=\"https://www.d20pfsrd.com/bestiary/monster-listings/outsiders/mephit/\">Mephit</a></li><li class=\"page_item parent\" post_id=\"63469\"><div class=\"ognmenugap\"></div><a href=\"https://www.d20pfsrd.com/bestiary/monster-listings/outsiders/mercane/\">Mercane</a></li><li class=\"page_item parent\" post_id=\"63471\"><div class=\"ognmenugap\"></div><a href=\"https://www.d20pfsrd.com/bestiary/monster-listings/outsiders/midnight-peddler/\">Midnight Peddler</a></li><li class=\"page_item parent\" post_id=\"63473\"><div class=\"ognmenugap\"></div><a href=\"https://www.d20pfsrd.com/bestiary/monster-listings/outsiders/moon-dog/\">Moon Dog</a></li><li class=\"page_item parent\" post_id=\"63475\"><div class=\"ognmenugap\"></div><a href=\"https://www.d20pfsrd.com/bestiary/monster-listings/outsiders/moon-dog-3pp/\">Moon Dog (3pp)</a></li><li class=\"page_item parent\" post_id=\"63477\"><div class=\"ognmenugap\"></div><a href=\"https://www.d20pfsrd.com/bestiary/monster-listings/outsiders/mother-of-obilivion/\">Mother of Oblivion</a></li><li class=\"page_item parent\" post_id=\"63479\"><div class=\"ognmenugap\"></div><a href=\"https://www.d20pfsrd.com/bestiary/monster-listings/outsiders/mudlord/\">Mudlord</a></li><li class=\"page_item parent\" post_id=\"63481\"><div class=\"ognmenugap\"></div><a href=\"https://www.d20pfsrd.com/bestiary/monster-listings/outsiders/nephilim/\">Nephilim</a></li><li class=\"page_item parent\" post_id=\"63483\"><div class=\"ognmenugap\"></div><a href=\"https://www.d20pfsrd.com/bestiary/monster-listings/outsiders/netherspark/\">Netherspark</a></li><li class=\"page_item parent page_item_has_children not_loaded active\" post_id=\"63485\"><div class=\"ognmenugap ognexpander\"></div><a href=\"https://www.d20pfsrd.com/bestiary/monster-listings/outsiders/nightmare/\">Nightmare</a></li><li class=\"page_item parent page_item_has_children not_loaded active\" post_id=\"63493\"><div class=\"ognmenugap ognexpander\"></div><a href=\"https://www.d20pfsrd.com/bestiary/monster-listings/outsiders/oni/\">Oni</a></li><li class=\"page_item parent\" post_id=\"63521\"><div class=\"ognmenugap\"></div><a href=\"https://www.d20pfsrd.com/bestiary/monster-listings/outsiders/oread/\">Oread</a></li><li class=\"page_item parent\" post_id=\"63523\"><div class=\"ognmenugap\"></div><a href=\"https://www.d20pfsrd.com/bestiary/monster-listings/outsiders/orsheval/\">Orsheval</a></li><li class=\"page_item parent\" post_id=\"63527\"><div class=\"ognmenugap\"></div><a href=\"https://www.d20pfsrd.com/bestiary/monster-listings/outsiders/pavbagha/\">Pavbagha</a></li><li class=\"page_item parent\" post_id=\"63529\"><div class=\"ognmenugap\"></div><a href=\"https://www.d20pfsrd.com/bestiary/monster-listings/outsiders/peri/\">Peri</a></li><li class=\"page_item parent\" post_id=\"63531\"><div class=\"ognmenugap\"></div><a href=\"https://www.d20pfsrd.com/bestiary/monster-listings/outsiders/phantom-unfettered/\">Phantom, Unfettered</a></li><li class=\"page_item parent\" post_id=\"63533\"><div class=\"ognmenugap\"></div><a href=\"https://www.d20pfsrd.com/bestiary/monster-listings/outsiders/proscriber/\">Proscriber</a></li><li class=\"page_item parent page_item_has_children not_loaded active\" post_id=\"63535\"><div class=\"ognmenugap ognexpander\"></div><a href=\"https://www.d20pfsrd.com/bestiary/monster-listings/outsiders/protean/\">Protean</a></li><li class=\"page_item parent\" post_id=\"63547\"><div class=\"ognmenugap\"></div><a href=\"https://www.d20pfsrd.com/bestiary/monster-listings/outsiders/protector/\">Protector (3pp)</a></li><li class=\"page_item parent\" post_id=\"63549\"><div class=\"ognmenugap\"></div><a href=\"https://www.d20pfsrd.com/bestiary/monster-listings/outsiders/psychemental/\">Psychemental</a></li><li class=\"page_item parent page_item_has_children not_loaded active\" post_id=\"63551\"><div class=\"ognmenugap ognexpander\"></div><a href=\"https://www.d20pfsrd.com/bestiary/monster-listings/outsiders/psychopomp/\">Psychopomp</a></li><li class=\"page_item parent page_item_has_children not_loaded active\" post_id=\"63597\"><div class=\"ognmenugap ognexpander\"></div><a href=\"https://www.d20pfsrd.com/bestiary/monster-listings/outsiders/raiju/\">Raiju</a></li><li class=\"page_item parent page_item_has_children not_loaded active\" post_id=\"63601\"><div class=\"ognmenugap ognexpander\"></div><a href=\"https://www.d20pfsrd.com/bestiary/monster-listings/outsiders/rakshasa/\">Rakshasa</a></li><li class=\"page_item parent\" post_id=\"63619\"><div class=\"ognmenugap\"></div><a href=\"https://www.d20pfsrd.com/bestiary/monster-listings/outsiders/rast/\">Rast</a></li><li class=\"page_item parent\" post_id=\"63621\"><div class=\"ognmenugap\"></div><a href=\"https://www.d20pfsrd.com/bestiary/monster-listings/outsiders/red-sun-kp/\">Red Sun (3pp)</a></li><li class=\"page_item parent\" post_id=\"63623\"><div class=\"ognmenugap\"></div><a href=\"https://www.d20pfsrd.com/bestiary/monster-listings/outsiders/sabrewing/\">Sabrewing (3pp)</a></li><li class=\"page_item parent page_item_has_children not_loaded active\" post_id=\"63625\"><div class=\"ognmenugap ognexpander\"></div><a href=\"https://www.d20pfsrd.com/bestiary/monster-listings/outsiders/sahkil/\">Sahkil</a></li><li class=\"page_item parent page_item_has_children not_loaded active\" post_id=\"63637\"><div class=\"ognmenugap ognexpander\"></div><a href=\"https://www.d20pfsrd.com/bestiary/monster-listings/outsiders/salamander/\">Salamander</a></li><li class=\"page_item parent\" post_id=\"63645\"><div class=\"ognmenugap\"></div><a href=\"https://www.d20pfsrd.com/bestiary/monster-listings/outsiders/sarcovalt/\">Sarcovalt</a></li><li class=\"page_item parent\" post_id=\"63647\"><div class=\"ognmenugap\"></div><a href=\"https://www.d20pfsrd.com/bestiary/monster-listings/outsiders/scanderig-forgefiend/\">Scanderig (Forgefiend)</a></li><li class=\"page_item parent\" post_id=\"63649\"><div class=\"ognmenugap\"></div><a href=\"https://www.d20pfsrd.com/bestiary/monster-listings/outsiders/scarlet-walker/\">Scarlet Walker</a></li><li class=\"page_item parent\" post_id=\"63651\"><div class=\"ognmenugap\"></div><a href=\"https://www.d20pfsrd.com/bestiary/monster-listings/outsiders/sceaduinar/\">Sceaduinar</a></li><li class=\"page_item parent\" post_id=\"63653\"><div class=\"ognmenugap\"></div><a href=\"https://www.d20pfsrd.com/bestiary/monster-listings/outsiders/shabti/\">Shabti</a></li><li class=\"page_item parent page_item_has_children not_loaded active\" post_id=\"63655\"><div class=\"ognmenugap ognexpander\"></div><a href=\"https://www.d20pfsrd.com/bestiary/monster-listings/outsiders/shadow-mastiff/\">Shadow Mastiff</a></li><li class=\"page_item parent\" post_id=\"63661\"><div class=\"ognmenugap\"></div><a href=\"https://www.d20pfsrd.com/bestiary/monster-listings/outsiders/shae/\">Shae</a></li><li class=\"page_item parent\" post_id=\"63663\"><div class=\"ognmenugap\"></div><a href=\"https://www.d20pfsrd.com/bestiary/monster-listings/outsiders/shikigami/\">Shikigami</a></li><li class=\"page_item parent\" post_id=\"63665\"><div class=\"ognmenugap\"></div><a href=\"https://www.d20pfsrd.com/bestiary/monster-listings/outsiders/shinigami/\">Shinigami</a></li><li class=\"page_item parent\" post_id=\"63669\"><div class=\"ognmenugap\"></div><a href=\"https://www.d20pfsrd.com/bestiary/monster-listings/outsiders/shulsaga/\">Shulsaga</a></li><li class=\"page_item parent\" post_id=\"63671\"><div class=\"ognmenugap\"></div><a href=\"https://www.d20pfsrd.com/bestiary/monster-listings/outsiders/slaad-lord-of-entropy/\">Slaad Lord of Entropy (Chaos Lord of Entropy)</a></li><li class=\"page_item parent\" post_id=\"63673\"><div class=\"ognmenugap\"></div><a href=\"https://www.d20pfsrd.com/bestiary/monster-listings/outsiders/slaad-lord-of-the-insane-tohc/\">Slaad Lord of the Insane (Chaos Lord of the Insane)</a></li><li class=\"page_item parent\" post_id=\"63675\"><div class=\"ognmenugap\"></div><a href=\"https://www.d20pfsrd.com/bestiary/monster-listings/outsiders/slag-worm-tohc/\">Slag Worm</a></li><li class=\"page_item parent\" post_id=\"63677\"><div class=\"ognmenugap\"></div><a href=\"https://www.d20pfsrd.com/bestiary/monster-listings/outsiders/soul-eater/\">Soul Eater</a></li><li class=\"page_item parent\" post_id=\"63679\"><div class=\"ognmenugap\"></div><a href=\"https://www.d20pfsrd.com/bestiary/monster-listings/outsiders/soul-eater-tohc/\">Soul Eater (3pp)</a></li><li class=\"page_item parent\" post_id=\"63681\"><div class=\"ognmenugap\"></div><a href=\"https://www.d20pfsrd.com/bestiary/monster-listings/outsiders/soulsliver/\">Soulsliver</a></li><li class=\"page_item parent\" post_id=\"63683\"><div class=\"ognmenugap\"></div><a href=\"https://www.d20pfsrd.com/bestiary/monster-listings/outsiders/stone-maiden-tohc/\">Stone Maiden</a></li><li class=\"page_item parent\" post_id=\"63685\"><div class=\"ognmenugap\"></div><a href=\"https://www.d20pfsrd.com/bestiary/monster-listings/outsiders/suli/\">Suli</a></li><li class=\"page_item parent\" post_id=\"63687\"><div class=\"ognmenugap\"></div><a href=\"https://www.d20pfsrd.com/bestiary/monster-listings/outsiders/swarm-heat-tohc/\">Swarm, Heat</a></li><li class=\"page_item parent\" post_id=\"63689\"><div class=\"ognmenugap\"></div><a href=\"https://www.d20pfsrd.com/bestiary/monster-listings/outsiders/sylph/\">Sylph</a></li><li class=\"page_item parent\" post_id=\"63691\"><div class=\"ognmenugap\"></div><a href=\"https://www.d20pfsrd.com/bestiary/monster-listings/outsiders/tenebrous-purple-worm-tohc/\">Tenebrous Purple Worm</a></li><li class=\"page_item parent\" post_id=\"63693\"><div class=\"ognmenugap\"></div><a href=\"https://www.d20pfsrd.com/bestiary/monster-listings/outsiders/tenebrous-worm/\">Tenebrous Worm</a></li><li class=\"page_item parent\" post_id=\"63695\"><div class=\"ognmenugap\"></div><a href=\"https://www.d20pfsrd.com/bestiary/monster-listings/outsiders/the-mantis-god/\">The Mantis God (3.5)</a></li><li class=\"page_item parent\" post_id=\"63697\"><div class=\"ognmenugap\"></div><a href=\"https://www.d20pfsrd.com/bestiary/monster-listings/outsiders/tiefling/\">Tiefling</a></li><li class=\"page_item parent\" post_id=\"63699\"><div class=\"ognmenugap\"></div><a href=\"https://www.d20pfsrd.com/bestiary/monster-listings/outsiders/time-flayer/\">Time Flayer (3pp)</a></li><li class=\"page_item parent page_item_has_children not_loaded active\" post_id=\"63701\"><div class=\"ognmenugap ognexpander\"></div><a href=\"https://www.d20pfsrd.com/bestiary/monster-listings/outsiders/titan/\">Titan</a></li><li class=\"page_item parent\" post_id=\"63713\"><div class=\"ognmenugap\"></div><a href=\"https://www.d20pfsrd.com/bestiary/monster-listings/outsiders/tojanida/\">Tojanida</a></li><li class=\"page_item parent\" post_id=\"63715\"><div class=\"ognmenugap\"></div><a href=\"https://www.d20pfsrd.com/bestiary/monster-listings/outsiders/tojanida-f-foes/\">Tojanida (3pp)</a></li><li class=\"page_item parent\" post_id=\"63717\"><div class=\"ognmenugap\"></div><a href=\"https://www.d20pfsrd.com/bestiary/monster-listings/outsiders/triton/\">Triton</a></li><li class=\"page_item parent\" post_id=\"63719\"><div class=\"ognmenugap\"></div><a href=\"https://www.d20pfsrd.com/bestiary/monster-listings/outsiders/true-gorgon-euryale-tohc/\">True Gorgon, Euryale (3pp)</a></li><li class=\"page_item parent\" post_id=\"63721\"><div class=\"ognmenugap\"></div><a href=\"https://www.d20pfsrd.com/bestiary/monster-listings/outsiders/true-gorgon-sthenno-tohc/\">True Gorgon, Sthenno (3PP)</a></li><li class=\"page_item parent page_item_has_children not_loaded active\" post_id=\"63723\"><div class=\"ognmenugap ognexpander\"></div><a href=\"https://www.d20pfsrd.com/bestiary/monster-listings/outsiders/tsukumogami/\">Tsukumogami</a></li><li class=\"page_item parent\" post_id=\"63731\"><div class=\"ognmenugap\"></div><a href=\"https://www.d20pfsrd.com/bestiary/monster-listings/outsiders/turul/\">Turul</a></li><li class=\"page_item parent\" post_id=\"63733\"><div class=\"ognmenugap\"></div><a href=\"https://www.d20pfsrd.com/bestiary/monster-listings/outsiders/umbral-shepherd/\">Umbral Shepherd</a></li><li class=\"page_item parent\" post_id=\"63735\"><div class=\"ognmenugap\"></div><a href=\"https://www.d20pfsrd.com/bestiary/monster-listings/outsiders/undine/\">Undine</a></li><li class=\"page_item parent\" post_id=\"62128\"><div class=\"ognmenugap\"></div><a href=\"https://www.d20pfsrd.com/bestiary/monster-listings/outsiders/urdefhan/\">Urdefhan</a></li><li class=\"page_item parent\" post_id=\"63737\"><div class=\"ognmenugap\"></div><a href=\"https://www.d20pfsrd.com/bestiary/monster-listings/outsiders/valkyrie/\">Valkyrie</a></li><li class=\"page_item parent page_item_has_children not_loaded active\" post_id=\"63739\"><div class=\"ognmenugap ognexpander\"></div><a href=\"https://www.d20pfsrd.com/bestiary/monster-listings/outsiders/vargouille/\">Vargouille</a></li><li class=\"page_item parent page_item_has_children not_loaded active\" post_id=\"63743\"><div class=\"ognmenugap ognexpander\"></div><a href=\"https://www.d20pfsrd.com/bestiary/monster-listings/outsiders/veela/\">Veela</a></li><li class=\"page_item parent\" post_id=\"63753\"><div class=\"ognmenugap\"></div><a href=\"https://www.d20pfsrd.com/bestiary/monster-listings/outsiders/vendenopterix/\">Vendenopterix</a></li><li class=\"page_item parent\" post_id=\"63755\"><div class=\"ognmenugap\"></div><a href=\"https://www.d20pfsrd.com/bestiary/monster-listings/outsiders/vescavor-queen/\">Vescavor Queen</a></li><li class=\"page_item parent\" post_id=\"63757\"><div class=\"ognmenugap\"></div><a href=\"https://www.d20pfsrd.com/bestiary/monster-listings/outsiders/vescavor-swarm/\">Vescavor Swarm</a></li><li class=\"page_item parent\" post_id=\"63759\"><div class=\"ognmenugap\"></div><a href=\"https://www.d20pfsrd.com/bestiary/monster-listings/outsiders/wakandagi/\">Wakandagi</a></li><li class=\"page_item parent\" post_id=\"63761\"><div class=\"ognmenugap\"></div><a href=\"https://www.d20pfsrd.com/bestiary/monster-listings/outsiders/wang-liang-tohc/\">Wang Liang (3pp)</a></li><li class=\"page_item parent\" post_id=\"63763\"><div class=\"ognmenugap\"></div><a href=\"https://www.d20pfsrd.com/bestiary/monster-listings/outsiders/warped-one/\">Warped One</a></li><li class=\"page_item parent page_item_has_children not_loaded active\" post_id=\"63765\"><div class=\"ognmenugap ognexpander\"></div><a href=\"https://www.d20pfsrd.com/bestiary/monster-listings/outsiders/weirds-tohc/\">Weirds</a></li><li class=\"page_item parent\" post_id=\"63773\"><div class=\"ognmenugap\"></div><a href=\"https://www.d20pfsrd.com/bestiary/monster-listings/outsiders/wendigo/\">Wendigo</a></li><li class=\"page_item parent page_item_has_children not_loaded active\" post_id=\"63775\"><div class=\"ognmenugap ognexpander\"></div><a href=\"https://www.d20pfsrd.com/bestiary/monster-listings/outsiders/wysp/\">Wysp</a></li><li class=\"page_item parent\" post_id=\"63787\"><div class=\"ognmenugap\"></div><a href=\"https://www.d20pfsrd.com/bestiary/monster-listings/outsiders/xacarba/\">Xacarba</a></li><li class=\"page_item parent page_item_has_children not_loaded active\" post_id=\"63789\"><div class=\"ognmenugap ognexpander\"></div><a href=\"https://www.d20pfsrd.com/bestiary/monster-listings/outsiders/xill/\">Xill</a></li><li class=\"page_item parent\" post_id=\"63793\"><div class=\"ognmenugap\"></div><a href=\"https://www.d20pfsrd.com/bestiary/monster-listings/outsiders/xocothian/\">Xocothian</a></li><li class=\"page_item parent\" post_id=\"63795\"><div class=\"ognmenugap\"></div><a href=\"https://www.d20pfsrd.com/bestiary/monster-listings/outsiders/xorn/\">Xorn</a></li><li class=\"page_item parent\" post_id=\"63797\"><div class=\"ognmenugap\"></div><a href=\"https://www.d20pfsrd.com/bestiary/monster-listings/outsiders/yeth-hound/\">Yeth Hound</a></li><li class=\"page_item parent\" post_id=\"63799\"><div class=\"ognmenugap\"></div><a href=\"https://www.d20pfsrd.com/bestiary/monster-listings/outsiders/yhohm/\">Yhohm</a></li><li class=\"page_item parent\" post_id=\"63801\"><div class=\"ognmenugap\"></div><a href=\"https://www.d20pfsrd.com/bestiary/monster-listings/outsiders/zentragt/\">Zentragt</a></li><li class=\"page_item parent\" post_id=\"63803\"><div class=\"ognmenugap\"></div><a href=\"https://www.d20pfsrd.com/bestiary/monster-listings/outsiders/zhyen/\">Zhyen</a></li></ul></li><li class=\"page_item parent page_item_has_children not_loaded active\" post_id=\"64096\"><div class=\"ognmenugap ognexpander\"></div><a href=\"https://www.d20pfsrd.com/bestiary/monster-listings/templates/\">Templates</a></li><li class=\"page_item parent page_item_has_children not_loaded active\" post_id=\"64792\"><div class=\"ognmenugap ognexpander\"></div><a href=\"https://www.d20pfsrd.com/bestiary/monster-listings/undead/\">Undead</a></li><li class=\"page_item parent page_item_has_children not_loaded active\" post_id=\"65430\"><div class=\"ognmenugap ognexpander\"></div><a href=\"https://www.d20pfsrd.com/bestiary/monster-listings/vermin/\">Vermin</a></li></ul></li><li class=\"page_item parent page_item_has_children not_loaded active\" post_id=\"57187\"><div class=\"ognmenugap ognexpander\"></div><a href=\"https://www.d20pfsrd.com/bestiary/bestiary-alphabetical/\">(Bestiary) Alphabetical</a></li><li class=\"page_item parent page_item_has_children not_loaded active\" post_id=\"57215\"><div class=\"ognmenugap ognexpander\"></div><a href=\"https://www.d20pfsrd.com/bestiary/bestiary-by-challenge-rating/\">(Bestiary) By Challenge Rating</a></li><li class=\"page_item parent page_item_has_children not_loaded active\" post_id=\"57241\"><div class=\"ognmenugap ognexpander\"></div><a href=\"https://www.d20pfsrd.com/bestiary/bestiary-by-terrain/\">(Bestiary) By Terrain</a></li><li class=\"page_item parent page_item_has_children not_loaded active\" post_id=\"57420\"><div class=\"ognmenugap ognexpander\"></div><a href=\"https://www.d20pfsrd.com/bestiary/indexes-and-tables/\">Indexes and Tables</a></li><li class=\"page_item parent page_item_has_children not_loaded active\" post_id=\"67728\"><div class=\"ognmenugap ognexpander\"></div><a href=\"https://www.d20pfsrd.com/bestiary/rules-for-monsters/\">Rules for Monsters</a></li><li class=\"page_item parent page_item_has_children not_loaded active\" post_id=\"57275\"><div class=\"ognmenugap ognexpander\"></div><a href=\"https://www.d20pfsrd.com/bestiary/bestiary-hub/\">Bestiary Alternative Listing</a></li><li class=\"page_item parent page_item_has_children not_loaded active\" post_id=\"57293\"><div class=\"ognmenugap ognexpander\"></div><a href=\"https://www.d20pfsrd.com/bestiary/fan-conversions/\">Modules</a></li><li class=\"page_item parent page_item_has_children not_loaded active\" post_id=\"67754\"><div class=\"ognmenugap ognexpander\"></div><a href=\"https://www.d20pfsrd.com/bestiary/tools/\">Tools</a></li><li class=\"page_item parent page_item_has_children not_loaded active\" post_id=\"67800\"><div class=\"ognmenugap ognexpander\"></div><a href=\"https://www.d20pfsrd.com/bestiary/unique-monsters/\">Unique Monsters</a></li></ul></li><li class=\"page_item parent page_item_has_children not_loaded active\" post_id=\"157240\"><div class=\"ognmenugap ognexpander\"></div><a href=\"https://www.d20pfsrd.com/alternative-rule-systems/\">Alternative Rule Systems</a></li><li class=\"page_item parent\" post_id=\"209489\"><div class=\"ognmenugap\"></div><a href=\"https://www.d20pfsrd.com/d20pfsrd-com-publishing-store/\">d20pfsrd.com Publishing Store</a></li></ul></div><div class=\"widget widget_black_studio_tinymce\"><h4 class=\"widget-title\">Occult!</h4><div class=\"textwidget\"><p><a href=\"https://www.d20pfsrd.com/alternative-rule-systems/occult-adventures/occult-classes/\">Classes</a><br><a href=\"https://www.d20pfsrd.com/alternative-rule-systems/occult-adventures/occult-rules/\">Rules</a><br><a href=\"https://www.d20pfsrd.com/alternative-rule-systems/occult-adventures/psychic-magic/\">Psychic Magic</a></p>\\n</div></div>                <div id=\"left-sidebar-filler\" class=\"filler\"></div>\\n                  \\n\\t  </div>\\n    </div></aside>\\n    <aside class=\"sidebar-left sidebar-left-last\" role=\"complementary\">\\n        <div class=\"widget widget_srdgoogleads\"><div class=\"adbox-inwidget\"><div id=\"nitropay-d20pfsrd-left-upper\" class=\"ogn-npa\"></div><script type=\"text/javascript\">\\n    ognCreateAdSpot(\"nitropay-d20pfsrd-left-upper\",\"vert\");\\n</script></div></div>\\n\\t    \\n\\n    </aside>\\n\\n<!-- /end sidebar -->\\n            <!-- Content -->\\n            <main role=\"main\" class=\"pre-nextgen\">\\n                <section>\\n\\n\\n                                                                        <article id=\"post-62222\" class=\"bestiary bestiarybytype outsiders angels angel,solar post-62222 page type-page status-publish hentry\">\\n                                <a class=\"bread-parent\" parentid=\"52278\" href=\"https://www.d20pfsrd.com/\" title=\"Home\">Home</a>&nbsp;&gt;<a class=\"bread-parent\" parentid=\"57186\" href=\"https://www.d20pfsrd.com/bestiary/\" title=\"Bestiary\">Bestiary</a>&nbsp;&gt;<a class=\"bread-parent\" parentid=\"57428\" href=\"https://www.d20pfsrd.com/bestiary/monster-listings/\" title=\"(Bestiary) By Type\">(Bestiary) By Type</a>&nbsp;&gt;<a class=\"bread-parent\" parentid=\"62127\" href=\"https://www.d20pfsrd.com/bestiary/monster-listings/outsiders/\" title=\"Outsiders\">Outsiders</a>&nbsp;&gt;<a class=\"bread-parent\" parentid=\"62190\" href=\"https://www.d20pfsrd.com/bestiary/monster-listings/outsiders/angel/\" title=\"Angels\">Angels</a>&nbsp;&gt;                                <h1>Angel, Solar</h1>\\n                                                                                            \\n                                                                    <div class=\"page-widget top-post\">\\n                                        <div class=\"widget widget_srdgoogleads\"><div class=\"adbox-inwidget\"><div id=\"nitropay-d20pfsrd-top\" class=\"ogn-npa\"></div><script type=\"text/javascript\">\\n    ognCreateAdSpot(\"nitropay-d20pfsrd-top\",\"horiz\");\\n</script></div></div><div class=\"widget widget_text\">\\t\\t\\t<div class=\"textwidget\"><div class=\"ogn-npa\" style=\"padding: 10px; background-color: #d0e0e3;\">\\n<h5><a href=\"https://account.opengamingnetwork.com/manage/subscription\" target=\"_blank\" rel=\"noopener\">Subscribe to the Open Gaming Network and get everything ad-free!</a></h5>\\n</div>\\n</div>\\n\\t\\t</div>                                    </div>\\n                                                                <div class=\"row display-flex\">\\n                                    <div class=\"col-sm-9 col-md-9 col-lg-10 col-xs-12 article-text\">\\n                                       <div class=\"page-center\">\\n                                              <div class=\"article-content\">\\n                                                   \\n<p class=\"description\">This towering humanoid creature has shining topaz eyes, metallic skin, and three pairs of white wings.</p> \\n<div class=\"statblock\"> \\n <p class=\"title\">Solar <span class=\"level\">CR 23</span></p> \\n <p><b>XP 819,200</b><br>NG Large <a href=\"https://www.d20pfsrd.com/bestiary/rules-for-monsters/creature-types#Outsider\">outsider</a> (<a href=\"https://www.d20pfsrd.com/bestiary/rules-for-monsters/creature-types#angel\">angel</a>, <a href=\"https://www.d20pfsrd.com/bestiary/rules-for-monsters/creature-types#extraplanar\">extraplanar</a>, <a href=\"https://www.d20pfsrd.com/bestiary/rules-for-monsters/creature-types#good\">good</a>)<br> <b>Init</b> +9; <b>Senses</b> <a href=\"https://www.d20pfsrd.com/gamemastering/special-abilities#TOC-Darkvision\">darkvision</a> 60 ft., low-light vision, <a class=\"spell\" href=\"https://www.d20pfsrd.com/magic/all-spells/d/detect-evil\">detect evil</a>, <a class=\"spell\" href=\"https://www.d20pfsrd.com/magic/all-spells/d/detect-snares-and-pits\">detect snares and pits</a>, <a class=\"spell\" href=\"https://www.d20pfsrd.com/magic/all-spells/t/true-seeing\">true seeing</a>; <a href=\"https://www.d20pfsrd.com/skills/perception\">Perception</a> +33<br> <b>Aura</b> <a href=\"https://www.d20pfsrd.com/bestiary/rules-for-monsters/creature-types#TOC-Angel\">protective aura</a></p> \\n <p class=\"divider\">DEFENSE</p> \\n <p><b>AC</b> 44, touch 11, flat-footed 42 (+14 <a href=\"https://www.d20pfsrd.com/basics-ability-scores/glossary#TOC-Armor-Bonus\">armor</a>, +1 <a href=\"https://www.d20pfsrd.com/basics-ability-scores/ability-scores#TOC-Dexterity-Dex-\">Dex</a>, +1 dodge, +19 <a href=\"https://www.d20pfsrd.com/basics-ability-scores/glossary#TOC-Bonus-Natural-Armor-\">natural</a>, –1 size; +4 deflection vs. evil)<br> <b>hp</b> 363 (22d10+242); <a href=\"https://www.d20pfsrd.com/bestiary/rules-for-monsters/universal-monster-rules#TOC-Regeneration-Ex-\">regeneration</a> 15 (evil artifacts, effects, and spells)<br> <b>Fort</b> +25, <b>Ref</b> +14, <b>Will</b> +23; +4 vs. poison, +4 resistance vs. evil<br> <b>DR</b> 15/epic and evil; <b>Immune</b> acid, cold, petrification; <b>Resist</b> electricity 10, fire 10; <b>SR</b> 34</p> \\n <p class=\"divider\">OFFENSE</p> \\n <p><b>Speed</b> 50 ft., fly 150 ft. (good); 35 ft., fly 100 ft. (good) in armor<br> <b>Melee</b> <i>+5 <a href=\"https://www.d20pfsrd.com/magic-items/magic-weapons#TOC-Dancing\">dancing</a> greatsword</i> +35/+30/+25/+20 (3d6+18) or slam +30 (2d8+13)<br> <b>Ranged</b> <i>+5 composite longbow</i> (+9 Str bonus) +31/+26/+21/+16 (2d6+14 plus <i><a href=\"https://www.d20pfsrd.com/magic-items/magic-weapons#TOC-Slaying-Arrow\">slaying</a></i> arrow)<br> <b>Space</b> 10 ft.; <b>Reach</b> 10 ft.<br> <b>Spell-Like Abilities</b> (CL 20th)</p> \\n <p style=\"margin-left:20px\"> <b>Constant</b>—<a class=\"spell\" href=\"https://www.d20pfsrd.com/magic/all-spells/d/detect-evil\">detect evil</a>, <a class=\"spell\" href=\"https://www.d20pfsrd.com/magic/all-spells/d/detect-snares-and-pits\">detect snares and pits</a>, <a class=\"spell\" href=\"https://www.d20pfsrd.com/magic/all-spells/d/discern-lies\">discern lies</a> (DC 21), <a class=\"spell\" href=\"https://www.d20pfsrd.com/magic/all-spells/t/true-seeing\">true seeing</a><br> <b>At Will</b>—<a class=\"spell\" href=\"https://www.d20pfsrd.com/magic/all-spells/a/aid\">aid</a>, <a class=\"spell\" href=\"https://www.d20pfsrd.com/magic/all-spells/a/animate-objects\">animate objects</a>, <a class=\"spell\" href=\"https://www.d20pfsrd.com/magic/all-spells/c/commune\">commune</a>, <a class=\"spell\" href=\"https://www.d20pfsrd.com/magic/all-spells/c/continual-flame\">continual flame</a>, <a class=\"spell\" href=\"https://www.d20pfsrd.com/magic/all-spells/d/dimensional-anchor\">dimensional anchor</a>, <a class=\"spell\" href=\"https://www.d20pfsrd.com/magic/all-spells/d/dispel-magic\">greater dispel magic</a>, <a class=\"spell\" href=\"https://www.d20pfsrd.com/magic/all-spells/h/holy-smite\">holy smite</a> (DC 21), <a class=\"spell\" href=\"https://www.d20pfsrd.com/magic/all-spells/i/imprisonment\">imprisonment</a> (DC 26), <a class=\"spell\" href=\"https://www.d20pfsrd.com/magic/all-spells/i/invisibility\">invisibility</a> (self only), <a class=\"spell\" href=\"https://www.d20pfsrd.com/magic/all-spells/r/restoration\">lesser restoration</a>, <a class=\"spell\" href=\"https://www.d20pfsrd.com/magic/all-spells/r/remove-curse\">remove curse</a>, <a class=\"spell\" href=\"https://www.d20pfsrd.com/magic/all-spells/r/remove-disease\">remove disease</a>, <a class=\"spell\" href=\"https://www.d20pfsrd.com/magic/all-spells/r/remove-fear\">remove fear</a>, <a class=\"spell\" href=\"https://www.d20pfsrd.com/magic/all-spells/r/resist-energy\">resist energy</a>, <a class=\"spell\" href=\"https://www.d20pfsrd.com/magic/all-spells/s/summon-monster\">summon monster VII</a>, <a class=\"spell\" href=\"https://www.d20pfsrd.com/magic/all-spells/s/speak-with-dead\">speak with dead</a> (DC 20), <a class=\"spell\" href=\"https://www.d20pfsrd.com/magic/all-spells/w/waves-of-fatigue\">waves of fatigue</a><br> <b>3/day</b>—<a class=\"spell\" href=\"https://www.d20pfsrd.com/magic/all-spells/b/blade-barrier\">blade barrier</a> (DC 23), <a class=\"spell\" href=\"https://www.d20pfsrd.com/magic/all-spells/e/earthquake\">earthquake</a> (DC 25), <a class=\"spell\" href=\"https://www.d20pfsrd.com/magic/all-spells/h/heal\">heal</a>, <a class=\"spell\" href=\"https://www.d20pfsrd.com/magic/all-spells/c/charm-monster\">mass charm monster</a> (DC 25), <a class=\"spell\" href=\"https://www.d20pfsrd.com/magic/all-spells/p/permanency\">permanency</a>, <a class=\"spell\" href=\"https://www.d20pfsrd.com/magic/all-spells/r/resurrection\">resurrection</a>, <a class=\"spell\" href=\"https://www.d20pfsrd.com/magic/all-spells/w/waves-of-exhaustion\">waves of exhaustion</a><br> <b>1/day</b>—<a class=\"spell\" href=\"https://www.d20pfsrd.com/magic/all-spells/r/restoration\">greater restoration</a>, <a class=\"spell\" href=\"https://www.d20pfsrd.com/magic/all-spells/p/power-word-blind\">power word blind</a>, <a class=\"spell\" href=\"https://www.d20pfsrd.com/magic/all-spells/p/power-word-kill\">power word kill</a>, <a class=\"spell\" href=\"https://www.d20pfsrd.com/magic/all-spells/p/power-word-stun\">power word stun</a>, <a class=\"spell\" href=\"https://www.d20pfsrd.com/magic/all-spells/p/prismatic-spray\">prismatic spray</a> (DC 24), <a class=\"spell\" href=\"https://www.d20pfsrd.com/magic/all-spells/w/wish\">wish</a></p> \\n <p><b>Spells Prepared</b> (CL 20th)</p> \\n <p style=\"margin-left:20px\"> <b>9th</b>—<a class=\"spell\" href=\"https://www.d20pfsrd.com/magic/all-spells/e/etherealness\">etherealness</a>, <a class=\"spell\" href=\"https://www.d20pfsrd.com/magic/all-spells/h/heal\">mass heal</a>, <a class=\"spell\" href=\"https://www.d20pfsrd.com/magic/all-spells/m/miracle\">miracle</a>, <a class=\"spell\" href=\"https://www.d20pfsrd.com/magic/all-spells/s/storm-of-vengeance\">storm of vengeance</a> (DC 27)<br> <b>8th</b>—<a class=\"spell\" href=\"https://www.d20pfsrd.com/magic/all-spells/f/fire-storm\">fire storm</a> (DC 26), <a class=\"spell\" href=\"https://www.d20pfsrd.com/magic/all-spells/h/holy-aura\">holy aura</a> (2) (DC 26), <a class=\"spell\" href=\"https://www.d20pfsrd.com/magic/all-spells/c/cure-critical-wounds\">mass cure critical wounds</a> (2)<br> <b>7th</b>—<a class=\"spell\" href=\"https://www.d20pfsrd.com/magic/all-spells/d/destruction\">destruction</a> (DC 25), <a class=\"spell\" href=\"https://www.d20pfsrd.com/magic/all-spells/d/dictum\">dictum</a> (DC 25), <a class=\"spell\" href=\"https://www.d20pfsrd.com/magic/all-spells/e/ethereal-jaunt\">ethereal jaunt</a>, <a class=\"spell\" href=\"https://www.d20pfsrd.com/magic/all-spells/h/holy-word\">holy word</a> (DC 25), <a class=\"spell\" href=\"https://www.d20pfsrd.com/magic/all-spells/r/regenerate\">regenerate</a><br> <b>6th</b>—<a class=\"spell\" href=\"https://www.d20pfsrd.com/magic/all-spells/b/banishment\">banishment</a> (DC 24), <a class=\"spell\" href=\"https://www.d20pfsrd.com/magic/all-spells/h/heroes-feast\">heroes’ feast</a>, <a class=\"spell\" href=\"https://www.d20pfsrd.com/magic/all-spells/c/cure-moderate-wounds\">mass cure moderate wounds</a>, <a class=\"spell\" href=\"https://www.d20pfsrd.com/magic/all-spells/u/undeath-to-death\">undeath to death</a> (DC 24), <a class=\"spell\" href=\"https://www.d20pfsrd.com/magic/all-spells/w/word-of-recall\">word of recall</a><br> <b>5th</b>—<a class=\"spell\" href=\"https://www.d20pfsrd.com/magic/all-spells/b/break-enchantment\">break enchantment</a>, <a class=\"spell\" href=\"https://www.d20pfsrd.com/magic/all-spells/b/breath-of-life\">breath of life</a>, <a class=\"spell\" href=\"https://www.d20pfsrd.com/magic/all-spells/d/dispel-evil\">dispel evil</a> (DC 23), <a class=\"spell\" href=\"https://www.d20pfsrd.com/magic/all-spells/p/plane-shift\">plane shift</a> (DC 23), <a class=\"spell\" href=\"https://www.d20pfsrd.com/magic/all-spells/r/righteous-might\">righteous might</a>, <a class=\"spell\" href=\"https://www.d20pfsrd.com/magic/all-spells/s/symbol-of-sleep\">symbol of sleep</a> (DC 23)<br> <b>4th</b>—<a class=\"spell\" href=\"https://www.d20pfsrd.com/magic/all-spells/c/cure-critical-wounds\">cure critical wounds</a> (3), <a class=\"spell\" href=\"https://www.d20pfsrd.com/magic/all-spells/d/death-ward\">death ward</a>, <a class=\"spell\" href=\"https://www.d20pfsrd.com/magic/all-spells/d/dismissal\">dismissal</a> (DC 22), <a class=\"spell\" href=\"https://www.d20pfsrd.com/magic/all-spells/n/neutralize-poison\">neutralize poison</a> (2) (DC 22)<br> <b>3rd</b>—<a class=\"spell\" href=\"https://www.d20pfsrd.com/magic/all-spells/c/cure-serious-wounds\">cure serious wounds</a>, <a class=\"spell\" href=\"https://www.d20pfsrd.com/magic/all-spells/d/daylight\">daylight</a>, <a class=\"spell\" href=\"https://www.d20pfsrd.com/magic/all-spells/i/invisibility-purge\">invisibility purge</a>, <a class=\"spell\" href=\"https://www.d20pfsrd.com/magic/all-spells/m/magic-circle-against-evil\">magic circle against evil</a>, <a class=\"spell\" href=\"https://www.d20pfsrd.com/magic/all-spells/p/prayer\">prayer</a>, <a class=\"spell\" href=\"https://www.d20pfsrd.com/magic/all-spells/p/protection-from-energy\">protection from energy</a>, <a class=\"spell\" href=\"https://www.d20pfsrd.com/magic/all-spells/w/wind-wall\">wind wall</a><br> <b>2nd</b>—<a class=\"spell\" href=\"https://www.d20pfsrd.com/magic/all-spells/a/align-weapon\">align weapon</a>, <a class=\"spell\" href=\"https://www.d20pfsrd.com/magic/all-spells/b/bear-s-endurance\">bear’s endurance</a>, <a class=\"spell\" href=\"https://www.d20pfsrd.com/magic/all-spells/b/bull-s-strength\">bull’s strength</a>, <a class=\"spell\" href=\"https://www.d20pfsrd.com/magic/all-spells/c/consecrate\">consecrate</a>, <a class=\"spell\" href=\"https://www.d20pfsrd.com/magic/all-spells/c/cure-moderate-wounds\">cure moderate wounds</a> (2), <a class=\"spell\" href=\"https://www.d20pfsrd.com/magic/all-spells/e/eagle-s-splendor\">eagle’s splendor</a><br> <b>1st</b>—<a class=\"spell\" href=\"https://www.d20pfsrd.com/magic/all-spells/b/bless\">bless</a>, <a class=\"spell\" href=\"https://www.d20pfsrd.com/magic/all-spells/c/cure-light-wounds\">cure light wounds</a> (3), <a class=\"spell\" href=\"https://www.d20pfsrd.com/magic/all-spells/d/divine-favor\">divine favor</a>, <a class=\"spell\" href=\"https://www.d20pfsrd.com/magic/all-spells/e/entropic-shield\">entropic shield</a>, <a class=\"spell\" href=\"https://www.d20pfsrd.com/magic/all-spells/s/shield-of-faith\">shield of faith</a><br> <b>0 (at will)</b>—detect magic, purify food and drink, stabilize, virtue</p> \\n <p class=\"divider\">STATISTICS</p> \\n <p><b>Str</b> 28, <b>Dex</b> 20, <b>Con</b> 30, <b>Int</b> 23, <b>Wis</b> 27, <b>Cha</b> 25<br> <b>Base Atk</b> +22; <b>CMB</b> +32; <b>CMD</b> 47<br> <b>Feats</b> <a href=\"https://www.d20pfsrd.com/feats/combat-feats/cleave-combat\">Cleave</a>, <a href=\"https://www.d20pfsrd.com/feats/combat-feats/deadly-aim-combat\">Deadly Aim</a>, <a href=\"https://www.d20pfsrd.com/feats/combat-feats/dodge-combat\">Dodge</a>, <a href=\"https://www.d20pfsrd.com/feats/general-feats/great-fortitude\">Great Fortitude</a>, <a href=\"https://www.d20pfsrd.com/feats/combat-feats/improved-initiative-combat\">Improved Initiative</a>, <a href=\"https://www.d20pfsrd.com/feats/combat-feats/improved-sunder-combat\">Improved Sunder</a>, <a href=\"https://www.d20pfsrd.com/feats/general-feats/iron-will\">Iron Will</a>, <a href=\"https://www.d20pfsrd.com/feats/general-feats/lightning-reflexes\">Lightning Reflexes</a>, <a href=\"https://www.d20pfsrd.com/feats/combat-feats/mobility-combat\">Mobility</a>, <a href=\"https://www.d20pfsrd.com/feats/combat-feats/power-attack-combat\">Power Attack</a>, <a href=\"https://www.d20pfsrd.com/feats/general-feats/toughness\">Toughness</a><br> <b>Skills</b> <a href=\"https://www.d20pfsrd.com/skills/craft\">Craft</a> (any one) +31, <a href=\"https://www.d20pfsrd.com/skills/diplomacy\">Diplomacy</a> +32, <a href=\"https://www.d20pfsrd.com/skills/fly\">Fly</a> +32, <a href=\"https://www.d20pfsrd.com/skills/knowledge\">Knowledge</a> (history) +31, <a href=\"https://www.d20pfsrd.com/skills/knowledge\">Knowledge</a> (nature) +31, <a href=\"https://www.d20pfsrd.com/skills/knowledge\">Knowledge</a> (planes) +31, <a href=\"https://www.d20pfsrd.com/skills/knowledge\">Knowledge</a> (religion) +31, <a href=\"https://www.d20pfsrd.com/skills/perception\">Perception</a> +33, <a href=\"https://www.d20pfsrd.com/skills/sense-motive\">Sense Motive</a> +33, <a href=\"https://www.d20pfsrd.com/skills/spellcraft\">Spellcraft</a> +31, <a href=\"https://www.d20pfsrd.com/skills/stealth\">Stealth</a> +21, <a href=\"https://www.d20pfsrd.com/skills/survival\">Survival</a> +31<br> <b>Languages</b> Celestial, Draconic, Infernal; truespeech<br> <b>SQ</b> <a href=\"https://www.d20pfsrd.com/bestiary/rules-for-monsters/universal-monster-rules#TOC-Change-Shape-Su-\">change shape</a> (<a class=\"spell\" href=\"https://www.d20pfsrd.com/magic/all-spells/a/alter-self\">alter self</a>)</p> \\n <p class=\"divider\">SPECIAL ABILITIES</p> \\n <h4>Slaying Arrow (Su)</h4> \\n <p>A solar’s bow needs no ammunition, and automatically creates a <i>slaying arrow</i> of the solar’s choice when drawn.</p> \\n <h4>Spellcasting</h4> \\n <p>Solars can cast divine spells as 20th-level clerics. They do not gain access to domains or other cleric abilities.</p> \\n</div> \\n<p class=\"divider\">ECOLOGY</p> \\n<p><b>Environment</b> any good-aligned plane<br> <b>Organization</b> solitary or pair<br> <b>Treasure</b> double (<i>+5 full plate</i>, <i>+5 <a href=\"https://www.d20pfsrd.com/magic-items/magic-weapons#TOC-Dancing\">dancing</a> greatsword</i>, <i>+5 composite longbow</i> [+9 Str bonus])</p> \\n<p>Solars are the greatest type of angel, usually serving at the right hand of a deity or championing a cause that benefits an entire world or plane. A typical solar looks roughly human, though some physically resemble other humanoid races and a rare few have even more unusual forms. A solar stands about 9 feet tall and weighs about 500 pounds, with a strong, commanding voice that is impossible to ignore. Most have silvery or golden skin.</p> \\n<p>Blessed with an array of magical powers and the spellcasting abilities of the most powerful clerics, solars are powerful opponents capable of single-handedly slaying mighty evils. They are the greatest trackers among the celestials, the most masterful of which are said to be able to track the days-old wake of a pit fiend flying through the Astral Plane. Some take on the mantle of monster-slayers and hunt powerful fiends and undead such as devourers, night hags, night shades, and pit fiends, even making forays into the evil planes and the Negative Energy Plane to destroy these creatures at their source before they can bring harm to mortals. A few very old solars have succeeded at this task and bear slayer-names of dread creatures that are now extinct by the solar’s hand.</p> \\n<p>Solars accept roles as guardians, usually of fundamental supernatural concepts, or objects or creatures of great importance. On one world, a group of solars patrols the energy conduits of the sun, alert for any attempts by evil races such as drow to snuff out the light and bring eternal darkness. On another, seven solars stand watch over seven mystical chains keeping evil gods bound within a prison demiplane. On yet another, a solar with a flaming sword stands watch over the original mortal paradise so that no creature may enter.</p> \\n<p>In worlds where the gods cannot take physical form, they send solars to be their prophets and gurus (often pretending to be mortals), laying the foundation for cults that grow to become great religions. Likewise, in worlds oppressed by evil, solars are the secret priests who bring hope to the downtrodden, or in some cases allow themselves to be martyred so that their holy essence can explode outward to land and grow in the hearts of great heroes-to-be.</p> \\n<p>Though they are not gods, the solars’ power approaches that of demigods, and they often have an advisory role for younger or weaker deities. In some polytheistic faiths, mortals worship one or more solars as aspects or near-equal servants of the true deities—never without the deity’s approval—or consider notable solars to be offspring, consorts, lovers, or spouses of true deities (which they may be, depending on the deity).</p> \\n<p>Unlike other angels, most solars are created from an amalgam of good souls and raw divine energy to directly serve the gods, but an increasing number of these powerful angels have been “promoted” to their existence as solars from lesser creatures like planetars or devas. A few rare and powerful good souls ascend directly to the status of solar. The oldest solars predate mortality and are among the gods’ first creations. These strange solars are paragons of their kind and have little direct interaction with mortals, focusing on the protection or destruction of abstract concepts such as gravity, dark matter, entropy, and primordial evil.</p> \\n<p>Solars who spend a long time in the Material Plane, especially those in the guise of mortals, are sometimes the source of half-celestial or aasimar bloodlines in mortal families, due either to romantic dalliances or simply the mortals’ proximity to celestial energy. Actual offspring are rare, and when they occur, it is always a mortal mother that bears the child—while solars can appear as either sex, the gods have not granted them the capacity for pregnancy or motherhood. Indeed, this fundamental truth is often what drives a solar to seek out a mortal lover. Since begetting a child upon a mortal is generally frowned upon by other solars, a solar father rarely interacts directly with the fate of his lover or child, so as to avoid bringing shame upon himself or his responsibilities. Yet such solars still watch over their progeny from afar, and in times of peril, they might even be moved to intercede to aid one of their endangered children, albiet in subtle and mysterious ways.</p> \\n<p>All angels respect the power and wisdom of solars, and though these mightiest of angels usually work alone, they sometimes command multiple armies led by planetars, acting as great field marshals for massive incursions against the legions of Hell or the hordes of the Abyss.</p> \\n<div class=\"section15\"> \\n<div>Section 15: Copyright Notice</div>\\n <div> \\n  <p><a href=\"https://www.opengamingstore.com/products/pathfinder-rpg-bestiary-1-pocket-edition\" target=\"_blank\">Pathfinder RPG Bestiary</a>. Copyright 2009, Paizo Publishing, LLC; Author: Jason Bulmahn, based on material by Jonathan Tweet, Monte Cook, and Skip Williams.</p> \\n </div> \\n</div>                                                                                                <!--div style=\"clear:both\"></div-->\\n                                                                                                </div>\\n                                       </div>\\n                                       <div class=\"article-edit-link\">\\n                                                                                 </div>\\n                                    </div>\\n                                        <div class=\"col-sm-3 col-md-3 col-lg-2 col-xs-12 right-sidebar\">\\n        <div class=\"right-sidebar-videobox\" style=\"max-width:180px; overflow:hidden;\">\\n        <div class=\"ogn-npa-container videoad\" style=\"width:180px;max-width:180px;margin-left:auto;margin-right:auto;\">\\n<div id=\"nitropay-d20pfsrd-video\" class=\"ogn-npa ogn-npa-video\"></div>\\n</div><script type=\"text/javascript\">\\n    ognCreateVideoAdSpot(\"nitropay-d20pfsrd-video\");\\n</script>        </div>\\n                        \\n        <div class=\"right-sidebar-last\">\\n            <div class=\"widget widget_srdgoogleads\"><div class=\"adbox-inwidget\"><div id=\"nitropay-d20pfsrd-right-lower\" class=\"ogn-npa\"></div><script type=\"text/javascript\">\\n    ognCreateAdSpot(\"nitropay-d20pfsrd-right-lower\",\"vert\");\\n</script></div></div>            <div class=\"product-listing\" style=\"background-color:#FFF\">\\n                            </div>\\n\\n        </div>\\n\\n\\n\\n            <div id=\"right-sidebar-filler\" class=\"filler\"></div>\\n\\n    </div>\\n                                </div>\\n                            </article>\\n                                \\n                            <a class=\"scroll-to-top\" href=\"#\"><img src=\"https://www.d20pfsrd.com/wp-content/themes/srdtheme/images/Up1Blue.png\" alt=\"scroll to top\"></a>\\n\\n                                                        <div class=\"sidebar-bottom\">\\n                                    <div class=\"page-widget\">\\n                                    <div class=\"widget widget_black_studio_tinymce\"><div class=\"textwidget\"><div style=\"width:100%;display: inline-block; overflow: hidden; text-align:center\">\\n\\n<h4>Patreon Supporters</h4>\\n\\n<a style=\"text-decoration: none;\" href=\"http://www.dinglesgames.com/tools/NPCGenerator/pathfinder/\" target=\"_blank\" rel=\"noopener noreferrer\"><img src=\"https://www.d20pfsrd.com/_/images/Dingles-Games-Patreon.png\" width=\"120\" height=\"90\" border=\"0\"></a>\\n\\n<a style=\"text-decoration: none;\" href=\"http://bit.ly/FWPLAUNCH\" target=\"_blank\" rel=\"noopener noreferrer\"><img src=\"https://www.d20pfsrd.com/wp-content/uploads/sites/12/2019/02/FWP-Ad.gif\" width=\"120\" height=\"90\" border=\"0\"></a>\\n\\n<a style=\"text-decoration: none;\" href=\"https://www.patreon.com/themadcartographer\" target=\"_blank\" rel=\"noopener noreferrer\"><img src=\"https://www.d20pfsrd.com/wp-content/uploads/sites/12/2020/06/d20PFSRD-banner.jpg\" width=\"120\" height=\"90\" border=\"0\"></a>\\n\\n</div></div></div><div class=\"widget widget_rss\"><h4 class=\"widget-title\"><a class=\"rsswidget\" href=\"https://www.opengamingstore.com/collections/pathfinder/all.atom\"><img class=\"rss-widget-icon\" style=\"border:0\" width=\"14\" height=\"14\" src=\"https://www.d20pfsrd.com/wp-includes/images/rss.png\" alt=\"RSS\"></a> <a class=\"rsswidget\" href=\"https://www.opengamingstore.com/collections/all\">Latest Pathfinder products in the Open Gaming Store</a></h4><ul><li><a class=\"rsswidget\" href=\"https://www.opengamingstore.com/products/polymorph-the-martial-master\">Polymorph - The Martial Master</a></li><li><a class=\"rsswidget\" href=\"https://www.opengamingstore.com/products/s-class-characters-the-paladin\">S-Class Characters: The Paladin</a></li><li><a class=\"rsswidget\" href=\"https://www.opengamingstore.com/products/s-class-characters-time-thieves\">S-Class Characters: Time Thieves</a></li><li><a class=\"rsswidget\" href=\"https://www.opengamingstore.com/products/legendary-classes-sagitta-stellaris\">Legendary Classes: Sagitta Stellaris</a></li><li><a class=\"rsswidget\" href=\"https://www.opengamingstore.com/products/legendary-inquisitors\">Legendary Inquisitors</a></li></ul></div>                                    </div>\\n                            </div>\\n                            \\n                </section>\\n            </main>\\n        </div>\\n    </div> <!-- end row-fluid --->\\n</div> <!-- /end content -->\\n        <div class=\"span2\">\\n        </div>\\n        <div class=\"clearfix\"></div>\\n    </div> <!-- /end row -->\\n\\n <!-- /end container -->\\n<div class=\"ogn-npa-container\" style=\"width:400px;height:400px;max-width:400px;max-height:400px;margin-left:auto;margin-right:auto;\">\\n<div id=\"nitropay-d20pfsrd-video\" class=\"ogn-npa ogn-npa-video\"></div>\\n</div><script type=\"text/javascript\">\\n    //ognCreateVideoAdSpot(\"nitropay-d20pfsrd-video\");\\n</script>    <!-- Footer Nav -->\\n<aside class=\"footer-nav\" role=\"complementary\">\\n\\n<div class=\"container-fluid\">\\n<div class=\"row\">\\n    \\n    <div class=\"col-md-12\">   \\n       \\n          <div class=\"footer-widget\">\\n           <div class=\"widget widget_black_studio_tinymce\"><div class=\"textwidget\"><table style=\"width: 100%; font-size: 18px; background-color:rgb(255,255,255);\" cellpadding=\"5\">\\n<tbody>\\n<tr style=\"vertical-align: middle; background-color: #cfe2f3;\">\\n<td style=\"width: 20%; text-align: center;\" title=\"Become an Editor!\">\\n<a class=\"sites-navigation-link topLevel\" href=\"http://account.opengamingnetwork.com/manage/editrequest\" target=\"_blank\" rel=\"noopener\">Become an Editor!</a></td>\\n<td style=\"width: 20%; text-align: center;\" title=\"Support open gaming and this site, shop the Open Gaming Store!\"><a href=\"http://www.opengamingstore.com/\" target=\"_blank\">Support<br>\\nOpen Gaming</a></td>\\n<td style=\"width: 20%; text-align: center;\" title=\"Subscribe to our newsletter and get updates on all the new stuff on d20pfsrd.com!\"><a href=\"http://eepurl.com/bNgnPH\" target=\"_blank\">Subscribe to&nbsp;Our<br>\\nNewsletter</a></td>\\n<td style=\"width: 20%; text-align: center;\" title=\"If you are a publisher of Pathfinder or other gaming products, you really should get added to our store!\"><a href=\"http://www.opengamingstore.com/pages/publisher-information\" target=\"_blank\">Sell in the<br>Open Gaming Store</a></td>\\n<td style=\"width: 20%; text-align: center;\" title=\"If you\\'ve seen an issue or problem with this site please let us know!\"><a href=\"https://mantis.opengamingnetwork.com/report\" target=\"_blank\">Report a<br>\\nBug or Issue</a></td>\\n</tr>\\n</tbody>\\n</table>\\n</div><p></p></div>          </div>\\n \\t</div>            \\n    </div>\\n\\n        \\n</div>\\n<div class=\"row\">\\n \\n \\t<div class=\"col-md-4\">\\n\\t\\t  <div class=\"footer-widget\">\\n\\t   <div class=\"widget widget_black_studio_tinymce\"><div class=\"textwidget\"><div style=\"text-align:center\">\\n<p><a href=\"//www.d20pfsrd.com/new-pages\">New Pages</a> <br>\\n<a href=\"//www.d20pfsrd.com/recent-changes\">Recent Changes</a> <br>\\n<a href=\"//www.d20pfsrd.com/extras/legal/\" target=\"_blank\">Legal Information/Open Game License</a></p>\\n<p><a href=\"//www.d20pfsrd.com/extras/community-creations\">Fan Labs</a> <br>\\n<a href=\"//www.d20pfsrd.com/extras/character-sheets\">Character Sheets</a> <br>\\n<a href=\"//www.d20pfsrd.com/extras/downloads\">Downloads</a> <br> \\n</p>\\n<p><a href=\"//opengamingnetwork.com/report-problem/\" target=\"_blank\">Report a Problem</a></p>\\n</div>\\n</div><p></p></div>\\t  </div>\\n\\t \\t</div>\\n  \\n\\t<div class=\"col-md-4\">\\n\\t\\t  <div class=\"footer-widget\">\\n\\t   <div class=\"widget widget_black_studio_tinymce\"><div class=\"textwidget\"><div style=\"text-align:center\">\\n<p><a href=\"https://opengamingstore.com/\" target=\"_blank\">Shop the Open Gaming Store!</a> <br> <br>\\n<a href=\"https://opengamingnetwork.com/publishing/sell-in-the-open-gaming-store/\" target=\"_blank\">Sell at the Open Gaming Store!</a></p>\\n<p><a href=\"https://www.patreon.com/d20pfsrd?ref=d20pfsrd.com\" target=\"_blank\">Back my Patreon!</a> <br> <br>\\n<a href=\"https://opengamingnetwork.com/publishing/get-published/\" target=\"_blank\">Get Published</a>\\n</p></div>\\n</div><p></p></div>\\t  </div>\\n\\t \\t</div>\\n\\n\\t<div class=\"col-md-4\">\\n\\t\\t  <div class=\"footer-widget\">\\n\\t   <div class=\"widget widget_srdgoogleads\"><div class=\"adbox-inwidget\"><div style=\"text-align:center\">\\n<a href=\"http://www.opengamingstore.com/\" target=\"_blank\" title=\"Support Open Gaming, Shop the Open Gaming Store!\">\\n<img src=\"/wp-content/themes/srdtheme/images/open-gaming-160wide.png\">\\n</a>\\n</div></div><p></p></div><div class=\"widget widget_black_studio_tinymce\"><div class=\"textwidget\"><div style=\"text-align:center\">\\n<iframe id=\"twitter-widget-0\" scrolling=\"no\" frameborder=\"0\" allowtransparency=\"true\" allowfullscreen=\"true\" class=\"twitter-follow-button twitter-follow-button-rendered\" style=\"position: static; visibility: visible; width: 192px; height: 20px;\" title=\"Twitter Follow Button\" src=\"https://platform.twitter.com/widgets/follow_button.bbd13993eb53d3a11ac08f5e8cf9d6a4.en.html#dnt=false&amp;id=twitter-widget-0&amp;lang=en&amp;screen_name=OpenGamingStore&amp;show_count=false&amp;show_screen_name=true&amp;size=m&amp;time=1652839953736\" data-screen-name=\"OpenGamingStore\"></iframe><script async=\"\" src=\"https://platform.twitter.com/widgets.js\" charset=\"utf-8\"></script>\\n</div>\\n</div><p></p></div>\\t  </div>\\n\\t \\t</div>\\n\\n</div> <!-- /row Footer Nav -->\\n <!-- /container Footer Nav -->\\n</aside><img src=\"https://ad-delivery.net/px.gif?ch=2\" style=\"display: none !important; width: 1px !important; height: 1px !important;\"><img src=\"https://ad-delivery.net/px.gif?ch=1&amp;e=0.936739838822618\" style=\"display: none !important; width: 1px !important; height: 1px !important;\">\\n\\n<footer class=\"container-fluid main-footer\">\\n<div class=\"row\">\\n    <div class=\"col-md-1\"></div>\\n    <div class=\"col-md-12\">\\n        <div class=\"footer\" role=\"contentinfo\">\\n            <div class=\"credits-widget\">\\n                <p>Check out our other SRD sites!\\n                                <a href=\"http://www.traveller-srd.com\" target=\"_blank\">Traveller SRD</a>\\n                     |                     <a href=\"https://www.5esrd.com\" target=\"_blank\">5th Edition SRD</a>\\n                     |                     <a href=\"http://www.dungeonworldsrd.com\" target=\"_blank\">Dungeon World SRD</a>\\n                     |                     <a href=\"http://www.13thagesrd.com\" target=\"_blank\">13th Age SRD</a>\\n                     |                     <a href=\"http://www.d20herosrd.com\" target=\"_blank\">d20HeroSRD</a>\\n                     |                     <a href=\"http://www.d20pfsrd.com\" target=\"_blank\">d20PFSRD</a>\\n                     |                     <a href=\"http://gumshoesrd.opengamingnetwork.com\" target=\"_blank\">GumshoeSRD</a>\\n                     |                     <a href=\"http://fatecoresrd.opengamingnetwork.com\" target=\"_blank\">FateCoreSRD</a>\\n                     |                     <a href=\"http://www.starjammersrd.com\" target=\"_blank\">Starjammer SRD</a>\\n                     |                     <a href=\"http://articles.opengamingnetwork.com\" target=\"_blank\">OGN Articles</a>\\n                     |                     <a href=\"http://fudgesrd.opengamingnetwork.com\" target=\"_blank\">Fudge SRD</a>\\n                     |                     <a href=\"http://herebemonsters.opengamingnetwork.com\" target=\"_blank\">Here Be Monsters</a>\\n                     |                     <a href=\"http://d20animesrd.opengamingnetwork.com\" target=\"_blank\">d20 Anime SRD</a>\\n                     |                     <a href=\"http://pf2.d20pfsrd.com\" target=\"_blank\">PF2 SRD</a>\\n                     |                     <a href=\"https://4csrd.com\" target=\"_blank\">4 Color SRD</a>\\n                                    </p>\\n                <p>\\n                    <a href=\"https://updates.opengamingnetwork.com\" target=\"_blank\">OGN Updates</a>\\n                </p>\\n                                <p class=\"text-center footer-disclaimer\">\\n                    This site may earn <a href=\"//www.d20pfsrd.com/legal#affiliate-links\">affiliate commissions</a> from the links on this page.\\n                </p>\\n                <p class=\"text-center\">\\n                    OGN SRD v1.10.0 using <a href=\"http://getbootstrap.com/\">Bootstrap</a>\\n                </p>\\n                <p class=\"text-center\">\\n                    <a href=\"/new-pages\">New Pages</a> | <a href=\"/recent-changes\">Recent Changes</a> | <a href=\"//opengamingnetwork.com/privacy-policy\">Privacy Policy</a>\\n                </p>                \\n            </div>       \\n        </div>\\n    </div>\\n    <div class=\"col-md-1\"></div>    \\n</div> <!-- /end row -->\\n</footer> <!-- /end container-fluid -->\\n        <!-- Global site tag (gtag.js) - Google Analytics -->\\n        <script async=\"\" src=\"https://www.googletagmanager.com/gtag/js?id=UA-54881920-1\"></script>\\n        <script>\\n            window.dataLayer = window.dataLayer || [];\\n            function gtag(){dataLayer.push(arguments);}\\n            gtag(\\'js\\', new Date());\\n\\n            gtag(\\'config\\', \\'UA-54881920-1\\');\\n        </script>\\n        <!--- End Google Analytics --->\\n<script type=\"text/javascript\">\\n/* <![CDATA[ */\\nvar ogn_params = {\"ajaxurl\":\"\\\\/wp-admin\\\\/admin-ajax.php\"};\\n/* ]]> */\\n</script>\\n<script type=\"text/javascript\" src=\"https://www.d20pfsrd.com/wp-content/plugins/ogncustom/js/ogn.js?ver=1640695784\"></script>\\n<script type=\"text/javascript\" src=\"https://www.d20pfsrd.com/wp-content/plugins/ogncustom/js/ogn-shopify.js?ver=1603102473\"></script>\\n<script type=\"text/javascript\" src=\"https://www.d20pfsrd.com/wp-content/plugins/ogncustom/js/ogn-nav.js?ver=1551434665\"></script>\\n<script type=\"text/javascript\">\\n/* <![CDATA[ */\\nvar tocplus = {\"smooth_scroll\":\"1\",\"visibility_show\":\"show\",\"visibility_hide\":\"hide\",\"visibility_hide_by_default\":\"1\",\"width\":\"Auto\"};\\n/* ]]> */\\n</script>\\n<script type=\"text/javascript\" src=\"https://www.d20pfsrd.com/wp-content/plugins/table-of-contents-plus/front.min.js?ver=2106\"></script>\\n<script type=\"text/javascript\" src=\"https://www.d20pfsrd.com/wp-includes/js/jquery/ui/core.min.js?ver=1.11.4\"></script>\\n<script type=\"text/javascript\" src=\"https://www.d20pfsrd.com/wp-includes/js/jquery/ui/widget.min.js?ver=1.11.4\"></script>\\n<script type=\"text/javascript\" src=\"https://www.d20pfsrd.com/wp-includes/js/jquery/ui/mouse.min.js?ver=1.11.4\"></script>\\n<script type=\"text/javascript\" src=\"https://www.d20pfsrd.com/wp-includes/js/jquery/ui/effect.min.js?ver=1.11.4\"></script>\\n<script type=\"text/javascript\" src=\"https://www.d20pfsrd.com/wp-includes/js/jquery/ui/effect-blind.min.js?ver=1.11.4\"></script>\\n<script type=\"text/javascript\" src=\"https://www.d20pfsrd.com/wp-includes/js/jquery/ui/draggable.min.js?ver=1.11.4\"></script>\\n<script type=\"text/javascript\" src=\"https://www.d20pfsrd.com/wp-includes/js/jquery/ui/droppable.min.js?ver=1.11.4\"></script>\\n<script type=\"text/javascript\" src=\"https://www.d20pfsrd.com/wp-content/themes/srdtheme/js/excel-bootstrap-table-filter-bundle.min.js?ver=1612122449\"></script>\\n<script type=\"text/javascript\" src=\"https://www.d20pfsrd.com/wp-includes/js/wp-embed.min.js?ver=66f609b1f3625de892890d8022c237ee\"></script>\\n<span data-ccpa-link=\"1\"></span>\\n\\n\\n<!-- Dynamic page generated in 0.212 seconds. -->\\n<!-- Cached page generated by WP-Super-Cache on 2022-05-14 22:10:53 -->\\n\\n<!-- Compression = gzip -->\\n<!-- super cache --><div id=\"ncmp__tool\" class=\"ncmp__normalise\"><div class=\"ncmp__banner ncmp__active\">\\n    <div class=\"ncmp__banner-inner\">\\n        <div class=\"ncmp__language\">\\n            <a href=\"javascript:;\" class=\"ncmp__language-picker\">\\n                <img src=\"https://consent.nit.ro/lang.png\" alt=\"Language Picker\">\\n                <span>English</span>\\n            </a>\\n            <div class=\"ncmp__language-list\">\\n                <a href=\"javascript:;\" class=\"ncmp__language-close\">\\n                    <img src=\"https://consent.nit.ro/cancel.png\" alt=\"Close Language Picker\">\\n                </a>\\n                <ul>\\n                    \\n                    <li><a href=\"javascript:;\" onclick=\"__cmp(\\'language\\')(\\'de\\')\">Deutsch</a></li>\\n                    \\n                    <li><a href=\"javascript:;\" onclick=\"__cmp(\\'language\\')(\\'en\\')\">English</a></li>\\n                    \\n                    <li><a href=\"javascript:;\" onclick=\"__cmp(\\'language\\')(\\'es\\')\">Español</a></li>\\n                    \\n                    <li><a href=\"javascript:;\" onclick=\"__cmp(\\'language\\')(\\'fr\\')\">Français</a></li>\\n                    \\n                    <li><a href=\"javascript:;\" onclick=\"__cmp(\\'language\\')(\\'it\\')\">Italiano</a></li>\\n                    \\n                    <li><a href=\"javascript:;\" onclick=\"__cmp(\\'language\\')(\\'nl\\')\">Nederlands</a></li>\\n                    \\n                    <li><a href=\"javascript:;\" onclick=\"__cmp(\\'language\\')(\\'pl\\')\">Polski</a></li>\\n                    \\n                    <li><a href=\"javascript:;\" onclick=\"__cmp(\\'language\\')(\\'pt\\')\">Português</a></li>\\n                    \\n                    <li><a href=\"javascript:;\" onclick=\"__cmp(\\'language\\')(\\'ro\\')\">Limba română</a></li>\\n                    \\n                </ul>\\n            </div>\\n        </div>\\n\\n        <div class=\"ncmp__banner-info\">\\n            <div class=\"ncmp__banner-sections\">\\n                <div class=\"ncmp__banner-section-1\">\\n                    <h2>You control your privacy</h2>\\n                    \\n                    <p>When you use this site, we and our <a href=\"javascript:;\" onclick=\"__cmp(\\'showModal\\').navigate(\\'vendors\\')\">vendors</a> process data from you and your device. This data can include your type of browser, settings, cookies, unique identifiers, IP address, and geo location. Once dismissed, these settings can be accessed again from the link in our privacy policy or footer.</p>\\n                </div>\\n\\n                <div class=\"ncmp__banner-section-2\">\\n                    <p class=\"ncmp__banner-emphasis\">\\n                        We\\'re requesting consent to offer:\\n                        <strong>Personalised ads and content, ad and content measurement, audience insights and product development</strong>\\n                    </p>\\n\\n                    <p>\\n                        Ads and content can be personalised based on a profile. More data can be added to better personalise ads and content. Ad and content performance can be measured. Insights about audiences who saw the ads and content can be derived. Data can be used to build or improve user experience, systems and software.\\n                    </p>\\n                </div>\\n            </div>\\n        </div>\\n\\n        <div class=\"ncmp__banner-actions\">\\n            <div class=\"ncmp__banner-btns\">\\n                <button onclick=\"__cmp(\\'showModal\\')\" class=\"ncmp__btn ncmp__btn-border\">\\n                    Advanced Settings\\n                </button>\\n                <button onclick=\"__cmp(\\'save\\')\" class=\"ncmp__btn\">\\n                    Accept\\n                </button>\\n            </div>\\n\\n            <div class=\"ncmp__banner-consent\">\\n                <div class=\"ncmp__banner-branding-btn\">\\n                    <a href=\"https://nitropay.com\" target=\"_blank\" rel=\"noopener\">\\n                        <img src=\"https://consent.nit.ro/logo.png\" alt=\"NitroPay\">\\n                    </a>\\n                </div>\\n                <p>\\n                    Your consents are specific to this site &amp; device.\\n                </p>\\n            </div>\\n        </div>\\n    </div>\\n</div>\\n</div><div id=\"cookieconsent\" class=\"cookieconsent\" style=\"display: block;\"><p>This website uses cookies to provide functionality, but which are not used to track your activity. By continuing to use this site, you agree to the use of these cookies.</p><p>However, <i>in addition</i> to this, you may opt into your activity being tracked in order to help us improve our service.</p><p>For more information, please <a href=\"//opengamingnetwork.com/cookie-policy\" target=\"_new\">click here</a></p><p class=\"cookieconsentbuttons\"><button id=\"cookieconsentok\" type=\"button\">OK</button>&nbsp;<button id=\"cookieconsentno\" type=\"button\">No, thank you</button></p></div><iframe scrolling=\"no\" frameborder=\"0\" allowtransparency=\"true\" src=\"https://platform.twitter.com/widgets/widget_iframe.bbd13993eb53d3a11ac08f5e8cf9d6a4.html?origin=https%3A%2F%2Fwww.d20pfsrd.com\" title=\"Twitter settings iframe\" style=\"display: none;\"></iframe><iframe id=\"rufous-sandbox\" scrolling=\"no\" frameborder=\"0\" allowtransparency=\"true\" allowfullscreen=\"true\" style=\"position: absolute; visibility: hidden; display: none; width: 0px; height: 0px; padding: 0px; border: none;\" title=\"Twitter analytics iframe\"></iframe></body><iframe id=\"google_esf\" name=\"google_esf\" src=\"https://googleads.g.doubleclick.net/pagead/html/r20220511/r20190131/zrt_lookup.html\" style=\"display: none;\"></iframe></html>'}"
      ]
     },
     "execution_count": 4,
     "metadata": {},
     "output_type": "execute_result"
    }
   ],
   "source": [
    "dic_monstro"
   ]
  },
  {
   "cell_type": "code",
   "execution_count": null,
   "id": "c80bba53-996a-467a-979f-0fa19eb35cfe",
   "metadata": {},
   "outputs": [],
   "source": []
  },
  {
   "cell_type": "code",
   "execution_count": null,
   "id": "3bb2de2b-e9c2-49b7-bbc0-ae0c0fd6facc",
   "metadata": {},
   "outputs": [],
   "source": []
  },
  {
   "cell_type": "code",
   "execution_count": null,
   "id": "c29a0bc2-6a24-4443-93e2-1bc20c7823b7",
   "metadata": {},
   "outputs": [],
   "source": []
  },
  {
   "cell_type": "code",
   "execution_count": 97,
   "id": "d8d46ac1-bc2f-468b-8bad-3530d5fe4602",
   "metadata": {},
   "outputs": [
    {
     "data": {
      "text/plain": [
       "[' BAT SWARM CR 2',\n",
       " ' BISOn CR 4',\n",
       " ' BRAChIOSAURUS CR 10',\n",
       " ' CAUCHEMAR CR 11',\n",
       " ' CEnTIPEDE SWARM CR 4',\n",
       " ' CRAB SWARM CR 4',\n",
       " ' DIRE APE (gIgAnTOPIThECUS) CR 3',\n",
       " ' DIRE BEAR (CAVE BEAR) CR 7',\n",
       " ' DIRE BOAR (DAEODON) CR 4',\n",
       " ' DIRE CROCODILE CR 9',\n",
       " ' DIRE HYENA (HYAENODON) CR 3',\n",
       " ' DIRE LIOn (SPOTTED LIOn) CR 5',\n",
       " ' DIRE ShARk (MEgALODOn) CR 9',\n",
       " ' DIRE TIgER (SMILODOn) CR 8',\n",
       " ' DIRE WOLf CR 3',\n",
       " ' DIRE WOLVERInE CR 4',\n",
       " ' DOLPhIn CR 1/2',\n",
       " ' EAgLE CR 1/2',\n",
       " ' ELASMOSAURUS CR 7',\n",
       " ' GIANT ANT CR 2',\n",
       " ' gIAnT fRILLED LIzARD CR 5',\n",
       " ' GIANT MORAY EEL CR 5',\n",
       " ' gIAnT OCTOPUS CR 8',\n",
       " ' gIAnT SQUID CR 9',\n",
       " ' gIAnT STAg BEETLE CR 4',\n",
       " ' gREATER ShADOW CR 8',\n",
       " ' LEECH SWARM CR 4',\n",
       " ' LEOPARD CR 2',\n",
       " ' MASTODOn CR 9',\n",
       " ' nESSIAn WARhOUnD CR 9',\n",
       " ' POISOn fROg CR 1/2',\n",
       " ' POny CR 1/2',\n",
       " ' RAT SWARM CR 2',\n",
       " ' RIDIng DOg CR 1',\n",
       " ' SPIDER SWARM CR 1',\n",
       " ' STEgOSAURUS CR 7',\n",
       " ' TRICERATOPS CR 8',\n",
       " ' VEnOMOUS SnAkE CR 1',\n",
       " ' WASP SWARM CR 3',\n",
       " ' WINTER WOLF CR 5',\n",
       " ' WOOLLy RhInOCEROS CR 6',\n",
       " 'AASIMAR CR 1/2',\n",
       " 'ABOLETh CR 7',\n",
       " 'AIR ELEMEnTAL',\n",
       " 'AnIMATED OBjECT CR 3',\n",
       " 'AnkhEg CR 3',\n",
       " 'AnkyLOSAURUS CR 6',\n",
       " 'ARMY ANT SWARM CR 5',\n",
       " 'ASSASSIn VInE CR 3',\n",
       " 'ASTRAL DEVA CR 14',\n",
       " 'AUROChS CR 2',\n",
       " 'BABAU CR 6',\n",
       " 'BALOR CR 20',\n",
       " 'BARBED DEVIL (hAMATULA) CR 11',\n",
       " 'BARGHEST CR 4',\n",
       " 'BASIDIROnD CR 5',\n",
       " 'BASILISk CR 5',\n",
       " 'BEARDED DEVIL (BARBAzU) CR 5',\n",
       " 'BEBILITh CR 10',\n",
       " 'BEhIR CR 8',\n",
       " 'BLACk DRAgOn',\n",
       " 'BLACk PUDDIng CR 7',\n",
       " 'BLUE DRAGON',\n",
       " 'BOAR CR 2',\n",
       " 'BOggARD CR 2',\n",
       " 'BOnE DEVIL (OSyLUTh) CR 9',\n",
       " 'BRALAnI CR 6',\n",
       " 'BRASS DRAGON',\n",
       " 'BROnzE DRAgOn',\n",
       " 'BUgBEAR CR 2',\n",
       " 'BULETTE CR 7',\n",
       " 'CAVE fIShER CR 2',\n",
       " 'CEnTAUR CR 3',\n",
       " 'ChEETAh CR 2',\n",
       " 'ChIMERA CR 7',\n",
       " 'CHOKER CR 2',\n",
       " 'ChUUL CR 7',\n",
       " 'CLAy gOLEM CR 10',\n",
       " 'CLOAkER CR 5',\n",
       " 'CLOUD gIAnT CR 11',\n",
       " 'COCkATRICE CR 3',\n",
       " 'COnSTRICTOR SnAkE CR 2',\n",
       " 'COPPER DRAgOn',\n",
       " 'COUATL CR 10',\n",
       " 'CRAG LINNORM CR 14',\n",
       " 'CROCODILE CR 2',\n",
       " 'CyCLOPS CR 5',\n",
       " 'DARk CREEPER CR 2',\n",
       " 'DARk nAgA CR 8',\n",
       " 'DARk STALkER CR 4',\n",
       " 'DARKMANTLE CR 1',\n",
       " 'DEInOnyChUS CR 3',\n",
       " 'DERRO CR 3',\n",
       " 'DEVOURER CR 11',\n",
       " 'DIRE BAT CR 2',\n",
       " 'DIRE RAT CR 1/3',\n",
       " 'DjInnI CR 5',\n",
       " 'DOg CR 1/3',\n",
       " 'DOPPELgAngER CR 3',\n",
       " 'DRACOLISk CR 7',\n",
       " 'DRAgOn TURTLE CR 9',\n",
       " 'DRETCh CR 2',\n",
       " 'DRIDER CR 7',\n",
       " 'DROW CR 1/3',\n",
       " 'DRyAD CR 3',\n",
       " 'DUERgAR CR 1/3',\n",
       " 'EARTh ELEMEnTAL',\n",
       " 'EfREETI CR 8',\n",
       " 'ELECTRIC EEL CR 2',\n",
       " 'ELEPhAnT CR 7',\n",
       " 'ERInyES CR 8',\n",
       " 'ETTERCAP CR 3',\n",
       " 'ETTIn CR 6',\n",
       " 'fIRE BEETLE CR 1/3',\n",
       " 'FIRE ELEMENTAL',\n",
       " 'fIRE gIAnT CR 10',\n",
       " 'fLESh gOLEM CR 7',\n",
       " 'fROghEMOTh CR 13',\n",
       " 'FROST GIANT CR 9',\n",
       " 'gARgOyLE CR 4',\n",
       " 'gELATInOUS CUBE CR 3',\n",
       " 'ghAELE CR 13',\n",
       " 'ghOST CR 7',\n",
       " 'ghOUL CR 1',\n",
       " 'gIAnT CEnTIPEDE CR 1/2',\n",
       " 'gIAnT CRAB CR 2',\n",
       " 'gIAnT EAgLE CR 3',\n",
       " 'gIAnT fLyTRAP CR 10',\n",
       " 'gIAnT fROg CR 1',\n",
       " 'GIANT LEECH CR 2',\n",
       " 'gIAnT MAnTIS CR 3',\n",
       " 'GIANT SCORPION CR 3',\n",
       " 'gIAnT SLUg CR 8',\n",
       " 'GIANT SPIDER CR 1',\n",
       " 'GIANT WASP CR 3',\n",
       " 'GIBBERING MOUTHER CR 5',\n",
       " 'GIRALLON CR 6',\n",
       " 'gLABREzU CR 13',\n",
       " 'gnOLL CR 1',\n",
       " 'gOBLIn CR 1/3',\n",
       " 'gOBLIn DOg CR 1',\n",
       " 'GOLD DRAGON',\n",
       " 'gORgOn CR 8',\n",
       " 'gORILLA CR 2',\n",
       " 'gRAy OOzE CR 4',\n",
       " 'gREEn DRAgOn',\n",
       " 'gREEn hAg CR 5',\n",
       " 'gRIffOn CR 4',\n",
       " 'gRIzzLy BEAR CR 4',\n",
       " 'GUARDIAN NAGA CR 10',\n",
       " 'hALf-CELESTIAL UnICORn CR 4',\n",
       " 'hALf-fIEnD MInOTAUR CR 6',\n",
       " 'hARPy CR 4',\n",
       " 'hELL hOUnD CR 3',\n",
       " 'hEzROU CR 11',\n",
       " 'hILL gIAnT CR 7',\n",
       " 'HOBGOBLIN CR 1/2',\n",
       " 'hOMUnCULUS CR 1',\n",
       " 'hORnED DEVIL (CORnUgOn) CR 16',\n",
       " 'hORSE CR 1',\n",
       " 'hOUnD ARChOn CR 4',\n",
       " 'hUMAn SkELETOn CR 1/3',\n",
       " 'hUMAn zOMBIE CR 1/2',\n",
       " 'hyDRA CR 4',\n",
       " 'HYENA CR 1',\n",
       " 'ICE DEVIL (gELUgOn) CR 13',\n",
       " 'ICE gOLEM CR 5',\n",
       " 'ICE LINNORM CR 17',\n",
       " 'IMP CR 2',\n",
       " 'InTELLECT DEVOURER CR 8',\n",
       " 'InVISIBLE STALkER CR 7',\n",
       " 'IRON COBRA CR 2',\n",
       " 'IROn gOLEM CR 13',\n",
       " 'jAnnI CR 4',\n",
       " 'KOBOLD CR 1/4',\n",
       " 'kRAkEn CR 18',\n",
       " 'kyTOn CR 6',\n",
       " 'LAMIA CR 6',\n",
       " 'LAnTERn ARChOn CR 2',\n",
       " 'LEMURE CR 1',\n",
       " 'LICH CR 12',\n",
       " 'LILLEnD CR 7',\n",
       " 'LIOn CR 3',\n",
       " 'LIzARDfOLk CR 1',\n",
       " 'MAnTICORE CR 5',\n",
       " 'MARID CR 9',\n",
       " 'MARILITH CR 17',\n",
       " 'MEDUSA CR 7',\n",
       " 'MEPhIT CR 3',\n",
       " 'MERfOLk CR 1/3',\n",
       " 'MIMIC CR 4',\n",
       " 'MInOTAUR CR 4',\n",
       " 'MITE CR 1/4',\n",
       " 'MOHRG CR 8',\n",
       " 'MOnITOR LIzARD CR 2',\n",
       " 'MORLOCk CR 2',\n",
       " 'MUMMy CR 5',\n",
       " 'NABASU CR 8',\n",
       " 'nALfEShnEE CR 14',\n",
       " 'nEOThELID CR 15',\n",
       " 'nIghT hAg CR 9',\n",
       " 'NIGHTMARE CR 5',\n",
       " 'nyMPh CR 7',\n",
       " 'OChRE jELLy CR 5',\n",
       " 'OCTOPUS CR 1',\n",
       " 'OgRE CR 3',\n",
       " 'OgRE MAgE CR 8',\n",
       " 'ORC CR 1/3',\n",
       " 'ORCA CR 5',\n",
       " 'OTyUgh CR 4',\n",
       " 'OWLBEAR CR 4',\n",
       " 'PEgASUS CR 3',\n",
       " 'PhASE SPIDER CR 5',\n",
       " 'PhOEnIX CR 15',\n",
       " 'PIT fIEnD CR 20',\n",
       " 'PIXIE CR 4',\n",
       " 'PLAnETAR CR 16',\n",
       " 'PSEUDODRAgOn CR 1',\n",
       " 'PTERAnODOn CR 3',\n",
       " 'PURPLE WORM CR 12',\n",
       " 'QUASIT CR 2',\n",
       " 'RAkShASA CR 10',\n",
       " 'RED DRAgOn',\n",
       " 'REMORhAz CR 7',\n",
       " 'RETRIEVER CR 11',\n",
       " 'RhInOCEROS CR 4',\n",
       " 'ROC CR 9',\n",
       " 'ROPER CR 12',\n",
       " 'RUST MOnSTER CR 3',\n",
       " 'SAhUAgIn CR 2',\n",
       " 'SALAMAnDER CR 6',\n",
       " 'SATyR CR 4',\n",
       " 'SEA hAg CR 4',\n",
       " 'SEA SERPEnT CR 12',\n",
       " 'ShADOW CR 3',\n",
       " 'SHADOW DEMON CR 7',\n",
       " 'ShAITAn CR 7',\n",
       " 'ShAMBLIng MOUnD CR 6',\n",
       " 'ShARk CR 2',\n",
       " 'ShOCkER LIzARD CR 2',\n",
       " 'SHOGGOTH CR 19',\n",
       " 'SILVER DRAgOn',\n",
       " 'SkELETAL ChAMPIOn CR 2',\n",
       " 'SkUM (ULAT-kInI) CR 2',\n",
       " 'SOLAR CR 23',\n",
       " 'SPECTRE CR 7',\n",
       " 'SPhInX (gynOSPhInX) CR 8',\n",
       " 'SPIRIT nAgA CR 9',\n",
       " 'SQUID CR 1',\n",
       " 'STIRgE CR 1/2',\n",
       " 'STOnE gIAnT CR 8',\n",
       " 'STOnE gOLEM CR 11',\n",
       " 'STORM gIAnT CR 13',\n",
       " 'SUCCUBUS CR 7',\n",
       " 'SVIRfnEBLIn CR 1',\n",
       " 'TARn LInnORM CR 20',\n",
       " 'TARRASQUE CR 25',\n",
       " 'TEngU CR 1/2',\n",
       " 'TIEfLIng CR 1/2',\n",
       " 'TIgER CR 4',\n",
       " 'TREAnT CR 8',\n",
       " 'TROgLODyTE CR 1',\n",
       " 'TROLL CR 5',\n",
       " 'TRUMPET ARChOn CR 14',\n",
       " 'TyRAnnOSAURUS CR 9',\n",
       " 'UnICORn CR 3',\n",
       " 'VAMPIRE CR 9',\n",
       " 'VARgOUILLE CR 2',\n",
       " 'VEgEPygMy CR 1/2',\n",
       " 'VIOLET fUngUS CR 3',\n",
       " 'VROCK CR 9',\n",
       " 'WATER ELEMENTAL',\n",
       " 'WERERAT (hUMAn fORM) CR 2',\n",
       " 'WEREWOLf CR 2',\n",
       " 'WhITE DRAgOn',\n",
       " 'WIghT CR 3',\n",
       " 'WILL-O’-WISP CR 6',\n",
       " 'WOLf CR 1',\n",
       " 'WOLVERInE CR 2',\n",
       " 'WOOD gOLEM CR 6',\n",
       " 'WORG CR 2',\n",
       " 'WRAITH CR 5',\n",
       " 'WyVERn CR 6',\n",
       " 'XILL CR 6',\n",
       " 'XORN CR 6',\n",
       " 'yELLOW MUSk CREEPER CR 2',\n",
       " 'yETh hOUnD CR 3',\n",
       " 'YETI CR 4']"
      ]
     },
     "execution_count": 97,
     "metadata": {},
     "output_type": "execute_result"
    }
   ],
   "source": [
    "list_arq_b1 = os.listdir('img_name_b1') # pegando o nome de todos os arquivos da pasta em questão. \n",
    "\n",
    "list_img_b1 = [file.replace('_','/').replace('.jpg','') for file in list_arq_b1 if file.endswith('.jpg')] # tranfomando os os nomes da arquivo em uma lista. \n",
    "\n",
    "list_img_b1\n"
   ]
  },
  {
   "cell_type": "code",
   "execution_count": null,
   "id": "a852a21a-fde3-48b7-9aeb-405e365dc05d",
   "metadata": {},
   "outputs": [],
   "source": []
  }
 ],
 "metadata": {
  "kernelspec": {
   "display_name": "Python 3 (ipykernel)",
   "language": "python",
   "name": "python3"
  },
  "language_info": {
   "codemirror_mode": {
    "name": "ipython",
    "version": 3
   },
   "file_extension": ".py",
   "mimetype": "text/x-python",
   "name": "python",
   "nbconvert_exporter": "python",
   "pygments_lexer": "ipython3",
   "version": "3.9.7"
  }
 },
 "nbformat": 4,
 "nbformat_minor": 5
}
