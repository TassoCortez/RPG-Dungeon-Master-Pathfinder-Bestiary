{
 "cells": [
  {
   "cell_type": "code",
   "execution_count": 3,
   "id": "47f19310-b7db-48cc-b43e-674fb414af2d",
   "metadata": {},
   "outputs": [],
   "source": [
    "import os\n",
    "import pandas as pd\n",
    "from selenium import webdriver\n",
    "from selenium.webdriver.chrome.service import Service\n",
    "from selenium.webdriver.common.keys import Keys\n",
    "import regex as re"
   ]
  },
  {
   "cell_type": "code",
   "execution_count": 20,
   "id": "88b7581f-fe40-4860-8c9b-d1cb4bfd6786",
   "metadata": {},
   "outputs": [],
   "source": [
    "def inf_monstro_pg (argumento):\n",
    "\n",
    "    '''Funcao recebe o nome do monstro como deve ser produrado no site do d20pfsrd, faz a procura, entra no primeiro link pra procura e extrai as inomações '''\n",
    "\n",
    "    ser = Service()\n",
    "    \n",
    "    driver = webdriver.Chrome(service=ser) # abrindo nova pagina da internet plo crome\n",
    "    \n",
    "    url = \"https://www.google.com\" # salvando o site do d20 como a variavel URL\n",
    "    \n",
    "    driver.maximize_window() # colcoa o crome em full screen, o site do d20 fica difernte se estiver em tamanho pequeno\n",
    "    \n",
    "    driver.get(url) # entrando no site do google \n",
    "    \n",
    "    procura_google = driver.find_element('xpath','/html/body/div[1]/div[3]/form/div[1]/div[1]/div[1]/div/div[2]/input') # selecionando o campo de procura do google\n",
    "    \n",
    "    procura_google.send_keys('d20pfsrd '+argumento+ Keys.RETURN) # escrevendo na procura, depois mudar este nome apra os elementos da lista list_img_b1\n",
    "    \n",
    "    pg_monstro = driver.find_element('xpath','//*[contains(concat( \" \", @class, \" \" ), concat( \" \", \"DKV0Md\", \" \" ))]').click() # clicando no primeiro link da procura\n",
    "    \n",
    "    \n",
    "    try:\n",
    "        if len((driver.find_element('xpath', '//*[contains(concat( \" \", @class, \" \" ), concat( \" \", \"statblock\", \" \" ))]')).text) > 300:  # fazendo o if pois as infomações dos monstros pordem estas em 2 formatos diferentes \n",
    "            inf = driver.find_element('xpath', '//*[contains(concat( \" \", @class, \" \" ), concat( \" \", \"statblock\", \" \" ))]') # todas as infomaçoes do monstro, mudei pois o de cina nao estava funcionando para todos\n",
    "            inf.text\n",
    "    \n",
    "        else: \n",
    "            inf = driver.find_element('xpath', '//*[contains(concat( \" \", @class, \" \" ), concat( \" \", \"article-content\", \" \" ))]') # todas as infomaçoes do monstro, mudei pois o de cina nao estava funcionando para todos\n",
    "            inf.text\n",
    "    \n",
    "    except:\n",
    "            inf = driver.find_element('xpath', '//*[contains(concat( \" \", @class, \" \" ), concat( \" \", \"article-content\", \" \" ))]') # todas as infomaçoes do monstro, mudei pois o de cina nao estava funcionando para todos\n",
    "            inf.text\n",
    "            print('pegou do except o codigo')\n",
    "    \n",
    "    \n",
    "    try:\n",
    "        name = re.findall('.*[^\\nCR]',inf.text)\n",
    "        name = name[0]\n",
    "        \n",
    "    except:\n",
    "        name = []\n",
    "        \n",
    "    try:        \n",
    "        cr = re.findall('CR .*',inf.text) # rodando o regex para pegar cada uam dos campos\n",
    "        \n",
    "    except:\n",
    "        cr = []\n",
    "        \n",
    "    try:        \n",
    "        xp = re.findall('XP .*',inf.text) # rodando o regex para pegar cada uam dos campos\n",
    "        \n",
    "    except:\n",
    "        xp = []\n",
    "        \n",
    "        \n",
    "    try:\n",
    "        alinhamento = re.findall('N[GE ]|L[GE ]',inf.text)\n",
    "        alinhamento = alinhamento[0]\n",
    "        \n",
    "    except:\n",
    "        \n",
    "        alinhamento = []\n",
    "        \n",
    "        \n",
    "    try:     \n",
    "        tamanho = re.findall('Fine|Diminutive|Tiny|Small|Medium|Large|Huge|Gargantuan|Colossal',inf.text)\n",
    "        tamanho = tamanho[0]  # so para garantir que estou pegando o primeiro\n",
    "        \n",
    "    except:\n",
    "        tamanho = []\n",
    "        \n",
    "        \n",
    "    try:    \n",
    "        iniciativa = re.findall('Init .\\d',inf.text) # iniciativa\n",
    "        \n",
    "    except:    \n",
    "        iniciativa = []\n",
    "        \n",
    "    try:\n",
    "        senses = re.findall('Senses .*;',inf.text) # senses parando no ;, em teoria sempre tem o ; pois o proximo valor e perception\n",
    "        \n",
    "    except:     \n",
    "        \n",
    "         senses = []\n",
    "            \n",
    "    try:              \n",
    "        perception = re.findall('Perception .\\d',inf.text)\n",
    "        perception = perception[0]\n",
    "        \n",
    "    except:\n",
    "        perception = []\n",
    "        \n",
    "    try:        \n",
    "        atk = re.findall('Melee.*',inf.text)\n",
    "\n",
    "    except:\n",
    "         atk = []\n",
    "        \n",
    "    try:      \n",
    "        defence = re.findall('AC.*',inf.text)\n",
    "        \n",
    "    except:\n",
    "        defence = []\n",
    "        \n",
    "    try:     \n",
    "        hp = re.findall('hp \\d*',inf.text)\n",
    "        \n",
    "    except:\n",
    "        hp = []\n",
    "        \n",
    "    try:        \n",
    "        saves = re.findall('Fort .*',inf.text) # pegando todos os saves inicinaod em Fort e acamando no \\n\n",
    "        \n",
    "    except:\n",
    "        saves = []\n",
    "        \n",
    "    try:        \n",
    "        dr = re.findall('DR .*/\\w*',inf.text)\n",
    "        \n",
    "    except: \n",
    "        dr = []\n",
    "        \n",
    "    try:        \n",
    "        immune = re.findall('Immune .*?;',inf.text)\n",
    "        \n",
    "    except:\n",
    "        immune = []\n",
    "        \n",
    "    try:        \n",
    "        resist = re.findall('Resist .*?;',inf.text)\n",
    "        \n",
    "    except:\n",
    "        \n",
    "        resist = []\n",
    "        \n",
    "    try:    \n",
    "        sr = re.findall('SR \\d{1,2}',inf.text)  # sei que tem no maximo 2 digitos.\n",
    "        \n",
    "    except:\n",
    "        sr = []\n",
    "        \n",
    "    try:  \n",
    "        speed = re.findall('Speed.*',inf.text)\n",
    "        \n",
    "    except: \n",
    "        speed = []\n",
    "        \n",
    "    try:        \n",
    "        cmb = re.findall('CMB .\\d*',inf.text)\n",
    "        \n",
    "    except:\n",
    "        cmb = []\n",
    "        \n",
    "    try:        \n",
    "        cmd = re.findall('CMD .\\d*',inf.text)\n",
    "        \n",
    "    except:\n",
    "        cmd = []\n",
    "        \n",
    "    try:        \n",
    "        spell_like_ability = re.findall('Spell-Like(.*)Spells Prepared|STATISTICS',inf.text,flags = re.S)\n",
    "        \n",
    "    except:\n",
    "        spell_like_ability = []\n",
    "        \n",
    "    try:        \n",
    "        spells = re.findall('Spells.*[^\\n]',inf.text)\n",
    "        \n",
    "    except:\n",
    "        spells = []\n",
    "        \n",
    "    try:\n",
    "        spell_9th = re.findall('9th.*',inf.text)\n",
    "        \n",
    "    except:\n",
    "        spell_9th = []\n",
    "        \n",
    "    try:        \n",
    "        spell_8th = re.findall('8th.*',inf.text)\n",
    "        \n",
    "    except:\n",
    "        spell_8th = []\n",
    "        \n",
    "    try:        \n",
    "        spell_7th = re.findall('7th.*',inf.text)\n",
    "        \n",
    "    except:\n",
    "        spell_7th = []\n",
    "        \n",
    "    try:        \n",
    "        spell_6th = re.findall('6th.*',inf.text)\n",
    "        \n",
    "    except:\n",
    "        spell_6th = []\n",
    "        \n",
    "    try:        \n",
    "        spell_5th = re.findall('5th.*',inf.text)\n",
    "        \n",
    "    except:\n",
    "        spell_5th = []\n",
    "        \n",
    "    try:\n",
    "        spell_4th = re.findall('4th.*',inf.text)\n",
    "        \n",
    "    except:\n",
    "        spell_4th = []\n",
    "        \n",
    "    try:        \n",
    "        spell_3th = re.findall('3rd.*',inf.text)\n",
    "        \n",
    "    except:\n",
    "        spell_3th = []\n",
    "        \n",
    "    try:        \n",
    "        spell_2th = re.findall('2nd.*',inf.text)\n",
    "        \n",
    "    except:\n",
    "        spell_2th = []\n",
    "        \n",
    "    try:        \n",
    "        spell_1th = re.findall('1st.*',inf.text)\n",
    "        \n",
    "    except:\n",
    "        spell_1th = []\n",
    "        \n",
    "    pagina = driver.page_source\n",
    "        \n",
    "    dic_monstro = {'Name':name,'CR':cr,'Alm':alinhamento,'Size':tamanho,'HP':hp,'Atk':atk,'Def':defence,'DR':dr,'Saves':saves,'Immune':immune,'Res':resist,'SR':sr,'Spl.Like.Abl':spell_like_ability,'Spells':spells,'lvl_9':spell_9th,'lvl_8':spell_8th,'lvl_7':spell_7th,'lvl_6':spell_6th,'lvl_5':spell_5th,'lvl_4':spell_4th,'lvl_3':spell_3th,'lvl_2':spell_2th,'lvl_1':spell_1th,'Inic':iniciativa,'Spd':speed,'Perc':perception,'Senses':senses,'CMB':cmb,'CMD':cmd,'XP':xp,'Link':pagina}\n",
    "\n",
    "        \n",
    "    driver.close() # fechando a janela\n",
    "        \n",
    "    return dic_monstro\n",
    "        "
   ]
  },
  {
   "cell_type": "code",
   "execution_count": 21,
   "id": "62b32694-a55d-4d54-b202-f63a87f78f42",
   "metadata": {},
   "outputs": [],
   "source": [
    "list_arq_b1 = os.listdir('img_name_b1') # pegando o nome de todos os arquivos da pasta em questão. \n",
    "\n",
    "list_img_b1 = [file.replace('_','/').replace('.jpg','') for file in list_arq_b1 if file.endswith('.jpg')] # tranfomando os os nomes dos arquivos, apenas os que acabam com .jpg em uma lista. "
   ]
  },
  {
   "cell_type": "code",
   "execution_count": null,
   "id": "eb1a5e7f-bad5-491a-b677-e30db2d1a6a5",
   "metadata": {},
   "outputs": [
    {
     "name": "stdout",
     "output_type": "stream",
     "text": [
      " BAT SWARM CR 2\n",
      " BISOn CR 4\n",
      " BRAChIOSAURUS CR 10\n",
      " CAUCHEMAR CR 11\n",
      " CEnTIPEDE SWARM CR 4\n",
      " CRAB SWARM CR 4\n",
      "pegou do except o codigo\n",
      " DIRE APE (gIgAnTOPIThECUS) CR 3\n",
      " DIRE BEAR (CAVE BEAR) CR 7\n",
      " DIRE BOAR (DAEODON) CR 4\n",
      " DIRE CROCODILE CR 9\n",
      " DIRE HYENA (HYAENODON) CR 3\n",
      " DIRE LIOn (SPOTTED LIOn) CR 5\n",
      "pegou do except o codigo\n",
      " DIRE ShARk (MEgALODOn) CR 9\n",
      " DIRE TIgER (SMILODOn) CR 8\n",
      " DIRE WOLf CR 3\n",
      " DIRE WOLVERInE CR 4\n",
      " DOLPhIn CR 1/2\n",
      " EAgLE CR 1/2\n",
      " ELASMOSAURUS CR 7\n",
      " GIANT ANT CR 2\n",
      "pegou do except o codigo\n",
      " gIAnT fRILLED LIzARD CR 5\n",
      " GIANT MORAY EEL CR 5\n",
      " gIAnT OCTOPUS CR 8\n",
      " gIAnT SQUID CR 9\n",
      " gIAnT STAg BEETLE CR 4\n",
      "pegou do except o codigo\n",
      " gREATER ShADOW CR 8\n",
      " LEECH SWARM CR 4\n",
      " LEOPARD CR 2\n",
      " MASTODOn CR 9\n",
      " nESSIAn WARhOUnD CR 9\n",
      " POISOn fROg CR 1/2\n",
      " POny CR 1/2\n",
      " RAT SWARM CR 2\n",
      " RIDIng DOg CR 1\n",
      " SPIDER SWARM CR 1\n",
      " STEgOSAURUS CR 7\n",
      " TRICERATOPS CR 8\n",
      " VEnOMOUS SnAkE CR 1\n",
      " WASP SWARM CR 3\n",
      " WINTER WOLF CR 5\n",
      " WOOLLy RhInOCEROS CR 6\n",
      "pegou do except o codigo\n",
      "AASIMAR CR 1/2\n",
      "pegou do except o codigo\n",
      "ABOLETh CR 7\n",
      "AnIMATED OBjECT CR 3\n",
      "pegou do except o codigo\n",
      "AnkhEg CR 3\n",
      "AnkyLOSAURUS CR 6\n",
      "pegou do except o codigo\n",
      "ARMY ANT SWARM CR 5\n",
      "ASSASSIn VInE CR 3\n",
      "ASTRAL DEVA CR 14\n",
      "AUROChS CR 2\n",
      "BABAU CR 6\n",
      "pegou do except o codigo\n",
      "BALOR CR 20\n",
      "BARBED DEVIL (hAMATULA) CR 11\n",
      "BARGHEST CR 4\n",
      "pegou do except o codigo\n",
      "BASIDIROnD CR 5\n",
      "BASILISk CR 5\n",
      "BEARDED DEVIL (BARBAzU) CR 5\n",
      "BEBILITh CR 10\n",
      "BEhIR CR 8\n",
      "BLACk PUDDIng CR 7\n",
      "BOAR CR 2\n",
      "BOggARD CR 2\n",
      "BOnE DEVIL (OSyLUTh) CR 9\n",
      "pegou do except o codigo\n",
      "BRALAnI CR 6\n",
      "BUgBEAR CR 2\n",
      "BULETTE CR 7\n",
      "pegou do except o codigo\n",
      "CAVE fIShER CR 2\n",
      "CEnTAUR CR 3\n",
      "ChEETAh CR 2\n",
      "ChIMERA CR 7\n",
      "CHOKER CR 2\n",
      "ChUUL CR 7\n",
      "CLAy gOLEM CR 10\n",
      "CLOAkER CR 5\n",
      "pegou do except o codigo\n",
      "CLOUD gIAnT CR 11\n",
      "COCkATRICE CR 3\n",
      "COnSTRICTOR SnAkE CR 2\n",
      "COUATL CR 10\n",
      "CRAG LINNORM CR 14\n",
      "CROCODILE CR 2\n",
      "CyCLOPS CR 5\n",
      "DARk CREEPER CR 2\n",
      "DARk nAgA CR 8\n",
      "DARk STALkER CR 4\n",
      "DARKMANTLE CR 1\n",
      "DEInOnyChUS CR 3\n"
     ]
    }
   ],
   "source": [
    "dic_mont_list = []\n",
    "\n",
    "\n",
    "for item in list_img_b1: # rodando a função para cada um dos itens da lista list_img_b1\n",
    "    print(item)\n",
    "    inf_monst = inf_monstro_pg(item)\n",
    "    dic_mont_list.append(inf_monst)\n"
   ]
  },
  {
   "cell_type": "code",
   "execution_count": 15,
   "id": "46ad8343-efac-4020-8efe-763624fd26ca",
   "metadata": {},
   "outputs": [],
   "source": [
    "df = pd.DataFrame(dic_mont_list) # transformando o dicionario da função em DF\n",
    "\n",
    "# df.to_csv('df_B1.csv', sep='±' , index = False) # salvando o DF em um arquivo com o ± como separador\n"
   ]
  },
  {
   "cell_type": "code",
   "execution_count": 17,
   "id": "52d07f17-12c5-44fc-978e-4b1d0d4da32d",
   "metadata": {},
   "outputs": [],
   "source": [
    "df.drop(columns = 'Link').to_csv('df_b1_sem_D_E_tableau.csv', sep = '#',index = False)  # salvando o DF sem a coluna de links, pois ela estava dando pau no tableau"
   ]
  },
  {
   "cell_type": "markdown",
   "id": "2f3e4b1e-1a69-4a8d-a591-0b1483a28006",
   "metadata": {},
   "source": [
    "# Desenvolvimento da função"
   ]
  },
  {
   "cell_type": "code",
   "execution_count": 4,
   "id": "343dccfa-f61a-4430-80e4-17aa9e3a507d",
   "metadata": {},
   "outputs": [],
   "source": [
    "ser = Service()"
   ]
  },
  {
   "cell_type": "code",
   "execution_count": 12,
   "id": "a2e1bc9d-f37c-469c-a91a-835fd867a4da",
   "metadata": {},
   "outputs": [],
   "source": [
    "driver = webdriver.Chrome(service=ser) # abrindo nova pagina da internet plo crome\n",
    "    \n",
    "url = \"https://www.google.com\" # salvando o site do google como a variavel URL\n"
   ]
  },
  {
   "cell_type": "code",
   "execution_count": 13,
   "id": "658f27dc-0972-4096-870e-9b1e4e77c278",
   "metadata": {},
   "outputs": [],
   "source": [
    "driver.maximize_window() # colocando o crome em full screen, o site do d20 fica difernte se estiver em tamanho pequeno\n",
    "\n",
    "driver.get(url) # entrando no site do google "
   ]
  },
  {
   "cell_type": "code",
   "execution_count": 14,
   "id": "5000b097-1bb3-49a9-b2eb-13240a47de4c",
   "metadata": {},
   "outputs": [],
   "source": [
    "procura_google = driver.find_element('xpath','/html/body/div[1]/div[3]/form/div[1]/div[1]/div[1]/div/div[2]/input') # selecionando o campo de procura do google"
   ]
  },
  {
   "cell_type": "code",
   "execution_count": 15,
   "id": "47f0d357-0bf1-4a86-84f7-e937d6642a8c",
   "metadata": {},
   "outputs": [],
   "source": [
    "procura_google.send_keys('d20pfsrd '+'Ed20pfsrd DIRE APE (gIgAnTOPIThECUS) CR 3'+ Keys.RETURN) # escrevendo na procura, depois mudar este nome apra os elementos da lista list_img_b1\n",
    "   "
   ]
  },
  {
   "cell_type": "code",
   "execution_count": 16,
   "id": "c57fcbd1-4c54-4f56-9131-3ed6de53b963",
   "metadata": {},
   "outputs": [],
   "source": [
    "pg_monstro = driver.find_element('xpath','//*[contains(concat( \" \", @class, \" \" ), concat( \" \", \"DKV0Md\", \" \" ))]').click() # clicando no primeiro link da procura\n",
    "\n"
   ]
  },
  {
   "cell_type": "code",
   "execution_count": 17,
   "id": "d072ddc0-d77b-49ae-b6a9-96480b31d7c3",
   "metadata": {},
   "outputs": [
    {
     "data": {
      "text/plain": [
       "'Sharp teeth fill this large, feral ape’s mouth, and its long, muscular arms stretch to the ground, ending in wickedly curved claws.\\nDire Ape (Gigantopithecus)\\nCR 3\\nXP 800\\nN Large animal\\nInit +2; Senses low-light vision, scent; Perception +8\\nDEFENSE\\nAC 15, touch 11, flat-footed 13; (+2 Dex, +4 natural, –1 size)\\nhp 30 (4d8+12)\\nFort +7, Ref +6, Will +4\\nOFFENSE\\nSpeed 30 ft., climb 30 ft.\\nMelee bite +6 (1d6+4), 2 claws +6 (1d4+4)\\nSpace 10 ft.; Reach 10 ft.\\nSpecial Attacks rend (2 claws, 1d4+6)\\nSTATISTICS\\nStr 19, Dex 15, Con 16, Int 2, Wis 12, Cha 7\\nBase Atk +3; CMB +8; CMD 20\\nFeats Iron Will, Skill Focus (Perception)\\nSkills Acrobatics +6, Climb +16, Perception +8, Stealth +2\\nImage courtesy Wikipedia.\\nECOLOGY\\nEnvironment warm forests\\nOrganization solitary, pair, or troop (3–6)\\nTreasure incidental\\nKnown to many scholars as the gigantopithecus, the dire ape is a much more dangerous and bestial creature than the relatively peaceful gorilla. An adult male dire ape stands 9 feet tall and weighs 1,200 pounds. The dire ape attacks anything that intrudes on its territory, including other dire apes not of its troop, and does not break off the attack until the trespasser is dead or runs off.\\nA dire ape makes no displays of toughness or warnings before it attacks—it simply leaps into action with little or no provocation, tearing at its opponents with claws and teeth. If a dire ape is stymied by a heavily armored foe, it attempts to grapple its foe, pin it to the ground, and rend it.'"
      ]
     },
     "execution_count": 17,
     "metadata": {},
     "output_type": "execute_result"
    }
   ],
   "source": [
    "inf = driver.find_element('xpath', '//*[contains(concat( \" \", @class, \" \" ), concat( \" \", \"article-content\", \" \" ))]') # todas as infomaçoes do monstro, mudei pois o de cina nao estava funcionando para todos\n",
    "\n",
    "                                #  alguns montrons as infomações sao um pouco diferentes   //*[contains(concat( \" \", @class, \" \" ), concat( \" \", \"article-content\", \" \" ))]\n",
    "\n",
    "x =inf.text\n",
    "\n",
    "x"
   ]
  },
  {
   "cell_type": "code",
   "execution_count": 88,
   "id": "21c04a53-aaab-4118-b53b-a224e3fd1c94",
   "metadata": {},
   "outputs": [
    {
     "data": {
      "text/plain": [
       "2860"
      ]
     },
     "execution_count": 88,
     "metadata": {},
     "output_type": "execute_result"
    }
   ],
   "source": [
    "len (driver.find_element('xpath', '//*[contains(concat( \" \", @class, \" \" ), concat( \" \", \"article-content\", \" \" ))]').text)"
   ]
  },
  {
   "cell_type": "code",
   "execution_count": 114,
   "id": "42ba97d4-d348-442a-b2bb-412d8440ea22",
   "metadata": {},
   "outputs": [
    {
     "data": {
      "text/plain": [
       "'Coiling around several human skeletons, this wet green plant’s sickly flowers smoke with a nasty yellow vapor.'"
      ]
     },
     "execution_count": 114,
     "metadata": {},
     "output_type": "execute_result"
    }
   ],
   "source": [
    "name = re.findall('.*[^\\nCR]',inf.text)\n",
    "name = name[0]\n",
    "\n",
    "name"
   ]
  },
  {
   "cell_type": "code",
   "execution_count": null,
   "id": "cdfb199c-ba0b-430c-899a-5dae8e07cebb",
   "metadata": {},
   "outputs": [],
   "source": [
    "cr = re.findall('CR .*',inf.text) # rodando o regex para pegar cada uam dos campos\n",
    "\n",
    "cr"
   ]
  },
  {
   "cell_type": "code",
   "execution_count": 12,
   "id": "70c4343f-7c42-47ce-b2ae-ed63d7ab8455",
   "metadata": {},
   "outputs": [],
   "source": [
    "xp = re.findall('XP .*',inf.text) # rodando o regex para pegar cada uam dos campos"
   ]
  },
  {
   "cell_type": "code",
   "execution_count": 13,
   "id": "cc00d5ab-7d95-4161-b0ac-89600f12271a",
   "metadata": {},
   "outputs": [],
   "source": [
    "alinhamento = re.findall('N[GE ]|L[GE ]',inf.text)\n",
    "alinhamento = alinhamento[0]"
   ]
  },
  {
   "cell_type": "code",
   "execution_count": 14,
   "id": "ddfac686-e2ee-4a65-b071-6037f5543166",
   "metadata": {},
   "outputs": [],
   "source": [
    "tamanho = re.findall('Fine|Diminutive|Tiny|Small|Medium|Large|Huge|Gargantuan|Colossal',inf.text)\n",
    "tamanho = tamanho[0]  # so para garantir que estou pegando o primeiro"
   ]
  },
  {
   "cell_type": "code",
   "execution_count": 15,
   "id": "8fe43d11-ed75-4dd2-b976-37861f3eb65d",
   "metadata": {},
   "outputs": [],
   "source": [
    "iniciativa = re.findall('Init .\\d',inf.text) # iniciativa"
   ]
  },
  {
   "cell_type": "code",
   "execution_count": 16,
   "id": "db5eb954-a56f-48b2-a5a3-08d4fd16fd21",
   "metadata": {},
   "outputs": [],
   "source": [
    "senses = re.findall('Senses .*;',inf.text) # senses parando no ;, em teoria sempre tem o ; pois o proximo valor e perception"
   ]
  },
  {
   "cell_type": "code",
   "execution_count": 17,
   "id": "6ec29a47-c7c6-4f55-8254-8cffcc529a5b",
   "metadata": {},
   "outputs": [],
   "source": [
    "perception = re.findall('Perception .\\d',inf.text)\n",
    "perception = perception[0]"
   ]
  },
  {
   "cell_type": "code",
   "execution_count": 18,
   "id": "dc3f1103-a98c-4d8a-b5da-16a0d59f3f5c",
   "metadata": {},
   "outputs": [],
   "source": [
    "atk = re.findall('Melee.*',inf.text)"
   ]
  },
  {
   "cell_type": "code",
   "execution_count": 19,
   "id": "3a626cc9-f0f4-4a65-b375-81c6710c62cf",
   "metadata": {},
   "outputs": [],
   "source": [
    "defence = re.findall('AC.*',inf.text)"
   ]
  },
  {
   "cell_type": "code",
   "execution_count": 20,
   "id": "207056c6-8d2a-4198-b503-60b877e6e5b2",
   "metadata": {},
   "outputs": [],
   "source": [
    "hp = re.findall('hp \\d*',inf.text)"
   ]
  },
  {
   "cell_type": "code",
   "execution_count": 21,
   "id": "23a6b8fb-ee69-447f-84e0-260d934a9b87",
   "metadata": {},
   "outputs": [],
   "source": [
    "saves = re.findall('Fort .*',inf.text) # pegando todos os saves inicinaod em Fort e acamando no \\n"
   ]
  },
  {
   "cell_type": "code",
   "execution_count": 22,
   "id": "1e0f64df-57c0-4321-82a5-2467945a5c44",
   "metadata": {},
   "outputs": [],
   "source": [
    "dr = re.findall('DR .*/\\w*',inf.text)"
   ]
  },
  {
   "cell_type": "code",
   "execution_count": 23,
   "id": "99241588-8b5a-4004-998c-8b4809dea906",
   "metadata": {},
   "outputs": [],
   "source": [
    "immune = re.findall('Immune .*?;',inf.text)"
   ]
  },
  {
   "cell_type": "code",
   "execution_count": 24,
   "id": "3e7eefa0-9880-4bbe-9141-6b5c99590ae0",
   "metadata": {},
   "outputs": [],
   "source": [
    "resist = re.findall('Resist .*?;',inf.text)"
   ]
  },
  {
   "cell_type": "code",
   "execution_count": 25,
   "id": "086731eb-1f60-4629-b91f-d51463fc768a",
   "metadata": {},
   "outputs": [],
   "source": [
    "sr = re.findall('SR \\d{1,2}',inf.text)  # sei que tem no maximo 2 digitos. "
   ]
  },
  {
   "cell_type": "code",
   "execution_count": 26,
   "id": "879ffce9-113d-40fd-9b03-9ac3bba281fa",
   "metadata": {},
   "outputs": [],
   "source": [
    "speed = re.findall('Speed.*',inf.text)"
   ]
  },
  {
   "cell_type": "code",
   "execution_count": 27,
   "id": "a423c833-5f1d-4d86-9206-1474b63e907f",
   "metadata": {},
   "outputs": [],
   "source": [
    "cmb = re.findall('CMB .\\d*',inf.text)"
   ]
  },
  {
   "cell_type": "code",
   "execution_count": 28,
   "id": "2162129f-3f8f-4876-a259-6c7b2ab507dc",
   "metadata": {},
   "outputs": [],
   "source": [
    "cmd = re.findall('CMD .\\d*',inf.text)"
   ]
  },
  {
   "cell_type": "code",
   "execution_count": 29,
   "id": "f3f5fd37-9467-41c7-8a05-feb3ebc7400c",
   "metadata": {},
   "outputs": [],
   "source": [
    "spell_like_ability = re.findall('Spell-Like(.*)Spells Prepared|STATISTICS',inf.text,flags = re.S)"
   ]
  },
  {
   "cell_type": "code",
   "execution_count": 30,
   "id": "9f6e1ca2-5bc7-4414-acb0-2f9aa601a39b",
   "metadata": {},
   "outputs": [],
   "source": [
    "spells = re.findall('Spells.*[^\\n]',inf.text)"
   ]
  },
  {
   "cell_type": "code",
   "execution_count": 31,
   "id": "8000a18a-cba2-4438-a39e-938f19133e31",
   "metadata": {},
   "outputs": [],
   "source": [
    "spell_9th = re.findall('9th.*',inf.text)"
   ]
  },
  {
   "cell_type": "code",
   "execution_count": 32,
   "id": "f14d17df-144e-4c99-aa3f-439813cfb7e1",
   "metadata": {},
   "outputs": [],
   "source": [
    "spell_8th = re.findall('8th.*',inf.text)"
   ]
  },
  {
   "cell_type": "code",
   "execution_count": 33,
   "id": "39499403-54a1-4f5a-bd69-d2c67146843c",
   "metadata": {},
   "outputs": [],
   "source": [
    "spell_7th = re.findall('7th.*',inf.text)"
   ]
  },
  {
   "cell_type": "code",
   "execution_count": 34,
   "id": "a54e72fd-55ee-4017-b4db-e2e572a3a787",
   "metadata": {},
   "outputs": [],
   "source": [
    "spell_6th = re.findall('6th.*',inf.text)"
   ]
  },
  {
   "cell_type": "code",
   "execution_count": 35,
   "id": "549a19af-fbb5-447e-9617-866fd2e0860e",
   "metadata": {},
   "outputs": [],
   "source": [
    "spell_5th = re.findall('5th.*',inf.text)"
   ]
  },
  {
   "cell_type": "code",
   "execution_count": 36,
   "id": "88289684-5441-46aa-b999-2a0c6a4bfa02",
   "metadata": {},
   "outputs": [],
   "source": [
    "spell_4th = re.findall('4th.*',inf.text)"
   ]
  },
  {
   "cell_type": "code",
   "execution_count": 37,
   "id": "c58283a0-3ac9-43c6-8dd4-fb544618cd75",
   "metadata": {},
   "outputs": [],
   "source": [
    "spell_3th = re.findall('3rd.*',inf.text)"
   ]
  },
  {
   "cell_type": "code",
   "execution_count": 38,
   "id": "a6762d4f-7562-42ba-845d-b535a4c472fd",
   "metadata": {},
   "outputs": [],
   "source": [
    "spell_2th = re.findall('2nd.*',inf.text)"
   ]
  },
  {
   "cell_type": "code",
   "execution_count": 39,
   "id": "4c2c482c-a139-4a3a-ac7e-9a7b8787b6e8",
   "metadata": {},
   "outputs": [],
   "source": [
    "spell_1th = re.findall('1st.*',inf.text)"
   ]
  },
  {
   "cell_type": "code",
   "execution_count": 40,
   "id": "a5b27f7b-0f16-48f7-b548-674afdf5104f",
   "metadata": {},
   "outputs": [],
   "source": [
    "pagina = driver.page_source"
   ]
  },
  {
   "cell_type": "code",
   "execution_count": 41,
   "id": "48af0470-e963-4f6c-8d33-c8c2f9f9867b",
   "metadata": {},
   "outputs": [],
   "source": [
    "dic_monstro = {'Name':name,'CR':cr,'Alm':alinhamento,'Size':tamanho,'HP':hp,'Atk':atk,'Def':defence,'DR':dr,'Saves':saves,'Immune':immune,'Res':resist,'SR':sr,'Spl.Like.Abl':spell_like_ability,'Spells':spells,'lvl_9':spell_9th,'lvl_8':spell_8th,'lvl_7':spell_7th,'lvl_6':spell_6th,'lvl_5':spell_5th,'lvl_4':spell_4th,'lvl_3':spell_3th,'lvl_2':spell_2th,'lvl_1':spell_1th,'Inic':iniciativa,'Spd':speed,'Perc':perception,'Senses':senses,'CMB':cmb,'CMD':cmd,'XP':xp,'Link':pagina}\n",
    "# dicionario com todas as infomações do monstro"
   ]
  },
  {
   "cell_type": "code",
   "execution_count": 42,
   "id": "fa58d05c-fbae-46a9-9a9c-e26bdba90a67",
   "metadata": {},
   "outputs": [],
   "source": [
    "driver.close() # fechando a janela"
   ]
  },
  {
   "cell_type": "code",
   "execution_count": null,
   "id": "87988dd8-56b0-4a9d-985a-07343867d3db",
   "metadata": {},
   "outputs": [],
   "source": [
    "dic_monstro"
   ]
  },
  {
   "cell_type": "code",
   "execution_count": null,
   "id": "715d7aba-ebec-4347-ac6e-56e9fddcf5b4",
   "metadata": {},
   "outputs": [],
   "source": []
  },
  {
   "cell_type": "code",
   "execution_count": null,
   "id": "09430964-b797-4710-a43b-e1127522192d",
   "metadata": {},
   "outputs": [],
   "source": []
  },
  {
   "cell_type": "code",
   "execution_count": null,
   "id": "c80bba53-996a-467a-979f-0fa19eb35cfe",
   "metadata": {},
   "outputs": [],
   "source": []
  },
  {
   "cell_type": "code",
   "execution_count": null,
   "id": "c29a0bc2-6a24-4443-93e2-1bc20c7823b7",
   "metadata": {},
   "outputs": [],
   "source": []
  },
  {
   "cell_type": "code",
   "execution_count": 3,
   "id": "d8d46ac1-bc2f-468b-8bad-3530d5fe4602",
   "metadata": {},
   "outputs": [
    {
     "data": {
      "text/plain": [
       "[' BAT SWARM CR 2',\n",
       " ' BISOn CR 4',\n",
       " ' BRAChIOSAURUS CR 10',\n",
       " ' CAUCHEMAR CR 11',\n",
       " ' CEnTIPEDE SWARM CR 4',\n",
       " ' CRAB SWARM CR 4',\n",
       " ' DIRE APE (gIgAnTOPIThECUS) CR 3',\n",
       " ' DIRE BEAR (CAVE BEAR) CR 7',\n",
       " ' DIRE BOAR (DAEODON) CR 4',\n",
       " ' DIRE CROCODILE CR 9',\n",
       " ' DIRE HYENA (HYAENODON) CR 3',\n",
       " ' DIRE LIOn (SPOTTED LIOn) CR 5',\n",
       " ' DIRE ShARk (MEgALODOn) CR 9',\n",
       " ' DIRE TIgER (SMILODOn) CR 8',\n",
       " ' DIRE WOLf CR 3',\n",
       " ' DIRE WOLVERInE CR 4',\n",
       " ' DOLPhIn CR 1/2',\n",
       " ' EAgLE CR 1/2',\n",
       " ' ELASMOSAURUS CR 7',\n",
       " ' GIANT ANT CR 2',\n",
       " ' gIAnT fRILLED LIzARD CR 5',\n",
       " ' GIANT MORAY EEL CR 5',\n",
       " ' gIAnT OCTOPUS CR 8',\n",
       " ' gIAnT SQUID CR 9',\n",
       " ' gIAnT STAg BEETLE CR 4',\n",
       " ' gREATER ShADOW CR 8',\n",
       " ' LEECH SWARM CR 4',\n",
       " ' LEOPARD CR 2',\n",
       " ' MASTODOn CR 9',\n",
       " ' nESSIAn WARhOUnD CR 9',\n",
       " ' POISOn fROg CR 1/2',\n",
       " ' POny CR 1/2',\n",
       " ' RAT SWARM CR 2',\n",
       " ' RIDIng DOg CR 1',\n",
       " ' SPIDER SWARM CR 1',\n",
       " ' STEgOSAURUS CR 7',\n",
       " ' TRICERATOPS CR 8',\n",
       " ' VEnOMOUS SnAkE CR 1',\n",
       " ' WASP SWARM CR 3',\n",
       " ' WINTER WOLF CR 5',\n",
       " ' WOOLLy RhInOCEROS CR 6',\n",
       " 'AASIMAR CR 1/2',\n",
       " 'ABOLETh CR 7',\n",
       " 'AIR ELEMEnTAL',\n",
       " 'AnIMATED OBjECT CR 3',\n",
       " 'AnkhEg CR 3',\n",
       " 'AnkyLOSAURUS CR 6',\n",
       " 'ARMY ANT SWARM CR 5',\n",
       " 'ASSASSIn VInE CR 3',\n",
       " 'ASTRAL DEVA CR 14',\n",
       " 'AUROChS CR 2',\n",
       " 'BABAU CR 6',\n",
       " 'BALOR CR 20',\n",
       " 'BARBED DEVIL (hAMATULA) CR 11',\n",
       " 'BARGHEST CR 4',\n",
       " 'BASIDIROnD CR 5',\n",
       " 'BASILISk CR 5',\n",
       " 'BEARDED DEVIL (BARBAzU) CR 5',\n",
       " 'BEBILITh CR 10',\n",
       " 'BEhIR CR 8',\n",
       " 'BLACk DRAgOn',\n",
       " 'BLACk PUDDIng CR 7',\n",
       " 'BLUE DRAGON',\n",
       " 'BOAR CR 2',\n",
       " 'BOggARD CR 2',\n",
       " 'BOnE DEVIL (OSyLUTh) CR 9',\n",
       " 'BRALAnI CR 6',\n",
       " 'BRASS DRAGON',\n",
       " 'BROnzE DRAgOn',\n",
       " 'BUgBEAR CR 2',\n",
       " 'BULETTE CR 7',\n",
       " 'CAVE fIShER CR 2',\n",
       " 'CEnTAUR CR 3',\n",
       " 'ChEETAh CR 2',\n",
       " 'ChIMERA CR 7',\n",
       " 'CHOKER CR 2',\n",
       " 'ChUUL CR 7',\n",
       " 'CLAy gOLEM CR 10',\n",
       " 'CLOAkER CR 5',\n",
       " 'CLOUD gIAnT CR 11',\n",
       " 'COCkATRICE CR 3',\n",
       " 'COnSTRICTOR SnAkE CR 2',\n",
       " 'COPPER DRAgOn',\n",
       " 'COUATL CR 10',\n",
       " 'CRAG LINNORM CR 14',\n",
       " 'CROCODILE CR 2',\n",
       " 'CyCLOPS CR 5',\n",
       " 'DARk CREEPER CR 2',\n",
       " 'DARk nAgA CR 8',\n",
       " 'DARk STALkER CR 4',\n",
       " 'DARKMANTLE CR 1',\n",
       " 'DEInOnyChUS CR 3',\n",
       " 'DERRO CR 3',\n",
       " 'DEVOURER CR 11',\n",
       " 'DIRE BAT CR 2',\n",
       " 'DIRE RAT CR 1/3',\n",
       " 'DjInnI CR 5',\n",
       " 'DOg CR 1/3',\n",
       " 'DOPPELgAngER CR 3',\n",
       " 'DRACOLISk CR 7',\n",
       " 'DRAgOn TURTLE CR 9',\n",
       " 'DRETCh CR 2',\n",
       " 'DRIDER CR 7',\n",
       " 'DROW CR 1/3',\n",
       " 'DRyAD CR 3',\n",
       " 'DUERgAR CR 1/3',\n",
       " 'EARTh ELEMEnTAL',\n",
       " 'EfREETI CR 8',\n",
       " 'ELECTRIC EEL CR 2',\n",
       " 'ELEPhAnT CR 7',\n",
       " 'ERInyES CR 8',\n",
       " 'ETTERCAP CR 3',\n",
       " 'ETTIn CR 6',\n",
       " 'fIRE BEETLE CR 1/3',\n",
       " 'FIRE ELEMENTAL',\n",
       " 'fIRE gIAnT CR 10',\n",
       " 'fLESh gOLEM CR 7',\n",
       " 'fROghEMOTh CR 13',\n",
       " 'FROST GIANT CR 9',\n",
       " 'gARgOyLE CR 4',\n",
       " 'gELATInOUS CUBE CR 3',\n",
       " 'ghAELE CR 13',\n",
       " 'ghOST CR 7',\n",
       " 'ghOUL CR 1',\n",
       " 'gIAnT CEnTIPEDE CR 1/2',\n",
       " 'gIAnT CRAB CR 2',\n",
       " 'gIAnT EAgLE CR 3',\n",
       " 'gIAnT fLyTRAP CR 10',\n",
       " 'gIAnT fROg CR 1',\n",
       " 'GIANT LEECH CR 2',\n",
       " 'gIAnT MAnTIS CR 3',\n",
       " 'GIANT SCORPION CR 3',\n",
       " 'gIAnT SLUg CR 8',\n",
       " 'GIANT SPIDER CR 1',\n",
       " 'GIANT WASP CR 3',\n",
       " 'GIBBERING MOUTHER CR 5',\n",
       " 'GIRALLON CR 6',\n",
       " 'gLABREzU CR 13',\n",
       " 'gnOLL CR 1',\n",
       " 'gOBLIn CR 1/3',\n",
       " 'gOBLIn DOg CR 1',\n",
       " 'GOLD DRAGON',\n",
       " 'gORgOn CR 8',\n",
       " 'gORILLA CR 2',\n",
       " 'gRAy OOzE CR 4',\n",
       " 'gREEn DRAgOn',\n",
       " 'gREEn hAg CR 5',\n",
       " 'gRIffOn CR 4',\n",
       " 'gRIzzLy BEAR CR 4',\n",
       " 'GUARDIAN NAGA CR 10',\n",
       " 'hALf-CELESTIAL UnICORn CR 4',\n",
       " 'hALf-fIEnD MInOTAUR CR 6',\n",
       " 'hARPy CR 4',\n",
       " 'hELL hOUnD CR 3',\n",
       " 'hEzROU CR 11',\n",
       " 'hILL gIAnT CR 7',\n",
       " 'HOBGOBLIN CR 1/2',\n",
       " 'hOMUnCULUS CR 1',\n",
       " 'hORnED DEVIL (CORnUgOn) CR 16',\n",
       " 'hORSE CR 1',\n",
       " 'hOUnD ARChOn CR 4',\n",
       " 'hUMAn SkELETOn CR 1/3',\n",
       " 'hUMAn zOMBIE CR 1/2',\n",
       " 'hyDRA CR 4',\n",
       " 'HYENA CR 1',\n",
       " 'ICE DEVIL (gELUgOn) CR 13',\n",
       " 'ICE gOLEM CR 5',\n",
       " 'ICE LINNORM CR 17',\n",
       " 'IMP CR 2',\n",
       " 'InTELLECT DEVOURER CR 8',\n",
       " 'InVISIBLE STALkER CR 7',\n",
       " 'IRON COBRA CR 2',\n",
       " 'IROn gOLEM CR 13',\n",
       " 'jAnnI CR 4',\n",
       " 'KOBOLD CR 1/4',\n",
       " 'kRAkEn CR 18',\n",
       " 'kyTOn CR 6',\n",
       " 'LAMIA CR 6',\n",
       " 'LAnTERn ARChOn CR 2',\n",
       " 'LEMURE CR 1',\n",
       " 'LICH CR 12',\n",
       " 'LILLEnD CR 7',\n",
       " 'LIOn CR 3',\n",
       " 'LIzARDfOLk CR 1',\n",
       " 'MAnTICORE CR 5',\n",
       " 'MARID CR 9',\n",
       " 'MARILITH CR 17',\n",
       " 'MEDUSA CR 7',\n",
       " 'MEPhIT CR 3',\n",
       " 'MERfOLk CR 1/3',\n",
       " 'MIMIC CR 4',\n",
       " 'MInOTAUR CR 4',\n",
       " 'MITE CR 1/4',\n",
       " 'MOHRG CR 8',\n",
       " 'MOnITOR LIzARD CR 2',\n",
       " 'MORLOCk CR 2',\n",
       " 'MUMMy CR 5',\n",
       " 'NABASU CR 8',\n",
       " 'nALfEShnEE CR 14',\n",
       " 'nEOThELID CR 15',\n",
       " 'nIghT hAg CR 9',\n",
       " 'NIGHTMARE CR 5',\n",
       " 'nyMPh CR 7',\n",
       " 'OChRE jELLy CR 5',\n",
       " 'OCTOPUS CR 1',\n",
       " 'OgRE CR 3',\n",
       " 'OgRE MAgE CR 8',\n",
       " 'ORC CR 1/3',\n",
       " 'ORCA CR 5',\n",
       " 'OTyUgh CR 4',\n",
       " 'OWLBEAR CR 4',\n",
       " 'PEgASUS CR 3',\n",
       " 'PhASE SPIDER CR 5',\n",
       " 'PhOEnIX CR 15',\n",
       " 'PIT fIEnD CR 20',\n",
       " 'PIXIE CR 4',\n",
       " 'PLAnETAR CR 16',\n",
       " 'PSEUDODRAgOn CR 1',\n",
       " 'PTERAnODOn CR 3',\n",
       " 'PURPLE WORM CR 12',\n",
       " 'QUASIT CR 2',\n",
       " 'RAkShASA CR 10',\n",
       " 'RED DRAgOn',\n",
       " 'REMORhAz CR 7',\n",
       " 'RETRIEVER CR 11',\n",
       " 'RhInOCEROS CR 4',\n",
       " 'ROC CR 9',\n",
       " 'ROPER CR 12',\n",
       " 'RUST MOnSTER CR 3',\n",
       " 'SAhUAgIn CR 2',\n",
       " 'SALAMAnDER CR 6',\n",
       " 'SATyR CR 4',\n",
       " 'SEA hAg CR 4',\n",
       " 'SEA SERPEnT CR 12',\n",
       " 'ShADOW CR 3',\n",
       " 'SHADOW DEMON CR 7',\n",
       " 'ShAITAn CR 7',\n",
       " 'ShAMBLIng MOUnD CR 6',\n",
       " 'ShARk CR 2',\n",
       " 'ShOCkER LIzARD CR 2',\n",
       " 'SHOGGOTH CR 19',\n",
       " 'SILVER DRAgOn',\n",
       " 'SkELETAL ChAMPIOn CR 2',\n",
       " 'SkUM (ULAT-kInI) CR 2',\n",
       " 'SOLAR CR 23',\n",
       " 'SPECTRE CR 7',\n",
       " 'SPhInX (gynOSPhInX) CR 8',\n",
       " 'SPIRIT nAgA CR 9',\n",
       " 'SQUID CR 1',\n",
       " 'STIRgE CR 1/2',\n",
       " 'STOnE gIAnT CR 8',\n",
       " 'STOnE gOLEM CR 11',\n",
       " 'STORM gIAnT CR 13',\n",
       " 'SUCCUBUS CR 7',\n",
       " 'SVIRfnEBLIn CR 1',\n",
       " 'TARn LInnORM CR 20',\n",
       " 'TARRASQUE CR 25',\n",
       " 'TEngU CR 1/2',\n",
       " 'TIEfLIng CR 1/2',\n",
       " 'TIgER CR 4',\n",
       " 'TREAnT CR 8',\n",
       " 'TROgLODyTE CR 1',\n",
       " 'TROLL CR 5',\n",
       " 'TRUMPET ARChOn CR 14',\n",
       " 'TyRAnnOSAURUS CR 9',\n",
       " 'UnICORn CR 3',\n",
       " 'VAMPIRE CR 9',\n",
       " 'VARgOUILLE CR 2',\n",
       " 'VEgEPygMy CR 1/2',\n",
       " 'VIOLET fUngUS CR 3',\n",
       " 'VROCK CR 9',\n",
       " 'WATER ELEMENTAL',\n",
       " 'WERERAT (hUMAn fORM) CR 2',\n",
       " 'WEREWOLf CR 2',\n",
       " 'WhITE DRAgOn',\n",
       " 'WIghT CR 3',\n",
       " 'WILL-O’-WISP CR 6',\n",
       " 'WOLf CR 1',\n",
       " 'WOLVERInE CR 2',\n",
       " 'WOOD gOLEM CR 6',\n",
       " 'WORG CR 2',\n",
       " 'WRAITH CR 5',\n",
       " 'WyVERn CR 6',\n",
       " 'XILL CR 6',\n",
       " 'XORN CR 6',\n",
       " 'yELLOW MUSk CREEPER CR 2',\n",
       " 'yETh hOUnD CR 3',\n",
       " 'YETI CR 4']"
      ]
     },
     "execution_count": 3,
     "metadata": {},
     "output_type": "execute_result"
    }
   ],
   "source": [
    "list_arq_b1 = os.listdir('img_name_b1') # pegando o nome de todos os arquivos da pasta em questão. \n",
    "\n",
    "list_img_b1 = [file.replace('_','/').replace('.jpg','') for file in list_arq_b1 if file.endswith('.jpg')] # tranfomando os os nomes da arquivo em uma lista. \n",
    "\n",
    "list_img_b1\n"
   ]
  },
  {
   "cell_type": "code",
   "execution_count": null,
   "id": "a852a21a-fde3-48b7-9aeb-405e365dc05d",
   "metadata": {},
   "outputs": [],
   "source": []
  }
 ],
 "metadata": {
  "kernelspec": {
   "display_name": "Python 3 (ipykernel)",
   "language": "python",
   "name": "python3"
  },
  "language_info": {
   "codemirror_mode": {
    "name": "ipython",
    "version": 3
   },
   "file_extension": ".py",
   "mimetype": "text/x-python",
   "name": "python",
   "nbconvert_exporter": "python",
   "pygments_lexer": "ipython3",
   "version": "3.9.7"
  }
 },
 "nbformat": 4,
 "nbformat_minor": 5
}
