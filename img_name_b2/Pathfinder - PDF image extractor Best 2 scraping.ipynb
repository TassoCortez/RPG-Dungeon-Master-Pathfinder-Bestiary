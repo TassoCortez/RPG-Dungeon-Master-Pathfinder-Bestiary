{
 "cells": [
  {
   "cell_type": "code",
   "execution_count": 1,
   "id": "42808b9b-e9e9-4f3a-bd57-768bc5b0978a",
   "metadata": {},
   "outputs": [],
   "source": [
    "import PIL\n",
    "import fitz\n",
    "import pandas as pd \n",
    "from PIL import Image\n",
    "import io\n",
    "import re"
   ]
  },
  {
   "cell_type": "code",
   "execution_count": 3,
   "id": "bc749aa4-81c2-4cbf-acd2-3919e623f121",
   "metadata": {},
   "outputs": [],
   "source": [
    "doc = fitz.open('C:/Users/Escanor/Desktop/Iron HAck/Projetos/Projeto obrigatorio/Pathfinder/Data/Pathfinder_Bestiary_2.pdf') # abrindo o PDF\n"
   ]
  },
  {
   "cell_type": "markdown",
   "id": "2aea5966-ff97-4c68-b1f3-49ce11728ed8",
   "metadata": {},
   "source": [
    "obs:\n",
    "         \n",
    "Pagina especifica com problemas:  pg 11(resolvido)  - \n",
    "    \n",
    "problema - nome do monstro em 1 pagina e image na prox pagina. Colocar algo que caso encontre apenas o nome e não a imagem, pegar a imagem da proxima pagina.  - Resolvido\n",
    "    \n",
    "problema - pagina que não tem nada como por exemplo 9. colocar algo que caso as 2 funcoes não funcionem ignorar o resultado.  - Resolvido\n",
    "\n",
    "problema - 2 monstros na mesma pagina pg 16  - Resolvido\n",
    "\n",
    "problema - monstro com subcategoria como dragões, pg 92 e 93 -  Resolvido"
   ]
  },
  {
   "cell_type": "markdown",
   "id": "d53ff4dc-9420-4822-870b-6f5a26826bd3",
   "metadata": {},
   "source": [
    "# Tratamenteo para pegar imagem"
   ]
  },
  {
   "cell_type": "code",
   "execution_count": 45,
   "id": "f4feaf74-5365-44ba-b038-185933bb3e43",
   "metadata": {},
   "outputs": [],
   "source": [
    "def req_image (argumento):\n",
    "    '''recebe um int(numero da pagina), substitue este valor e extrai a imagem da pg em questão'''\n",
    "    page_image = doc[argumento] # salvando a pagina [numero da pagina] como page\n",
    "    \n",
    "    list_image = page_image.get_images() #  lista de imagens da pagina escolhida\n",
    "\n",
    "    print(list_image)\n",
    "    \n",
    "    for item in list_image: \n",
    "            if item[3] >100 and item[3] < 1603 and item[2] >150 and item[8] == 'DCTDecode' :   # escolha da imagem pelo tamanho, quarto parametro acima de 100 e diferente de 1603, oitvo parametro da imagem igual a DCTDecode \n",
    "                img_creature = item\n",
    "            else:\n",
    "                ''\n",
    "    imagem_isolada = doc.extract_image(img_creature[0])['image']\n",
    "    \n",
    "    return imagem_isolada\n",
    "    \n",
    "    \n",
    "    "
   ]
  },
  {
   "cell_type": "code",
   "execution_count": 43,
   "id": "35c4c72f-6dee-4bd7-bd2f-4dd64e9740d3",
   "metadata": {},
   "outputs": [
    {
     "ename": "UnboundLocalError",
     "evalue": "local variable 'img_creature' referenced before assignment",
     "output_type": "error",
     "traceback": [
      "\u001b[1;31m---------------------------------------------------------------------------\u001b[0m",
      "\u001b[1;31mUnboundLocalError\u001b[0m                         Traceback (most recent call last)",
      "\u001b[1;32m~\\AppData\\Local\\Temp/ipykernel_9016/81709075.py\u001b[0m in \u001b[0;36m<module>\u001b[1;34m\u001b[0m\n\u001b[1;32m----> 1\u001b[1;33m \u001b[0mreq_image\u001b[0m\u001b[1;33m(\u001b[0m\u001b[1;36m160\u001b[0m\u001b[1;33m)\u001b[0m\u001b[1;33m\u001b[0m\u001b[1;33m\u001b[0m\u001b[0m\n\u001b[0m\u001b[0;32m      2\u001b[0m \u001b[0mx\u001b[0m\u001b[1;33m\u001b[0m\u001b[1;33m\u001b[0m\u001b[0m\n",
      "\u001b[1;32m~\\AppData\\Local\\Temp/ipykernel_9016/2448372712.py\u001b[0m in \u001b[0;36mreq_image\u001b[1;34m(argumento)\u001b[0m\n\u001b[0;32m     12\u001b[0m             \u001b[1;32melse\u001b[0m\u001b[1;33m:\u001b[0m\u001b[1;33m\u001b[0m\u001b[1;33m\u001b[0m\u001b[0m\n\u001b[0;32m     13\u001b[0m                 \u001b[1;34m''\u001b[0m\u001b[1;33m\u001b[0m\u001b[1;33m\u001b[0m\u001b[0m\n\u001b[1;32m---> 14\u001b[1;33m     \u001b[0mimagem_isolada\u001b[0m \u001b[1;33m=\u001b[0m \u001b[0mdoc\u001b[0m\u001b[1;33m.\u001b[0m\u001b[0mextract_image\u001b[0m\u001b[1;33m(\u001b[0m\u001b[0mimg_creature\u001b[0m\u001b[1;33m[\u001b[0m\u001b[1;36m0\u001b[0m\u001b[1;33m]\u001b[0m\u001b[1;33m)\u001b[0m\u001b[1;33m[\u001b[0m\u001b[1;34m'image'\u001b[0m\u001b[1;33m]\u001b[0m\u001b[1;33m\u001b[0m\u001b[1;33m\u001b[0m\u001b[0m\n\u001b[0m\u001b[0;32m     15\u001b[0m \u001b[1;33m\u001b[0m\u001b[0m\n\u001b[0;32m     16\u001b[0m     \u001b[1;32mreturn\u001b[0m \u001b[0mimagem_isolada\u001b[0m\u001b[1;33m\u001b[0m\u001b[1;33m\u001b[0m\u001b[0m\n",
      "\u001b[1;31mUnboundLocalError\u001b[0m: local variable 'img_creature' referenced before assignment"
     ]
    }
   ],
   "source": [
    "req_image(160)\n",
    "x"
   ]
  },
  {
   "cell_type": "code",
   "execution_count": 63,
   "id": "502dca4d-e31b-4170-b390-dfbce2a24042",
   "metadata": {},
   "outputs": [
    {
     "name": "stdout",
     "output_type": "stream",
     "text": [
      "[(1773, 3411, 54, 53, 8, 'ICCBased', '', 'Im5', 'FlateDecode'), (2431, 3880, 686, 1063, 8, 'ICCBased', '', 'Im1', 'FlateDecode'), (1645, 3270, 226, 63, 8, 'ICCBased', '', 'Im2', 'FlateDecode'), (1697, 3358, 54, 53, 8, 'ICCBased', '', 'Im4', 'FlateDecode'), (1834, 3464, 54, 53, 8, 'ICCBased', '', 'Im3', 'FlateDecode'), (1629, 0, 1261, 1636, 8, 'ICCBased', '', 'Im0', 'DCTDecode')]\n"
     ]
    },
    {
     "ename": "NameError",
     "evalue": "name 'img_creature' is not defined",
     "output_type": "error",
     "traceback": [
      "\u001b[1;31m---------------------------------------------------------------------------\u001b[0m",
      "\u001b[1;31mNameError\u001b[0m                                 Traceback (most recent call last)",
      "\u001b[1;32m~\\AppData\\Local\\Temp/ipykernel_9016/3685617046.py\u001b[0m in \u001b[0;36m<module>\u001b[1;34m\u001b[0m\n\u001b[0;32m     10\u001b[0m         \u001b[1;32melse\u001b[0m\u001b[1;33m:\u001b[0m\u001b[1;33m\u001b[0m\u001b[1;33m\u001b[0m\u001b[0m\n\u001b[0;32m     11\u001b[0m             \u001b[1;34m''\u001b[0m\u001b[1;33m\u001b[0m\u001b[1;33m\u001b[0m\u001b[0m\n\u001b[1;32m---> 12\u001b[1;33m \u001b[0mimagem_isolada\u001b[0m \u001b[1;33m=\u001b[0m \u001b[0mdoc\u001b[0m\u001b[1;33m.\u001b[0m\u001b[0mextract_image\u001b[0m\u001b[1;33m(\u001b[0m\u001b[0mimg_creature\u001b[0m\u001b[1;33m[\u001b[0m\u001b[1;36m0\u001b[0m\u001b[1;33m]\u001b[0m\u001b[1;33m)\u001b[0m\u001b[1;33m[\u001b[0m\u001b[1;34m'image'\u001b[0m\u001b[1;33m]\u001b[0m\u001b[1;33m\u001b[0m\u001b[1;33m\u001b[0m\u001b[0m\n\u001b[0m\u001b[0;32m     13\u001b[0m \u001b[1;33m\u001b[0m\u001b[0m\n\u001b[0;32m     14\u001b[0m \u001b[1;32mreturn\u001b[0m \u001b[0mimagem_isolada\u001b[0m\u001b[1;33m\u001b[0m\u001b[1;33m\u001b[0m\u001b[0m\n",
      "\u001b[1;31mNameError\u001b[0m: name 'img_creature' is not defined"
     ]
    }
   ],
   "source": [
    "page_image = doc[160] # salvando a pagina [numero da pagina] como page\n",
    "\n",
    "list_image = page_image.get_images() #  lista de imagens da pagina escolhida\n",
    "\n",
    "print(list_image)\n",
    "\n",
    "for item in list_image: \n",
    "        if item[3] >100 and item[3] < 1603 and item[2] >150 and item[8] == 'DCTDecode' :   # escolha da imagem pelo tamanho, quarto parametro acima de 100 e diferente de 1603, oitvo parametro da imagem igual a DCTDecode \n",
    "            img_creature = item\n",
    "        else:\n",
    "            ''\n",
    "imagem_isolada = doc.extract_image(img_creature[0])['image']\n",
    "\n",
    "return imagem_isolada\n",
    "\n",
    "\n"
   ]
  },
  {
   "cell_type": "code",
   "execution_count": 65,
   "id": "061d1a3b-d936-4e5f-ae9c-4ea819259c7a",
   "metadata": {},
   "outputs": [
    {
     "ename": "TypeError",
     "evalue": "a bytes-like object is required, not 'list'",
     "output_type": "error",
     "traceback": [
      "\u001b[1;31m---------------------------------------------------------------------------\u001b[0m",
      "\u001b[1;31mTypeError\u001b[0m                                 Traceback (most recent call last)",
      "\u001b[1;32m~\\AppData\\Local\\Temp/ipykernel_9016/960180317.py\u001b[0m in \u001b[0;36m<module>\u001b[1;34m\u001b[0m\n\u001b[1;32m----> 1\u001b[1;33m \u001b[0mImagem_pronta\u001b[0m \u001b[1;33m=\u001b[0m \u001b[0mPIL\u001b[0m\u001b[1;33m.\u001b[0m\u001b[0mImage\u001b[0m\u001b[1;33m.\u001b[0m\u001b[0mopen\u001b[0m\u001b[1;33m(\u001b[0m\u001b[0mio\u001b[0m\u001b[1;33m.\u001b[0m\u001b[0mBytesIO\u001b[0m\u001b[1;33m(\u001b[0m\u001b[0mpage_image\u001b[0m\u001b[1;33m.\u001b[0m\u001b[0mget_images\u001b[0m\u001b[1;33m(\u001b[0m\u001b[1;36m2\u001b[0m\u001b[1;33m)\u001b[0m\u001b[1;33m)\u001b[0m\u001b[1;33m)\u001b[0m  \u001b[1;31m# para testar se a função está funcionando.\u001b[0m\u001b[1;33m\u001b[0m\u001b[1;33m\u001b[0m\u001b[0m\n\u001b[0m\u001b[0;32m      2\u001b[0m \u001b[0mImagem_pronta\u001b[0m\u001b[1;33m\u001b[0m\u001b[1;33m\u001b[0m\u001b[0m\n",
      "\u001b[1;31mTypeError\u001b[0m: a bytes-like object is required, not 'list'"
     ]
    }
   ],
   "source": [
    "page_image.get_images()\n",
    "\n",
    "Imagem_pronta = PIL.Image.open(io.BytesIO(page_image.get_images(2)))  # para testar se a função está funcionando.\n",
    "Imagem_pronta"
   ]
  },
  {
   "cell_type": "markdown",
   "id": "53766e9c-a797-4315-986e-0c4c81948e22",
   "metadata": {},
   "source": [
    "# Tratamento para pegar nome do monstro"
   ]
  },
  {
   "cell_type": "code",
   "execution_count": 37,
   "id": "b223b09f-c351-4a75-af05-77b956059534",
   "metadata": {},
   "outputs": [],
   "source": [
    "def req_text(argument):\n",
    "    \n",
    "    '''Função recebe um int(numero da pagina) e retorna o nome limpo que está com a segunda coordenada de 135.28799438476562  '''\n",
    "    \n",
    "    page_text = doc[argument]  # salvando a pagina [numero da pagina] como page_text \n",
    "\n",
    "    words = page_text.get_text(\"words\")  # extraindo todas as palavras da pagina 1\n",
    "    \n",
    "    lista_nomes = []\n",
    "    \n",
    "    for i in words:   # for para pegar o nomes do monstro na pagina. So funciona se o nome estiver com o segundo valor de 135.28799438476562\n",
    "        \n",
    "        for image in i:\n",
    "            if image == 135.28799438476562:\n",
    "                \n",
    "                x = i[4]\n",
    "                \n",
    "                lista_nomes.append(x+' ')\n",
    "            \n",
    "            else:\n",
    "                ''\n",
    "    \n",
    "    lista_nomes_sujos =''.join(lista_nomes)  \n",
    "    \n",
    "    \n",
    "    if re.findall('.*?\\d+/?\\d?',lista_nomes_sujos) != []: # if para separar os nomes quando aparece algum numero\n",
    "        lista_nomes_limpa = re.findall('.*?\\d+/?\\d?',lista_nomes_sujos)\n",
    "    \n",
    "    else: # else para selecionar os nomes que não tem numero\n",
    "        lista_nomes_limpa = re.findall('\\w*.\\w*',lista_nomes_sujos)\n",
    "    \n",
    "    lista_nomes_limpa2 = [n.replace('/','_') for n in lista_nomes_limpa ]    \n",
    "    \n",
    "    return lista_nomes_limpa2\n",
    "\n"
   ]
  },
  {
   "cell_type": "code",
   "execution_count": 29,
   "id": "12d18daa-3228-45b6-bba2-a1f30d3a9896",
   "metadata": {},
   "outputs": [
    {
     "data": {
      "text/plain": [
       "['AkhAnA CR 12']"
      ]
     },
     "execution_count": 29,
     "metadata": {},
     "output_type": "execute_result"
    }
   ],
   "source": [
    "# x = req_text(9)  # para testar se a função está funcionando\n",
    "# x\n",
    "# name_monster = str(req_text(16)[0])\n",
    "# name_monster"
   ]
  },
  {
   "cell_type": "markdown",
   "id": "9cc8f5df-884f-4326-afcc-242c06cca3fa",
   "metadata": {},
   "source": [
    "# funcao para salvar a imagem com o nome certo"
   ]
  },
  {
   "cell_type": "code",
   "execution_count": 38,
   "id": "1dd4322f-0f6f-4390-bcba-fde8f95da102",
   "metadata": {},
   "outputs": [],
   "source": [
    "\n",
    "def img_names_b2 (pg):\n",
    "    '''Funcao recebe o numero da pagina, roda a função para pegar o nome do monstro. \n",
    "    caso o nome do monstro não seja um grupo vzio, tenta rodar a função para pegar a image. Caso a função da imagem de erro, pega a imagem da proxima pagina. e salva na pasta escolhida.\n",
    "    \n",
    "    Caso o nome do monstro seja vazio, não tentar pegar mais nada e retorna a menssagem 'Vazio' '''   \n",
    "    \n",
    "\n",
    "    if req_text (pg) != []: # if para filtrar quando há nome na pagina\n",
    "        names = (req_text (pg))    \n",
    "\n",
    "        for item in names:   # rodando este For para pegar cada item separado quando ha mais de 1 monstro por pagina\n",
    "            item = str(item)\n",
    "            name_monster = item\n",
    "            \n",
    "        #name_monster = str(req_text(pg)[0])  # funcao req_text para pegar o nome do monstro e tranfomando o nome em str\n",
    "            try:\n",
    "                    imagem_pronta = PIL.Image.open(io.BytesIO(req_image(pg)))# abrindo a imagem gerada pela funcao req_image\n",
    "                \n",
    "                    imagem_pronta.save('C:/Users/Escanor/Desktop/Iron HAck/Projetos/Projeto obrigatorio/Pathfinder/img_name_b2/'+name_monster+'.jpg')\n",
    "                \n",
    "                    print ('imagem salva com o nome de :'+name_monster)\n",
    "                                              \n",
    "            except:\n",
    "                    imagem_pronta = PIL.Image.open(io.BytesIO(req_image(pg+1)))# abrindo a imagem gerada pela funcao req_image\n",
    "                \n",
    "                    imagem_pronta.save('C:/Users/Escanor/Desktop/Iron HAck/Projetos/Projeto obrigatorio/Pathfinder/img_name_b2/'+name_monster+'.jpg')\n",
    "                \n",
    "                    return 'imagem da proxima pagina salva com o nome de :'+ name_monster\n",
    "\n",
    "    \n",
    "    elif req_text (pg) == []: # elif para filtrar quando não ha nome da pagina\n",
    "        return 'vazio'\n",
    "        \n",
    "    \n",
    "    else: # else para ajudar caso de algum erro em algum lugar estranho. \n",
    "        return 'erro'\n",
    "    \n",
    "    return 'image(s) Salva'\n"
   ]
  },
  {
   "cell_type": "code",
   "execution_count": 39,
   "id": "1144f0ff-94db-4c6a-8d8f-5ec3db2d3e41",
   "metadata": {},
   "outputs": [
    {
     "name": "stdout",
     "output_type": "stream",
     "text": [
      "imagem salva com o nome de :AChAIERAI CR 5\n",
      "imagem salva com o nome de :AkhAnA CR 12\n",
      "imagem salva com o nome de :BythOS CR 16\n",
      "imagem salva com o nome de :PARACLetuS CR 2\n",
      "imagem salva com o nome de :theLetOS CR 7\n",
      "imagem salva com o nome de :CetACeAL CR 15\n",
      "imagem salva com o nome de :LeOnAL CR 12\n",
      "imagem salva com o nome de :SILvAnShee CR 2\n",
      "imagem salva com o nome de :AgAthIOn, vuLPInAL CR 6\n",
      "imagem salva com o nome de :AkAtA CR 1\n",
      "imagem salva com o nome de :AmoebA SwArm Cr 1\n",
      "imagem salva com o nome de : AmoebA, gIAnt Cr 1\n",
      "imagem salva com o nome de :AmPhISbAenA Cr 4\n",
      "imagem salva com o nome de :CASSISIAn Cr 2\n",
      "imagem salva com o nome de :monADIC DevA Cr 12\n",
      "imagem salva com o nome de :movAnIC DevA Cr 10\n",
      "imagem salva com o nome de :AnImAte DreAm Cr 8\n",
      "imagem salva com o nome de :ArAneA Cr 4\n",
      "imagem salva com o nome de :ShIelD ArChon Cr 10\n",
      "imagem salva com o nome de :StAr ArChon Cr 19\n",
      "imagem salva com o nome de :AthACh Cr 12\n",
      "imagem salva com o nome de :AttIC whISPerer Cr 4\n",
      "imagem salva com o nome de :AurumvorAX Cr 9\n",
      "imagem salva com o nome de :AXIomIte Cr 8\n",
      "imagem salva com o nome de :brIjIDIne Cr 17\n",
      "imagem salva com o nome de :lyrAKIen Cr 2\n",
      "imagem salva com o nome de :Azer Cr 2\n",
      "imagem salva com o nome de :Badger Cr 1_2\n",
      "imagem salva com o nome de : Badger, dIre Cr 2\n",
      "imagem salva com o nome de :BanShee Cr 13\n",
      "imagem salva com o nome de :MOBat Cr 3\n",
      "imagem salva com o nome de : SkavelIng Cr 5\n",
      "imagem salva com o nome de :gIant Bee Cr 1\n",
      "imagem salva com o nome de : gIant Queen Bee Cr 5\n",
      "imagem salva com o nome de :gOlIath Stag Beetle Cr 8\n",
      "imagem salva com o nome de : SlICer Beetle Cr 4\n",
      "imagem salva com o nome de :Belker Cr 6\n",
      "imagem salva com o nome de :BlIndheIM Cr 2\n",
      "imagem salva com o nome de :BlInk dOg Cr 2\n",
      "imagem salva com o nome de :BrOWnIe Cr 1\n",
      "imagem salva com o nome de :BunyIP Cr 3\n",
      "imagem salva com o nome de :CarnIvOrOuS BlOB Cr 13\n",
      "imagem salva com o nome de :CatOBlePaS Cr 12\n",
      "imagem salva com o nome de :gIant WhIPtaIl CentIPede Cr 3\n",
      "imagem salva com o nome de : tItan CentIPede Cr 9\n",
      "imagem salva com o nome de :ChaOS BeaSt Cr 7\n",
      "imagem salva com o nome de :Charda Cr 7\n",
      "imagem salva com o nome de :Charybdis Cr 13\n",
      "imagem salva com o nome de :ChuPaCabra Cr 3\n",
      "imagem salva com o nome de :giant COCkrOaCh Cr 1_2\n",
      "imagem salva com o nome de : COCkrOaCh sWarM Cr 2\n",
      "imagem salva com o nome de :CraWLing hand Cr 1_2\n",
      "imagem salva com o nome de : giant CraWLing hand Cr 5\n",
      "imagem salva com o nome de :CryPt thing Cr 5\n",
      "imagem salva com o nome de :CrysMaL Cr 3\n",
      "imagem salva com o nome de :astradaeMOn Cr 16\n",
      "imagem salva com o nome de :CaCOdaeMOn Cr 2\n",
      "imagem salva com o nome de :CeustOdaeMOn Cr 6\n",
      "imagem salva com o nome de :hydrOdaeMOn Cr 8\n",
      "imagem salva com o nome de :LeukOdaeMOn Cr 9\n",
      "imagem salva com o nome de :MeLadaeMOn Cr 11\n",
      "imagem salva com o nome de :Piscodaemon cR 10\n",
      "imagem salva com o nome de :PuRRodaemon cR 18\n",
      "imagem salva com o nome de :thanadaemon cR 13\n",
      "imagem salva com o nome de :daRk sLayeR cR 3\n",
      "imagem salva com o nome de :death WoRm cR 6\n",
      "imagem salva com o nome de :decaPus cR 4\n",
      "imagem salva com o nome de :kaLaVakus cR 10\n",
      "imagem salva com o nome de :omoX cR 12\n",
      "imagem salva com o nome de :shemhazian cR 16\n",
      "imagem salva com o nome de :VRoLikai cR 19\n",
      "imagem salva com o nome de :denizen of Leng cR 8\n",
      "imagem salva com o nome de :destRachan cR 8\n",
      "imagem salva com o nome de :accuseR deViL (zeBuB) cR 3\n",
      "imagem salva com o nome de :BeLieR deViL (BdeLLaVRitRa) cR 16\n",
      "imagem salva com o nome de :handmaiden deViL (gyLou) cR 14\n",
      "imagem salva com o nome de :immoLation deViL (PuRagaus) cR 19\n",
      "imagem salva com o nome de :Devilfish CR 4\n",
      "imagem salva com o nome de :DhAMPiR CR 1_2\n",
      "imagem salva com o nome de :AllOsAURUs CR 7\n",
      "imagem salva com o nome de : COMPsOgnAthUs CR 1_2\n",
      "imagem salva com o nome de :PARAsAUROlOPhUs CR 4\n",
      "imagem salva com o nome de : tylOsAURUs CR 8\n",
      "imagem salva com o nome de :Dragon Horse Cr 9\n",
      "imagem salva com o nome de :fLaMe DraKe Cr 5\n",
      "imagem salva com o nome de :forest DraKe Cr 4\n",
      "imagem salva com o nome de :frost DraKe Cr 7\n",
      "imagem salva com o nome de :sea DraKe Cr 6\n",
      "imagem salva com o nome de :Draugr Cr 2\n",
      "imagem salva com o nome de :DuLLaHan Cr 7\n",
      "imagem salva com o nome de :Dust DIgger Cr 4\n",
      "imagem salva com o nome de :D’zIrIaK Cr 3\n",
      "imagem salva com o nome de :facElESS StalkER (ugotHol) cR 4\n",
      "imagem salva com o nome de :fEtcHling (kayal) cR 1_2\n",
      "imagem salva com o nome de :giant fly cR 1\n",
      "imagem salva com o nome de : giant Maggot cR 1_2\n",
      "imagem salva com o nome de :foRlaRREn cR 2\n",
      "imagem salva com o nome de :fRoSt WoRM cR 12\n",
      "imagem salva com o nome de :fungal cRaWlER cR 3\n",
      "imagem salva com o nome de :gaR cR 1\n",
      "imagem salva com o nome de : giant gaR cR 6\n",
      "imagem salva com o nome de :MaRSH giant cR 8\n",
      "imagem salva com o nome de :RunE giant cR 17\n",
      "imagem salva com o nome de :taiga giant cR 12\n",
      "imagem salva com o nome de :Wood giant cR 6\n",
      "imagem salva com o nome de :glooMWing cR 4\n",
      "imagem salva com o nome de :adaMantinE golEM cR 19\n",
      "imagem salva com o nome de :alcHEMical golEM cR 9\n",
      "imagem salva com o nome de :Carrion Golem Cr 4\n",
      "imagem salva com o nome de :CloCkWork Golem Cr 12\n",
      "imagem salva com o nome de :GlaSS Golem Cr 8\n",
      "imagem salva com o nome de :mithral Golem Cr 16\n",
      "imagem salva com o nome de :Gray renDer Cr 8\n",
      "imagem salva com o nome de :Jinkin Cr 1\n",
      "imagem salva com o nome de :nuGluB Cr 2\n",
      "imagem salva com o nome de :PuGWamPi Cr 1_2\n",
      "imagem salva com o nome de :VeXGit Cr 1\n",
      "imagem salva com o nome de :GriCk Cr 3\n",
      "imagem salva com o nome de :GriG Cr 1\n",
      "imagem salva com o nome de :GrinDyloW Cr 1_2\n",
      "imagem salva com o nome de :GryPh Cr 1\n",
      "imagem salva com o nome de :GuG Cr 10\n",
      "imagem salva com o nome de :Hangman Tree Cr 7\n",
      "imagem salva com o nome de :HeLLCaT Cr 7\n",
      "imagem salva com o nome de :CameL Cr 1\n",
      "imagem salva com o nome de : ram Cr 1\n",
      "imagem salva com o nome de :HIPPOCamPuS Cr 1\n",
      "imagem salva com o nome de :HIPPOPOTamuS Cr 5\n",
      "imagem salva com o nome de : BeHemOTH HIPPOPOTamuS Cr 10\n",
      "imagem salva com o nome de :HOunD Of TInDaLOS Cr 7\n",
      "imagem salva com o nome de :HOWLer Cr 3\n"
     ]
    },
    {
     "ename": "UnboundLocalError",
     "evalue": "local variable 'img_creature' referenced before assignment",
     "output_type": "error",
     "traceback": [
      "\u001b[1;31m---------------------------------------------------------------------------\u001b[0m",
      "\u001b[1;31mUnboundLocalError\u001b[0m                         Traceback (most recent call last)",
      "\u001b[1;32m~\\AppData\\Local\\Temp/ipykernel_9016/2365150382.py\u001b[0m in \u001b[0;36mimg_names_b2\u001b[1;34m(pg)\u001b[0m\n\u001b[0;32m     16\u001b[0m             \u001b[1;32mtry\u001b[0m\u001b[1;33m:\u001b[0m\u001b[1;33m\u001b[0m\u001b[1;33m\u001b[0m\u001b[0m\n\u001b[1;32m---> 17\u001b[1;33m                     \u001b[0mimagem_pronta\u001b[0m \u001b[1;33m=\u001b[0m \u001b[0mPIL\u001b[0m\u001b[1;33m.\u001b[0m\u001b[0mImage\u001b[0m\u001b[1;33m.\u001b[0m\u001b[0mopen\u001b[0m\u001b[1;33m(\u001b[0m\u001b[0mio\u001b[0m\u001b[1;33m.\u001b[0m\u001b[0mBytesIO\u001b[0m\u001b[1;33m(\u001b[0m\u001b[0mreq_image\u001b[0m\u001b[1;33m(\u001b[0m\u001b[0mpg\u001b[0m\u001b[1;33m)\u001b[0m\u001b[1;33m)\u001b[0m\u001b[1;33m)\u001b[0m\u001b[1;31m# abrindo a imagem gerada pela funcao req_image\u001b[0m\u001b[1;33m\u001b[0m\u001b[1;33m\u001b[0m\u001b[0m\n\u001b[0m\u001b[0;32m     18\u001b[0m \u001b[1;33m\u001b[0m\u001b[0m\n",
      "\u001b[1;32m~\\AppData\\Local\\Temp/ipykernel_9016/2448372712.py\u001b[0m in \u001b[0;36mreq_image\u001b[1;34m(argumento)\u001b[0m\n\u001b[0;32m     13\u001b[0m                 \u001b[1;34m''\u001b[0m\u001b[1;33m\u001b[0m\u001b[1;33m\u001b[0m\u001b[0m\n\u001b[1;32m---> 14\u001b[1;33m     \u001b[0mimagem_isolada\u001b[0m \u001b[1;33m=\u001b[0m \u001b[0mdoc\u001b[0m\u001b[1;33m.\u001b[0m\u001b[0mextract_image\u001b[0m\u001b[1;33m(\u001b[0m\u001b[0mimg_creature\u001b[0m\u001b[1;33m[\u001b[0m\u001b[1;36m0\u001b[0m\u001b[1;33m]\u001b[0m\u001b[1;33m)\u001b[0m\u001b[1;33m[\u001b[0m\u001b[1;34m'image'\u001b[0m\u001b[1;33m]\u001b[0m\u001b[1;33m\u001b[0m\u001b[1;33m\u001b[0m\u001b[0m\n\u001b[0m\u001b[0;32m     15\u001b[0m \u001b[1;33m\u001b[0m\u001b[0m\n",
      "\u001b[1;31mUnboundLocalError\u001b[0m: local variable 'img_creature' referenced before assignment",
      "\nDuring handling of the above exception, another exception occurred:\n",
      "\u001b[1;31mUnboundLocalError\u001b[0m                         Traceback (most recent call last)",
      "\u001b[1;32m~\\AppData\\Local\\Temp/ipykernel_9016/2026595927.py\u001b[0m in \u001b[0;36m<module>\u001b[1;34m\u001b[0m\n\u001b[0;32m      1\u001b[0m \u001b[1;32mfor\u001b[0m \u001b[0mi\u001b[0m \u001b[1;32min\u001b[0m \u001b[0mrange\u001b[0m \u001b[1;33m(\u001b[0m\u001b[1;36m7\u001b[0m\u001b[1;33m,\u001b[0m\u001b[1;36m292\u001b[0m\u001b[1;33m)\u001b[0m\u001b[1;33m:\u001b[0m\u001b[1;33m\u001b[0m\u001b[1;33m\u001b[0m\u001b[0m\n\u001b[1;32m----> 2\u001b[1;33m     \u001b[0mimg_names_b2\u001b[0m\u001b[1;33m(\u001b[0m\u001b[0mi\u001b[0m\u001b[1;33m)\u001b[0m\u001b[1;33m\u001b[0m\u001b[1;33m\u001b[0m\u001b[0m\n\u001b[0m\u001b[0;32m      3\u001b[0m \u001b[1;33m\u001b[0m\u001b[0m\n\u001b[0;32m      4\u001b[0m \u001b[1;33m\u001b[0m\u001b[0m\n\u001b[0;32m      5\u001b[0m \u001b[1;33m\u001b[0m\u001b[0m\n",
      "\u001b[1;32m~\\AppData\\Local\\Temp/ipykernel_9016/2365150382.py\u001b[0m in \u001b[0;36mimg_names_b2\u001b[1;34m(pg)\u001b[0m\n\u001b[0;32m     22\u001b[0m \u001b[1;33m\u001b[0m\u001b[0m\n\u001b[0;32m     23\u001b[0m             \u001b[1;32mexcept\u001b[0m\u001b[1;33m:\u001b[0m\u001b[1;33m\u001b[0m\u001b[1;33m\u001b[0m\u001b[0m\n\u001b[1;32m---> 24\u001b[1;33m                     \u001b[0mimagem_pronta\u001b[0m \u001b[1;33m=\u001b[0m \u001b[0mPIL\u001b[0m\u001b[1;33m.\u001b[0m\u001b[0mImage\u001b[0m\u001b[1;33m.\u001b[0m\u001b[0mopen\u001b[0m\u001b[1;33m(\u001b[0m\u001b[0mio\u001b[0m\u001b[1;33m.\u001b[0m\u001b[0mBytesIO\u001b[0m\u001b[1;33m(\u001b[0m\u001b[0mreq_image\u001b[0m\u001b[1;33m(\u001b[0m\u001b[0mpg\u001b[0m\u001b[1;33m+\u001b[0m\u001b[1;36m1\u001b[0m\u001b[1;33m)\u001b[0m\u001b[1;33m)\u001b[0m\u001b[1;33m)\u001b[0m\u001b[1;31m# abrindo a imagem gerada pela funcao req_image\u001b[0m\u001b[1;33m\u001b[0m\u001b[1;33m\u001b[0m\u001b[0m\n\u001b[0m\u001b[0;32m     25\u001b[0m \u001b[1;33m\u001b[0m\u001b[0m\n\u001b[0;32m     26\u001b[0m                     \u001b[0mimagem_pronta\u001b[0m\u001b[1;33m.\u001b[0m\u001b[0msave\u001b[0m\u001b[1;33m(\u001b[0m\u001b[1;34m'C:/Users/Escanor/Desktop/Iron HAck/Projetos/Projeto obrigatorio/Pathfinder/img_name_b2/'\u001b[0m\u001b[1;33m+\u001b[0m\u001b[0mname_monster\u001b[0m\u001b[1;33m+\u001b[0m\u001b[1;34m'.jpg'\u001b[0m\u001b[1;33m)\u001b[0m\u001b[1;33m\u001b[0m\u001b[1;33m\u001b[0m\u001b[0m\n",
      "\u001b[1;32m~\\AppData\\Local\\Temp/ipykernel_9016/2448372712.py\u001b[0m in \u001b[0;36mreq_image\u001b[1;34m(argumento)\u001b[0m\n\u001b[0;32m     12\u001b[0m             \u001b[1;32melse\u001b[0m\u001b[1;33m:\u001b[0m\u001b[1;33m\u001b[0m\u001b[1;33m\u001b[0m\u001b[0m\n\u001b[0;32m     13\u001b[0m                 \u001b[1;34m''\u001b[0m\u001b[1;33m\u001b[0m\u001b[1;33m\u001b[0m\u001b[0m\n\u001b[1;32m---> 14\u001b[1;33m     \u001b[0mimagem_isolada\u001b[0m \u001b[1;33m=\u001b[0m \u001b[0mdoc\u001b[0m\u001b[1;33m.\u001b[0m\u001b[0mextract_image\u001b[0m\u001b[1;33m(\u001b[0m\u001b[0mimg_creature\u001b[0m\u001b[1;33m[\u001b[0m\u001b[1;36m0\u001b[0m\u001b[1;33m]\u001b[0m\u001b[1;33m)\u001b[0m\u001b[1;33m[\u001b[0m\u001b[1;34m'image'\u001b[0m\u001b[1;33m]\u001b[0m\u001b[1;33m\u001b[0m\u001b[1;33m\u001b[0m\u001b[0m\n\u001b[0m\u001b[0;32m     15\u001b[0m \u001b[1;33m\u001b[0m\u001b[0m\n\u001b[0;32m     16\u001b[0m     \u001b[1;32mreturn\u001b[0m \u001b[0mimagem_isolada\u001b[0m\u001b[1;33m\u001b[0m\u001b[1;33m\u001b[0m\u001b[0m\n",
      "\u001b[1;31mUnboundLocalError\u001b[0m: local variable 'img_creature' referenced before assignment"
     ]
    }
   ],
   "source": [
    "for i in range (7,292):\n",
    "    img_names_b2(i)\n",
    "    \n",
    "    \n",
    "    "
   ]
  },
  {
   "cell_type": "code",
   "execution_count": 31,
   "id": "6a89c341-515f-43df-996c-cf228aa2c077",
   "metadata": {},
   "outputs": [],
   "source": [
    "#  page_text = doc[9]  # salvando a pagina [numero da pagina] como page_text \n",
    "#  words = page_text.get_text(\"words\") \n",
    "#  \n",
    "#  words"
   ]
  },
  {
   "cell_type": "code",
   "execution_count": null,
   "id": "625012b7-c5db-434d-bb2b-b9ec38757b41",
   "metadata": {},
   "outputs": [],
   "source": []
  }
 ],
 "metadata": {
  "kernelspec": {
   "display_name": "Python 3 (ipykernel)",
   "language": "python",
   "name": "python3"
  },
  "language_info": {
   "codemirror_mode": {
    "name": "ipython",
    "version": 3
   },
   "file_extension": ".py",
   "mimetype": "text/x-python",
   "name": "python",
   "nbconvert_exporter": "python",
   "pygments_lexer": "ipython3",
   "version": "3.9.7"
  }
 },
 "nbformat": 4,
 "nbformat_minor": 5
}
